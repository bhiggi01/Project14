{
 "cells": [
  {
   "cell_type": "markdown",
   "id": "ad2d6f56",
   "metadata": {},
   "source": [
    "# Jupyter Notebook 5 - Notebook for creating datasets"
   ]
  },
  {
   "cell_type": "markdown",
   "id": "5f239b15",
   "metadata": {},
   "source": [
    "---"
   ]
  },
  {
   "cell_type": "markdown",
   "id": "0f45e2f5",
   "metadata": {},
   "source": [
    "# Notebook overview"
   ]
  },
  {
   "cell_type": "markdown",
   "id": "21b3cf5c",
   "metadata": {},
   "source": [
    "I wanted a notebook to have a record of creating or using datasets for different parts of the project."
   ]
  },
  {
   "cell_type": "markdown",
   "id": "77b9398d",
   "metadata": {},
   "source": [
    "**List of datasets:**\n",
    "   - 1) Preprocessed Day 1 split into 50:50:\n",
    "        - Take Preprocessed Day 1 take and randomise and split into 50:50.\n",
    "        - First half will be used to train the baseline models in AWS.\n",
    "        - Second half will be used with Kafka in the Real Time part of the project.\n",
    "   \n",
    "   - 2) Combined Dataset split into 50:50: ids_2018\n",
    "        - Take ids_2018 and randomise the split into 50:50\n",
    "        - An even distribution of each label in each split."
   ]
  },
  {
   "cell_type": "markdown",
   "id": "9adad7fa",
   "metadata": {},
   "source": [
    "---"
   ]
  },
  {
   "cell_type": "code",
   "execution_count": 14,
   "id": "5252076d",
   "metadata": {
    "ExecuteTime": {
     "end_time": "2023-11-22T18:18:42.942329Z",
     "start_time": "2023-11-22T18:18:42.928809Z"
    }
   },
   "outputs": [],
   "source": [
    "# Libraries\n",
    "import os\n",
    "import pandas as pd"
   ]
  },
  {
   "cell_type": "markdown",
   "id": "994dc3f7",
   "metadata": {},
   "source": [
    "# Preprocessed Day 1 split into 50:50"
   ]
  },
  {
   "cell_type": "code",
   "execution_count": 15,
   "id": "f0fe7895",
   "metadata": {
    "ExecuteTime": {
     "end_time": "2023-11-22T18:18:43.162745Z",
     "start_time": "2023-11-22T18:18:42.944328Z"
    }
   },
   "outputs": [],
   "source": [
    "# Location of preprocessed file\n",
    "folder_path = r\"C:\\Users\\Kolobane\\OneDrive\\CIT MSc Data Science Modules\\_Semester Three - Final Project\\Project Two - Network Project\\Notebooks\"\n",
    "file_path = os.path.join(folder_path, \"data_1_processed.parquet\")\n",
    "\n",
    "# load data\n",
    "data_1_processed = pd.read_parquet(file_path, engine=\"pyarrow\")"
   ]
  },
  {
   "cell_type": "code",
   "execution_count": 16,
   "id": "18beaf29",
   "metadata": {
    "ExecuteTime": {
     "end_time": "2023-11-22T18:18:43.177768Z",
     "start_time": "2023-11-22T18:18:43.164745Z"
    }
   },
   "outputs": [
    {
     "name": "stdout",
     "output_type": "stream",
     "text": [
      "Print size: 326.80 MB\n"
     ]
    }
   ],
   "source": [
    "# Explore the head of the file.\n",
    "# data_1_processed\n",
    "\n",
    "file_size = data_1_processed.memory_usage(deep=True).sum()\n",
    "print(f\"Print size: {file_size /(1024*1024):.2f} MB\")"
   ]
  },
  {
   "cell_type": "code",
   "execution_count": 17,
   "id": "7f557d56",
   "metadata": {
    "ExecuteTime": {
     "end_time": "2023-11-22T18:18:44.074398Z",
     "start_time": "2023-11-22T18:18:43.179271Z"
    }
   },
   "outputs": [],
   "source": [
    "# Randomise the data\n",
    "randomise_data = data_1_processed.sample(frac=1, random_state=42).reset_index(drop=True)"
   ]
  },
  {
   "cell_type": "code",
   "execution_count": 18,
   "id": "a12449fa",
   "metadata": {
    "ExecuteTime": {
     "end_time": "2023-11-22T18:18:44.105444Z",
     "start_time": "2023-11-22T18:18:44.075399Z"
    }
   },
   "outputs": [],
   "source": [
    "# Split and create two two files\n",
    "half_length = len(randomise_data) // 2\n",
    "\n",
    "data_1_processed_1_1 = randomise_data.iloc[:half_length] \n",
    "data_1_processed_1_2 = randomise_data.iloc[half_length:]"
   ]
  },
  {
   "cell_type": "markdown",
   "id": "ca62de3a",
   "metadata": {},
   "source": [
    "Now, I have two halves of the first day of data which will be used to train the baseline model on AWS and the Real Time Model using Kafka."
   ]
  },
  {
   "cell_type": "code",
   "execution_count": 19,
   "id": "0f3efffc",
   "metadata": {
    "ExecuteTime": {
     "end_time": "2023-11-22T18:18:47.636724Z",
     "start_time": "2023-11-22T18:18:44.106951Z"
    }
   },
   "outputs": [],
   "source": [
    "# Save to file\n",
    "folder_path = r\"C:\\Users\\Kolobane\\OneDrive\\CIT MSc Data Science Modules\\_Semester Three - Final Project\\Project Two - Network Project\\Notebooks\\Working data files from notebooks\"\n",
    "\n",
    "data_1_processed_1_1.to_parquet(os.path.join(folder_path, \"data_1_processed_1_1.parquet\"))\n",
    "data_1_processed_1_2.to_parquet(os.path.join(folder_path, \"data_1_processed_1_2.parquet\"))"
   ]
  },
  {
   "cell_type": "markdown",
   "id": "e82ef0e5",
   "metadata": {},
   "source": [
    "## File sizes and changes"
   ]
  },
  {
   "cell_type": "code",
   "execution_count": 20,
   "id": "74b6ce0e",
   "metadata": {
    "ExecuteTime": {
     "end_time": "2023-11-22T18:18:47.652769Z",
     "start_time": "2023-11-22T18:18:47.640255Z"
    }
   },
   "outputs": [
    {
     "data": {
      "text/plain": [
       "(70485080, 68833.0859375, 67.21981048583984)"
      ]
     },
     "execution_count": 20,
     "metadata": {},
     "output_type": "execute_result"
    }
   ],
   "source": [
    "file_path = 'C:/Users/Kolobane/OneDrive/CIT MSc Data Science Modules/_Semester Three - Final Project/Project Two - Network Project/Notebooks/data_1_processed.parquet'\n",
    "file_size= os.path.getsize(file_path)\n",
    "file_size_kb = file_size / 1024\n",
    "file_size_mb = file_size_kb / 1024\n",
    "\n",
    "file_size, file_size_kb, file_size_mb"
   ]
  },
  {
   "cell_type": "code",
   "execution_count": 21,
   "id": "605b2c44",
   "metadata": {
    "ExecuteTime": {
     "end_time": "2023-11-22T18:18:47.668328Z",
     "start_time": "2023-11-22T18:18:47.654763Z"
    }
   },
   "outputs": [
    {
     "data": {
      "text/plain": [
       "(42260319, 41269.8427734375, 40.30258083343506)"
      ]
     },
     "execution_count": 21,
     "metadata": {},
     "output_type": "execute_result"
    }
   ],
   "source": [
    "file_path = 'C:/Users/Kolobane/OneDrive/CIT MSc Data Science Modules/_Semester Three - Final Project/Project Two - Network Project/Notebooks/Working data files from notebooks/data_1_processed_1_1.parquet'\n",
    "file_size= os.path.getsize(file_path)\n",
    "file_size_kb = file_size / 1024\n",
    "file_size_mb = file_size_kb / 1024\n",
    "\n",
    "file_size, file_size_kb, file_size_mb"
   ]
  },
  {
   "cell_type": "code",
   "execution_count": 22,
   "id": "fc2c4301",
   "metadata": {
    "ExecuteTime": {
     "end_time": "2023-11-22T18:18:47.684385Z",
     "start_time": "2023-11-22T18:18:47.670343Z"
    }
   },
   "outputs": [
    {
     "data": {
      "text/plain": [
       "(42815319, 41811.8349609375, 40.83187007904053)"
      ]
     },
     "execution_count": 22,
     "metadata": {},
     "output_type": "execute_result"
    }
   ],
   "source": [
    "file_path = 'C:/Users/Kolobane/OneDrive/CIT MSc Data Science Modules/_Semester Three - Final Project/Project Two - Network Project/Notebooks/Working data files from notebooks/data_1_processed_1_2.parquet'\n",
    "file_size= os.path.getsize(file_path)\n",
    "file_size_kb = file_size / 1024\n",
    "file_size_mb = file_size_kb / 1024\n",
    "\n",
    "file_size, file_size_kb, file_size_mb"
   ]
  },
  {
   "cell_type": "markdown",
   "id": "cf8fd5f6",
   "metadata": {},
   "source": [
    "## Save file to csv"
   ]
  },
  {
   "cell_type": "code",
   "execution_count": 23,
   "id": "9c250b95",
   "metadata": {
    "ExecuteTime": {
     "end_time": "2023-11-22T18:19:14.358782Z",
     "start_time": "2023-11-22T18:18:47.688903Z"
    }
   },
   "outputs": [],
   "source": [
    "# Now save the DataFrame to a CSV file\n",
    "data_1_processed_1_1.to_csv('data_1_processed_1_1.csv', index=False)"
   ]
  },
  {
   "cell_type": "markdown",
   "id": "76c0eca5",
   "metadata": {},
   "source": [
    "# Combined Dataset split into 50:50"
   ]
  },
  {
   "cell_type": "code",
   "execution_count": 24,
   "id": "581512c7",
   "metadata": {
    "ExecuteTime": {
     "end_time": "2023-11-22T18:19:18.497063Z",
     "start_time": "2023-11-22T18:19:14.360786Z"
    }
   },
   "outputs": [],
   "source": [
    "# Location of preprocessed file\n",
    "folder_path = r\"C:\\Users\\Kolobane\\OneDrive\\CIT MSc Data Science Modules\\_Semester Three - Final Project\\Project Two - Network Project\\Notebooks\"\n",
    "file_path = os.path.join(folder_path, \"ids_2018.parquet\")\n",
    "\n",
    "# load data\n",
    "data = pd.read_parquet(file_path, engine=\"pyarrow\")"
   ]
  },
  {
   "cell_type": "code",
   "execution_count": 25,
   "id": "6efb8bee",
   "metadata": {
    "ExecuteTime": {
     "end_time": "2023-11-22T18:19:18.512527Z",
     "start_time": "2023-11-22T18:19:18.499003Z"
    }
   },
   "outputs": [
    {
     "data": {
      "text/plain": [
       "16137183"
      ]
     },
     "execution_count": 25,
     "metadata": {},
     "output_type": "execute_result"
    }
   ],
   "source": [
    "data.shape[0]"
   ]
  },
  {
   "cell_type": "markdown",
   "id": "bffdd2f2",
   "metadata": {},
   "source": [
    "Split the data in 50%, make sure 50% of the label 1 (the attack labels) are in each split."
   ]
  },
  {
   "cell_type": "code",
   "execution_count": 26,
   "id": "a4836b10",
   "metadata": {
    "ExecuteTime": {
     "end_time": "2023-11-22T18:19:19.343415Z",
     "start_time": "2023-11-22T18:19:18.514527Z"
    }
   },
   "outputs": [],
   "source": [
    "from sklearn.model_selection import train_test_split"
   ]
  },
  {
   "cell_type": "code",
   "execution_count": 27,
   "id": "83d2e5f2",
   "metadata": {
    "ExecuteTime": {
     "end_time": "2023-11-22T18:19:53.078568Z",
     "start_time": "2023-11-22T18:19:19.344417Z"
    }
   },
   "outputs": [],
   "source": [
    "data_1, data_2 = train_test_split(data, test_size=0.5, random_state=42, stratify=data[\"Label\"])"
   ]
  },
  {
   "cell_type": "code",
   "execution_count": 28,
   "id": "557d0551",
   "metadata": {
    "ExecuteTime": {
     "end_time": "2023-11-22T18:19:53.094081Z",
     "start_time": "2023-11-22T18:19:53.079536Z"
    }
   },
   "outputs": [
    {
     "data": {
      "text/plain": [
       "(8068591, 8068592)"
      ]
     },
     "execution_count": 28,
     "metadata": {},
     "output_type": "execute_result"
    }
   ],
   "source": [
    "data_1.shape[0], data_2.shape[0]"
   ]
  },
  {
   "cell_type": "code",
   "execution_count": 29,
   "id": "56dbf27b",
   "metadata": {
    "ExecuteTime": {
     "end_time": "2023-11-22T18:19:54.947645Z",
     "start_time": "2023-11-22T18:19:53.096052Z"
    }
   },
   "outputs": [
    {
     "data": {
      "image/png": "[encoded data removed]",
      "text/plain": [
       "<Figure size 1400x700 with 2 Axes>"
      ]
     },
     "metadata": {},
     "output_type": "display_data"
    }
   ],
   "source": [
    "import matplotlib.pyplot as plt\n",
    "\n",
    "# change the lables 1, 0 to display what they are\n",
    "data_1['Label'] = data_1[\"Label\"].replace({0:\"Benign Network Data\", 1:\"Attack Network Data\"})\n",
    "data_2['Label'] = data_2[\"Label\"].replace({0:\"Benign Network Data\", 1:\"Attack Network Data\"})\n",
    "\n",
    "#Piechart for each dataset\n",
    "label_counts_1 = data_1['Label'].value_counts()\n",
    "label_counts_2 = data_2['Label'].value_counts()\n",
    "\n",
    "fig, ax =plt.subplots(1,2, figsize=(14,7))\n",
    "\n",
    "ax[0].pie(label_counts_1, labels=label_counts_1.index, autopct='%1.1f%%', startangle=140)\n",
    "ax[0].set_title(\"Label Distribution in data 1\")\n",
    "\n",
    "ax[1].pie(label_counts_2, labels=label_counts_2.index, autopct='%1.1f%%', startangle=140)\n",
    "ax[1].set_title(\"Label Distribution in data 2\")\n",
    "\n",
    "\n",
    "plt.tight_layout()\n",
    "plt.show()"
   ]
  },
  {
   "cell_type": "code",
   "execution_count": 30,
   "id": "d718720a",
   "metadata": {
    "ExecuteTime": {
     "end_time": "2023-11-22T18:19:59.842489Z",
     "start_time": "2023-11-22T18:19:54.949646Z"
    }
   },
   "outputs": [],
   "source": [
    "# save the lables 1, 0 back\n",
    "data_1['Label'] = data_1['Label'].replace({\"Benign Network Data\": 0, \"Attack Network Data\": 1})\n",
    "data_2['Label'] = data_2['Label'].replace({\"Benign Network Data\": 0, \"Attack Network Data\": 1})"
   ]
  },
  {
   "cell_type": "code",
   "execution_count": 31,
   "id": "14a30d09",
   "metadata": {
    "ExecuteTime": {
     "end_time": "2023-11-22T18:20:44.059592Z",
     "start_time": "2023-11-22T18:19:59.844488Z"
    }
   },
   "outputs": [],
   "source": [
    "# Save datasets\n",
    "data_1.to_parquet('ids_2018_baseline_data.parquet')\n",
    "data_2.to_parquet('ids_2018_streaming_data.parquet')"
   ]
  },
  {
   "cell_type": "code",
   "execution_count": 32,
   "id": "249e0fd1",
   "metadata": {
    "ExecuteTime": {
     "end_time": "2023-11-22T18:20:44.075072Z",
     "start_time": "2023-11-22T18:20:44.061561Z"
    }
   },
   "outputs": [
    {
     "name": "stdout",
     "output_type": "stream",
     "text": [
      "Baseline data file size: 967215888 bytes\n",
      "Stream data file size: 971577902 bytes\n"
     ]
    }
   ],
   "source": [
    "# Get file sizes\n",
    "folder_path = r\"C:\\Users\\Kolobane\\OneDrive\\CIT MSc Data Science Modules\\_Semester Three - Final Project\\Project Two - Network Project\\Notebooks\"\n",
    "\n",
    "baseline_file = os.path.join(folder_path, 'ids_2018_baseline_data.parquet')\n",
    "stream_file = os.path.join(folder_path, 'ids_2018_streaming_data.parquet')\n",
    "\n",
    "baseline_size = os.path.getsize(baseline_file)\n",
    "stream_size = os.path.getsize(stream_file)\n",
    "\n",
    "print(f\"Baseline data file size: {baseline_size} bytes\")\n",
    "print(f\"Stream data file size: {stream_size} bytes\")"
   ]
  },
  {
   "cell_type": "markdown",
   "id": "145429f3",
   "metadata": {},
   "source": [
    "---"
   ]
  },
  {
   "cell_type": "code",
   "execution_count": 33,
   "id": "dc4ab601",
   "metadata": {
    "ExecuteTime": {
     "end_time": "2023-11-22T18:20:44.810633Z",
     "start_time": "2023-11-22T18:20:44.077073Z"
    }
   },
   "outputs": [
    {
     "name": "stdout",
     "output_type": "stream",
     "text": [
      "<class 'pandas.core.frame.DataFrame'>\n",
      "Int64Index: 8068591 entries, 873164 to 754509\n",
      "Data columns (total 71 columns):\n",
      " #   Column             Dtype  \n",
      "---  ------             -----  \n",
      " 0   Dst Port           float32\n",
      " 1   Protocol           float32\n",
      " 2   Flow Duration      float32\n",
      " 3   Tot Fwd Pkts       float32\n",
      " 4   Tot Bwd Pkts       float32\n",
      " 5   TotLen Fwd Pkts    float32\n",
      " 6   TotLen Bwd Pkts    float32\n",
      " 7   Fwd Pkt Len Max    float32\n",
      " 8   Fwd Pkt Len Min    float32\n",
      " 9   Fwd Pkt Len Mean   float32\n",
      " 10  Fwd Pkt Len Std    float32\n",
      " 11  Bwd Pkt Len Max    float32\n",
      " 12  Bwd Pkt Len Min    float32\n",
      " 13  Bwd Pkt Len Mean   float32\n",
      " 14  Bwd Pkt Len Std    float32\n",
      " 15  Flow Byts/s        float32\n",
      " 16  Flow Pkts/s        float32\n",
      " 17  Flow IAT Mean      float32\n",
      " 18  Flow IAT Std       float32\n",
      " 19  Flow IAT Max       float32\n",
      " 20  Flow IAT Min       float32\n",
      " 21  Fwd IAT Tot        float32\n",
      " 22  Fwd IAT Mean       float32\n",
      " 23  Fwd IAT Std        float32\n",
      " 24  Fwd IAT Max        float32\n",
      " 25  Fwd IAT Min        float32\n",
      " 26  Bwd IAT Tot        float32\n",
      " 27  Bwd IAT Mean       float32\n",
      " 28  Bwd IAT Std        float32\n",
      " 29  Bwd IAT Max        float32\n",
      " 30  Bwd IAT Min        float32\n",
      " 31  Fwd PSH Flags      float32\n",
      " 32  Fwd URG Flags      float32\n",
      " 33  Fwd Header Len     float32\n",
      " 34  Bwd Header Len     float32\n",
      " 35  Fwd Pkts/s         float32\n",
      " 36  Bwd Pkts/s         float32\n",
      " 37  Pkt Len Min        float32\n",
      " 38  Pkt Len Max        float32\n",
      " 39  Pkt Len Mean       float32\n",
      " 40  Pkt Len Std        float32\n",
      " 41  Pkt Len Var        float32\n",
      " 42  FIN Flag Cnt       float32\n",
      " 43  SYN Flag Cnt       float32\n",
      " 44  RST Flag Cnt       float32\n",
      " 45  PSH Flag Cnt       float32\n",
      " 46  ACK Flag Cnt       float32\n",
      " 47  URG Flag Cnt       float32\n",
      " 48  CWE Flag Count     float32\n",
      " 49  ECE Flag Cnt       float32\n",
      " 50  Down/Up Ratio      float32\n",
      " 51  Pkt Size Avg       float32\n",
      " 52  Fwd Seg Size Avg   float32\n",
      " 53  Bwd Seg Size Avg   float32\n",
      " 54  Subflow Fwd Pkts   float32\n",
      " 55  Subflow Fwd Byts   float32\n",
      " 56  Subflow Bwd Pkts   float32\n",
      " 57  Subflow Bwd Byts   float32\n",
      " 58  Init Fwd Win Byts  float32\n",
      " 59  Init Bwd Win Byts  float32\n",
      " 60  Fwd Act Data Pkts  float32\n",
      " 61  Fwd Seg Size Min   float32\n",
      " 62  Active Mean        float32\n",
      " 63  Active Std         float32\n",
      " 64  Active Max         float32\n",
      " 65  Active Min         float32\n",
      " 66  Idle Mean          float32\n",
      " 67  Idle Std           float32\n",
      " 68  Idle Max           float32\n",
      " 69  Idle Min           float32\n",
      " 70  Label              int64  \n",
      "dtypes: float32(70), int64(1)\n",
      "memory usage: 2.2 GB\n"
     ]
    }
   ],
   "source": [
    "data_1.info()"
   ]
  },
  {
   "cell_type": "markdown",
   "id": "7e8fe9c3",
   "metadata": {},
   "source": [
    "---"
   ]
  },
  {
   "cell_type": "code",
   "execution_count": 34,
   "id": "9003af3e",
   "metadata": {
    "ExecuteTime": {
     "end_time": "2023-11-22T18:20:45.282568Z",
     "start_time": "2023-11-22T18:20:44.813140Z"
    }
   },
   "outputs": [
    {
     "name": "stdout",
     "output_type": "stream",
     "text": [
      "Code runs completely\n"
     ]
    }
   ],
   "source": [
    "print(\"Code runs completely\")"
   ]
  }
 ],
 "metadata": {
  "kernelspec": {
   "display_name": "Python (bscapstone)",
   "language": "python",
   "name": "bscapstone"
  },
  "language_info": {
   "codemirror_mode": {
    "name": "ipython",
    "version": 3
   },
   "file_extension": ".py",
   "mimetype": "text/x-python",
   "name": "python",
   "nbconvert_exporter": "python",
   "pygments_lexer": "ipython3",
   "version": "3.9.18"
  },
  "toc": {
   "base_numbering": 1,
   "nav_menu": {},
   "number_sections": true,
   "sideBar": true,
   "skip_h1_title": false,
   "title_cell": "Table of Contents",
   "title_sidebar": "Contents",
   "toc_cell": false,
   "toc_position": {},
   "toc_section_display": true,
   "toc_window_display": false
  }
 },
 "nbformat": 4,
 "nbformat_minor": 5
}
