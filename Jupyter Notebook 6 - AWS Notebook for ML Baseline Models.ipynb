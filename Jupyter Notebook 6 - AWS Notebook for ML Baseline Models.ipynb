{
 "cells": [
  {
   "cell_type": "markdown",
   "id": "6b0a72a9",
   "metadata": {},
   "source": [
    "# Jupyter Notebook 6: AWS Notebook for ML Baseline Models - This has moved to AWS. "
   ]
  },
  {
   "cell_type": "markdown",
   "id": "50c64ff4",
   "metadata": {},
   "source": [
    "---"
   ]
  },
  {
   "cell_type": "markdown",
   "id": "5fb6de21",
   "metadata": {},
   "source": [
    "# Introduction"
   ]
  },
  {
   "cell_type": "markdown",
   "id": "360bf3fc",
   "metadata": {},
   "source": [
    "This Notebook is used to get a baseline model for use in the real time section of the project.\n",
    "\n",
    "4 models will be run, first with a baseline model and then with a Search for the best tuning parameters.\n",
    "   - 1) Random Forest Model\n",
    "   - 2) K-Means Model\n",
    "   - 3) Isolate Forest Model\n",
    "   - 4) One Class SVM Model\n",
    "   \n",
    "Previous research has shown very high accuracy results from models so this will be expected from these models. The previous studies did not discuss the Data Preprocessing steps in enough detail to explore why this is the case.\n",
    "\n",
    "The data is highly imbalanced which is accepted for this study as this is a real world representation of network traffic in the real world. \n",
    "\n",
    "The Results will be stored to be the local SQL Database for comparison later on the Dashboard."
   ]
  },
  {
   "cell_type": "markdown",
   "id": "522e83eb",
   "metadata": {},
   "source": [
    "---"
   ]
  },
  {
   "cell_type": "markdown",
   "id": "582915e1",
   "metadata": {},
   "source": [
    "# Load data and pretraining steps"
   ]
  },
  {
   "cell_type": "code",
   "execution_count": 66,
   "id": "bf99cd74",
   "metadata": {
    "ExecuteTime": {
     "end_time": "2023-12-11T21:32:32.808358Z",
     "start_time": "2023-12-11T21:32:32.796845Z"
    }
   },
   "outputs": [],
   "source": [
    "# General\n",
    "import os\n",
    "import time\n",
    "\n",
    "# Data Manipulation\n",
    "import pandas as pd\n",
    "import numpy as np\n",
    "\n",
    "# Data Visualisation\n",
    "import matplotlib.pyplot as plt\n",
    "\n",
    "# Data Types\n",
    "import json\n",
    "import mysql.connector\n",
    "from joblib import dump, load\n",
    "import pickle\n",
    "\n",
    "\n",
    "# Machine Learning\n",
    "from sklearn.model_selection import train_test_split\n",
    "from sklearn.ensemble import RandomForestClassifier\n",
    "from sklearn.cluster import KMeans\n",
    "from sklearn.ensemble import IsolationForest\n",
    "from sklearn.svm import OneClassSVM\n",
    "\n",
    "# Getting metrics\n",
    "from sklearn.metrics import silhouette_score\n",
    "from sklearn.metrics import confusion_matrix, classification_report\n",
    "from sklearn.metrics import confusion_matrix as cm_function\n",
    "from sklearn.metrics import accuracy_score, precision_score, recall_score, f1_score\n",
    "from sklearn.metrics import roc_curve, auc, average_precision_score\n",
    "from sklearn.metrics import precision_recall_curve"
   ]
  },
  {
   "cell_type": "code",
   "execution_count": 12,
   "id": "f25d91df",
   "metadata": {
    "ExecuteTime": {
     "end_time": "2023-12-11T20:45:19.319596Z",
     "start_time": "2023-12-11T20:45:19.304599Z"
    }
   },
   "outputs": [],
   "source": [
    "import warnings\n",
    "warnings.filterwarnings('ignore')"
   ]
  },
  {
   "cell_type": "code",
   "execution_count": 13,
   "id": "421a3940",
   "metadata": {
    "ExecuteTime": {
     "end_time": "2023-12-11T20:45:21.517507Z",
     "start_time": "2023-12-11T20:45:19.878879Z"
    }
   },
   "outputs": [],
   "source": [
    "# Location of preprocessed file\n",
    "folder_path = r\"C:\\Users\\Kolobane\\OneDrive\\CIT MSc Data Science Modules\\_Semester Three - Final Project\\Project Two - Network Project\\Notebooks\"\n",
    "file_path = os.path.join(folder_path, \"ids_2018_baseline_data.parquet\")\n",
    "\n",
    "# load data\n",
    "data = pd.read_parquet(file_path, engine=\"pyarrow\")"
   ]
  },
  {
   "cell_type": "markdown",
   "id": "bfd458ff",
   "metadata": {},
   "source": [
    "---"
   ]
  },
  {
   "cell_type": "markdown",
   "id": "fd2c6c05",
   "metadata": {},
   "source": [
    "# Train and Test Split 80:20 Split"
   ]
  },
  {
   "cell_type": "markdown",
   "id": "15102253",
   "metadata": {},
   "source": [
    "Create a Train and Test split with 80:20 to create baseline models.\n",
    "\n",
    "As the minority class has a large imbalanced, its important to keep the percentage right in each train and val split."
   ]
  },
  {
   "cell_type": "code",
   "execution_count": 27,
   "id": "54120f0b",
   "metadata": {
    "ExecuteTime": {
     "end_time": "2023-12-11T20:51:56.496345Z",
     "start_time": "2023-12-11T20:51:55.847696Z"
    }
   },
   "outputs": [],
   "source": [
    "# Seperate the x and y features\n",
    "X = data.iloc[:, :-1]\n",
    "y = data.iloc[:, -1]"
   ]
  },
  {
   "cell_type": "code",
   "execution_count": 28,
   "id": "c4af39ca",
   "metadata": {
    "ExecuteTime": {
     "end_time": "2023-12-11T20:52:12.565974Z",
     "start_time": "2023-12-11T20:51:56.822449Z"
    }
   },
   "outputs": [],
   "source": [
    "# Create the splits\n",
    "\n",
    "# Train and val_test split\n",
    "train_x, val_test_x, train_y, val_test_y = train_test_split(X, y, test_size=0.2, random_state=42, stratify=y)\n",
    "\n",
    "# Validation and Test split\n",
    "val_x, test_x, val_y, test_y = train_test_split(val_test_x, val_test_y, test_size=0.5, random_state=42, stratify=val_test_y)"
   ]
  },
  {
   "cell_type": "code",
   "execution_count": 16,
   "id": "37a7003d",
   "metadata": {
    "ExecuteTime": {
     "end_time": "2023-12-11T20:45:41.130158Z",
     "start_time": "2023-12-11T20:45:41.123902Z"
    }
   },
   "outputs": [],
   "source": [
    "# # Get a sample an save to file.\n",
    "# sample_data_10_perc = train_x.sample(frac=0.01, random_state=42)\n",
    "# sample_data_10_perc.shape\n",
    "# file_path = r'C:\\Users\\Kolobane\\OneDrive\\CIT MSc Data Science Modules\\_Semester Three - Final Project\\Project Two - Network Project\\ML Models\\sample_file.pkl'\n",
    "# sample_data_10_perc.to_pickle(file_path)"
   ]
  },
  {
   "cell_type": "markdown",
   "id": "f4c4b2ec",
   "metadata": {},
   "source": [
    "---"
   ]
  },
  {
   "cell_type": "markdown",
   "id": "332a694f",
   "metadata": {},
   "source": [
    "# Open connection to Database"
   ]
  },
  {
   "cell_type": "code",
   "execution_count": 17,
   "id": "a3cefd96",
   "metadata": {
    "ExecuteTime": {
     "end_time": "2023-12-11T20:45:41.141102Z",
     "start_time": "2023-12-11T20:45:41.131188Z"
    }
   },
   "outputs": [],
   "source": [
    "config = {\n",
    "    \"user\":\"root\",\n",
    "    \"password\":\"root\",\n",
    "    \"host\": \"localhost\",\n",
    "    \"database\":\"mtu_capstone_db\",\n",
    "    \"raise_on_warnings\":True\n",
    "}"
   ]
  },
  {
   "cell_type": "code",
   "execution_count": 18,
   "id": "d7064355",
   "metadata": {
    "ExecuteTime": {
     "end_time": "2023-12-11T20:45:41.690531Z",
     "start_time": "2023-12-11T20:45:41.142337Z"
    }
   },
   "outputs": [],
   "source": [
    "cnx = mysql.connector.connect(**config)\n",
    "cursor = cnx.cursor()"
   ]
  },
  {
   "cell_type": "code",
   "execution_count": 19,
   "id": "34a47a26",
   "metadata": {
    "ExecuteTime": {
     "end_time": "2023-12-11T20:45:42.192004Z",
     "start_time": "2023-12-11T20:45:41.690531Z"
    },
    "scrolled": true
   },
   "outputs": [
    {
     "name": "stdout",
     "output_type": "stream",
     "text": [
      "Number of rows in 'baseline_model_results': 17\n"
     ]
    }
   ],
   "source": [
    "# Test the connection\n",
    "\n",
    "try:\n",
    "    cnx = mysql.connector.connect(**config)\n",
    "    cursor = cnx.cursor()\n",
    "    \n",
    "    # Test Query - Different types\n",
    "    # cursor.execute(\"SELECT VERSION();\")\n",
    "    # cursor.execute(\"SELECT * FROM baseline_model_results;\") # This query exceeds the limit.\n",
    "    # cursor.execute(\"SELECT * FROM baseline_model_results LIMIT 1;\")  # Limit to 10 rows\n",
    "    cursor.execute(\"SELECT COUNT(*) FROM baseline_model_results;\")\n",
    "    \n",
    "    #Fetch the results - Differnt for above.\n",
    "    # version = cursor.fetchone()\n",
    "    # select_all = cursor.fetchone()\n",
    "    # select_all = cursor.fetchall()  # Use fetchall() or fetchmany(size)\n",
    "    number_of_rows = cursor.fetchone()[0]\n",
    "\n",
    "    # print(\"My SQL Server version:\", version)\n",
    "    # print(\"Select all:\", select_all)\n",
    "    print(\"Number of rows in 'baseline_model_results':\", number_of_rows)\n",
    "    \n",
    "except mysql.connector.Error as err:\n",
    "    print(\"Error:\", err)\n",
    "    \n",
    "else:\n",
    "    cursor.close()\n",
    "    cnx.close()"
   ]
  },
  {
   "cell_type": "markdown",
   "id": "1b0f0727",
   "metadata": {},
   "source": [
    "## Insert data to database with a function"
   ]
  },
  {
   "cell_type": "markdown",
   "id": "05afa938",
   "metadata": {},
   "source": [
    "Create a function to send the data to the database. This will be used in this notebook for the baseline models and then later modified to be used with the live streaming models."
   ]
  },
  {
   "cell_type": "code",
   "execution_count": 59,
   "id": "d7d0aec4",
   "metadata": {
    "ExecuteTime": {
     "end_time": "2023-12-11T21:28:24.819768Z",
     "start_time": "2023-12-11T21:28:24.813767Z"
    }
   },
   "outputs": [],
   "source": [
    "# create model results funciton.\n",
    "def insert_model_results_to_db(config, model_name, model_parameters, confusion_matrix, # note the config is the conneciton details, username, pw, host, etc\n",
    "                                accuracy_value, precision_value, recall_value, f1_value, \n",
    "                                ruc_curve, auc_score, precision_recall_curve, feature_importance, model_training_time,  \n",
    "                                silhouette_score, cluster_centers, elbow_method_results, \n",
    "                                cluster_visualisation_plot, anomaly_score, anomaly_detection_plot, \n",
    "                                decision_function_values, support_vectors, one_class_svm_plot):\n",
    "    \n",
    "    try: \n",
    "        # Connect to the database\n",
    "        cnx = mysql.connector.connect(**config)\n",
    "        cursor = cnx.cursor()\n",
    "    \n",
    "        # SQL query for iserting data to baseline_model_results\n",
    "        add_results=(\"\"\"\n",
    "            INSERT INTO baseline_model_results\n",
    "            (model_name, model_parameters, confusion_matrix, \n",
    "            accuracy_value, precision_value, recall_value, f1_value, \n",
    "            ruc_curve, auc_score, precision_recall_curve, feature_importance, model_training_time, \n",
    "            silhouette_score, cluster_centers, elbow_method_results, \n",
    "            cluster_visualisation_plot, anomaly_score, anomaly_detection_plot, \n",
    "            decision_function_values, support_vectors, one_class_svm_plot) \n",
    "            VALUES(%s, %s, %s, %s, %s, %s, %s, %s, %s, %s, \n",
    "                    %s, %s, %s, %s, %s, %s, %s, %s, %s, %s, %s)\n",
    "        \"\"\")\n",
    "    \n",
    "        # Data tuple\n",
    "        data= (model_name, model_parameters, confusion_matrix,\n",
    "            accuracy_value, precision_value, recall_value, f1_value, \n",
    "            ruc_curve, auc_score, precision_recall_curve, feature_importance, model_training_time, \n",
    "            silhouette_score, cluster_centers, elbow_method_results, \n",
    "            cluster_visualisation_plot, anomaly_score, anomaly_detection_plot, \n",
    "            decision_function_values, support_vectors, one_class_svm_plot)\n",
    "    \n",
    "        # Execute the query\n",
    "        cursor.execute(add_results, data)\n",
    "    \n",
    "        # Commit the transaction\n",
    "        cnx.commit()\n",
    "        print(\"The model results have been inserted successfully\")\n",
    "    \n",
    "    #except Error as err:\n",
    "    #    print(f\"Error: {err}\")\n",
    "    except mysql.connector.Error as err:\n",
    "        print(f\"Error: {err}\")\n",
    "    \n",
    "    finally: \n",
    "        if cnx.is_connected():\n",
    "            cursor.close()\n",
    "            cnx.close()\n",
    "            print(\"The Conneciton to MySQL is closed.\")"
   ]
  },
  {
   "cell_type": "markdown",
   "id": "14c1a624",
   "metadata": {},
   "source": [
    "# **Random Forest Basic Model**"
   ]
  },
  {
   "cell_type": "markdown",
   "id": "c083c688",
   "metadata": {},
   "source": [
    "## Basic Model"
   ]
  },
  {
   "cell_type": "markdown",
   "id": "9bf9a13d",
   "metadata": {},
   "source": [
    "For this model we as it is a basic model only uses a train and test dataset. "
   ]
  },
  {
   "cell_type": "code",
   "execution_count": 25,
   "id": "c31bf6e7",
   "metadata": {
    "ExecuteTime": {
     "end_time": "2023-12-11T20:50:50.801242Z",
     "start_time": "2023-12-11T20:50:50.797243Z"
    }
   },
   "outputs": [],
   "source": [
    "# Initialise the random forest model\n",
    "rf_model_basic = RandomForestClassifier(n_estimators=100, random_state=42)"
   ]
  },
  {
   "cell_type": "code",
   "execution_count": 26,
   "id": "fa0cc563",
   "metadata": {
    "ExecuteTime": {
     "end_time": "2023-12-11T20:51:51.827879Z",
     "start_time": "2023-12-11T20:50:52.641005Z"
    }
   },
   "outputs": [
    {
     "name": "stdout",
     "output_type": "stream",
     "text": [
      "Unexpected exception formatting exception. Falling back to standard exception\n"
     ]
    },
    {
     "name": "stderr",
     "output_type": "stream",
     "text": [
      "Traceback (most recent call last):\n",
      "  File \"C:\\Users\\Kolobane\\anaconda3\\lib\\site-packages\\IPython\\core\\interactiveshell.py\", line 3526, in run_code\n",
      "    exec(code_obj, self.user_global_ns, self.user_ns)\n",
      "  File \"C:\\Users\\Kolobane\\AppData\\Local\\Temp\\ipykernel_12460\\3374088346.py\", line 2, in <module>\n",
      "    rf_model_basic.fit(train_x, train_y)\n",
      "  File \"C:\\Users\\Kolobane\\anaconda3\\lib\\site-packages\\sklearn\\ensemble\\_forest.py\", line 473, in fit\n",
      "    for i, t in enumerate(trees)\n",
      "  File \"C:\\Users\\Kolobane\\anaconda3\\lib\\site-packages\\sklearn\\utils\\parallel.py\", line 63, in __call__\n",
      "    for delayed_func, args, kwargs in iterable\n",
      "  File \"C:\\Users\\Kolobane\\anaconda3\\lib\\site-packages\\joblib\\parallel.py\", line 1085, in __call__\n",
      "    if self.dispatch_one_batch(iterator):\n",
      "  File \"C:\\Users\\Kolobane\\anaconda3\\lib\\site-packages\\joblib\\parallel.py\", line 901, in dispatch_one_batch\n",
      "    self._dispatch(tasks)\n",
      "  File \"C:\\Users\\Kolobane\\anaconda3\\lib\\site-packages\\joblib\\parallel.py\", line 819, in _dispatch\n",
      "    job = self._backend.apply_async(batch, callback=cb)\n",
      "  File \"C:\\Users\\Kolobane\\anaconda3\\lib\\site-packages\\joblib\\_parallel_backends.py\", line 208, in apply_async\n",
      "    result = ImmediateResult(func)\n",
      "  File \"C:\\Users\\Kolobane\\anaconda3\\lib\\site-packages\\joblib\\_parallel_backends.py\", line 597, in __init__\n",
      "    self.results = batch()\n",
      "  File \"C:\\Users\\Kolobane\\anaconda3\\lib\\site-packages\\joblib\\parallel.py\", line 288, in __call__\n",
      "    return [func(*args, **kwargs)\n",
      "  File \"C:\\Users\\Kolobane\\anaconda3\\lib\\site-packages\\joblib\\parallel.py\", line 288, in <listcomp>\n",
      "    return [func(*args, **kwargs)\n",
      "  File \"C:\\Users\\Kolobane\\anaconda3\\lib\\site-packages\\sklearn\\utils\\parallel.py\", line 123, in __call__\n",
      "    UserWarning,\n",
      "  File \"C:\\Users\\Kolobane\\anaconda3\\lib\\site-packages\\sklearn\\ensemble\\_forest.py\", line 184, in _parallel_build_trees\n",
      "    curr_sample_weight *= compute_sample_weight(\"auto\", y, indices=indices)\n",
      "  File \"C:\\Users\\Kolobane\\anaconda3\\lib\\site-packages\\sklearn\\tree\\_classes.py\", line 889, in fit\n",
      "    \"\"\"\n",
      "  File \"C:\\Users\\Kolobane\\anaconda3\\lib\\site-packages\\sklearn\\tree\\_classes.py\", line 379, in fit\n",
      "KeyboardInterrupt\n",
      "\n",
      "During handling of the above exception, another exception occurred:\n",
      "\n",
      "Traceback (most recent call last):\n",
      "  File \"C:\\Users\\Kolobane\\anaconda3\\lib\\site-packages\\IPython\\core\\interactiveshell.py\", line 2120, in showtraceback\n",
      "    stb = self.InteractiveTB.structured_traceback(\n",
      "  File \"C:\\Users\\Kolobane\\anaconda3\\lib\\site-packages\\IPython\\core\\ultratb.py\", line 1435, in structured_traceback\n",
      "    return FormattedTB.structured_traceback(\n",
      "  File \"C:\\Users\\Kolobane\\anaconda3\\lib\\site-packages\\IPython\\core\\ultratb.py\", line 1326, in structured_traceback\n",
      "    return VerboseTB.structured_traceback(\n",
      "  File \"C:\\Users\\Kolobane\\anaconda3\\lib\\site-packages\\IPython\\core\\ultratb.py\", line 1173, in structured_traceback\n",
      "    formatted_exception = self.format_exception_as_a_whole(etype, evalue, etb, number_of_lines_of_context,\n",
      "  File \"C:\\Users\\Kolobane\\anaconda3\\lib\\site-packages\\IPython\\core\\ultratb.py\", line 1088, in format_exception_as_a_whole\n",
      "    frames.append(self.format_record(record))\n",
      "  File \"C:\\Users\\Kolobane\\anaconda3\\lib\\site-packages\\IPython\\core\\ultratb.py\", line 970, in format_record\n",
      "    frame_info.lines, Colors, self.has_colors, lvals\n",
      "  File \"C:\\Users\\Kolobane\\anaconda3\\lib\\site-packages\\IPython\\core\\ultratb.py\", line 792, in lines\n",
      "    return self._sd.lines\n",
      "  File \"C:\\Users\\Kolobane\\anaconda3\\lib\\site-packages\\stack_data\\utils.py\", line 145, in cached_property_wrapper\n",
      "    value = obj.__dict__[self.func.__name__] = self.func(obj)\n",
      "  File \"C:\\Users\\Kolobane\\anaconda3\\lib\\site-packages\\stack_data\\core.py\", line 698, in lines\n",
      "    pieces = self.included_pieces\n",
      "  File \"C:\\Users\\Kolobane\\anaconda3\\lib\\site-packages\\stack_data\\utils.py\", line 145, in cached_property_wrapper\n",
      "    value = obj.__dict__[self.func.__name__] = self.func(obj)\n",
      "  File \"C:\\Users\\Kolobane\\anaconda3\\lib\\site-packages\\stack_data\\core.py\", line 649, in included_pieces\n",
      "    pos = scope_pieces.index(self.executing_piece)\n",
      "  File \"C:\\Users\\Kolobane\\anaconda3\\lib\\site-packages\\stack_data\\utils.py\", line 145, in cached_property_wrapper\n",
      "    value = obj.__dict__[self.func.__name__] = self.func(obj)\n",
      "  File \"C:\\Users\\Kolobane\\anaconda3\\lib\\site-packages\\stack_data\\core.py\", line 628, in executing_piece\n",
      "    return only(\n",
      "  File \"C:\\Users\\Kolobane\\anaconda3\\lib\\site-packages\\executing\\executing.py\", line 164, in only\n",
      "    raise NotOneValueFound('Expected one value, found 0')\n",
      "executing.executing.NotOneValueFound: Expected one value, found 0\n"
     ]
    }
   ],
   "source": [
    "# # Fit the model on the training data\n",
    "rf_model_basic.fit(train_x, train_y)"
   ]
  },
  {
   "cell_type": "code",
   "execution_count": null,
   "id": "cac98b25",
   "metadata": {
    "ExecuteTime": {
     "start_time": "2023-11-29T20:16:55.651Z"
    }
   },
   "outputs": [],
   "source": [
    "# Test the model against the test \n",
    "test_predications = rf_model_basic.predict(val_test_x)"
   ]
  },
  {
   "cell_type": "markdown",
   "id": "abe261c1",
   "metadata": {},
   "source": [
    "## Explore the results"
   ]
  },
  {
   "cell_type": "markdown",
   "id": "9c9ceb67",
   "metadata": {},
   "source": [
    "### Name of the model"
   ]
  },
  {
   "cell_type": "code",
   "execution_count": null,
   "id": "0d40b276",
   "metadata": {
    "ExecuteTime": {
     "start_time": "2023-11-29T20:16:57.347Z"
    }
   },
   "outputs": [],
   "source": [
    "model_name = \"rf_model_baseline_basic\""
   ]
  },
  {
   "cell_type": "code",
   "execution_count": null,
   "id": "99c7cd2a",
   "metadata": {
    "ExecuteTime": {
     "start_time": "2023-11-29T20:16:58.083Z"
    }
   },
   "outputs": [],
   "source": [
    "model_name"
   ]
  },
  {
   "cell_type": "markdown",
   "id": "36d6ede5",
   "metadata": {},
   "source": [
    "### Model Parameters"
   ]
  },
  {
   "cell_type": "code",
   "execution_count": null,
   "id": "dacf5691",
   "metadata": {
    "ExecuteTime": {
     "start_time": "2023-11-29T20:16:59.523Z"
    }
   },
   "outputs": [],
   "source": [
    "model_parameters = \"n_estimators=100\""
   ]
  },
  {
   "cell_type": "code",
   "execution_count": null,
   "id": "e7bca569",
   "metadata": {
    "ExecuteTime": {
     "start_time": "2023-11-29T20:17:01.163Z"
    }
   },
   "outputs": [],
   "source": [
    "confusion_matrix = confusion_matrix(val_test_y, test_predications)"
   ]
  },
  {
   "cell_type": "code",
   "execution_count": null,
   "id": "de25664a",
   "metadata": {
    "ExecuteTime": {
     "start_time": "2023-11-29T20:17:01.827Z"
    }
   },
   "outputs": [],
   "source": [
    "confusion_matrix = confusion_matrix.tolist()"
   ]
  },
  {
   "cell_type": "code",
   "execution_count": null,
   "id": "fe16adce",
   "metadata": {
    "ExecuteTime": {
     "start_time": "2023-11-29T20:17:06.991Z"
    }
   },
   "outputs": [],
   "source": [
    "confusion_matrix = json.dumps(confusion_matrix)"
   ]
  },
  {
   "cell_type": "code",
   "execution_count": null,
   "id": "d057366c",
   "metadata": {
    "ExecuteTime": {
     "start_time": "2023-11-29T20:17:07.959Z"
    }
   },
   "outputs": [],
   "source": [
    "accuracy_value = float(accuracy_score(val_test_y, test_predications))\n",
    "precision_value = float(precision_score(val_test_y, test_predications))\n",
    "recall_value = float(recall_score(val_test_y, test_predications))\n",
    "f1_value = float(f1_score(val_test_y, test_predications))"
   ]
  },
  {
   "cell_type": "code",
   "execution_count": null,
   "id": "395722d2",
   "metadata": {
    "ExecuteTime": {
     "start_time": "2023-11-29T20:17:08.570Z"
    }
   },
   "outputs": [],
   "source": [
    "accuracy_value, precision_value, recall_value, f1_value"
   ]
  },
  {
   "cell_type": "code",
   "execution_count": null,
   "id": "5d797e7f",
   "metadata": {
    "ExecuteTime": {
     "start_time": "2023-11-29T20:17:09.516Z"
    }
   },
   "outputs": [],
   "source": [
    "fpr, tpr, thresholds = roc_curve(val_test_y, rf_model_basic.predict_proba(val_test_x)[:,1])\n",
    "auc_score = float(auc(fpr, tpr))\n",
    "auc_score"
   ]
  },
  {
   "cell_type": "code",
   "execution_count": null,
   "id": "06fc8261",
   "metadata": {
    "ExecuteTime": {
     "start_time": "2023-11-29T20:17:10.835Z"
    }
   },
   "outputs": [],
   "source": [
    "# Plot the ROC curve\n",
    "plt.figure(figsize=(8, 6))\n",
    "plt.plot(fpr, tpr, color='darkorange', lw=2, label='ROC curve (area = %0.2f)' % auc_score)\n",
    "plt.plot([0, 1], [0, 1], color='navy', lw=2, linestyle='--')\n",
    "plt.xlim([0.0, 1.0])\n",
    "plt.ylim([0.0, 1.05])\n",
    "plt.xlabel('False Positive Rate')\n",
    "plt.ylabel('True Positive Rate')\n",
    "plt.title('Receiver Operating Characteristic')\n",
    "plt.legend(loc=\"lower right\")\n",
    "plt.show()"
   ]
  },
  {
   "cell_type": "code",
   "execution_count": null,
   "id": "7762d57c",
   "metadata": {
    "ExecuteTime": {
     "start_time": "2023-11-29T20:17:14.678Z"
    }
   },
   "outputs": [],
   "source": [
    "# Send the ROC Curve to the DB as a JSON object.\n",
    "\n",
    "# convert the ROC Curve to JSON\n",
    "roc_data = {\n",
    "    \"fpr\": fpr.tolist(),\n",
    "    \"tpr\": tpr.tolist(),\n",
    "    \"roc_auc\": auc_score\n",
    "}\n",
    "\n",
    "\n",
    "ruc_curve = json.dumps(roc_data)"
   ]
  },
  {
   "cell_type": "code",
   "execution_count": null,
   "id": "4f498380",
   "metadata": {
    "ExecuteTime": {
     "start_time": "2023-11-29T20:17:16.045Z"
    }
   },
   "outputs": [],
   "source": [
    "precision, recall, _ = precision_recall_curve(val_test_y, rf_model_basic.predict_proba(val_test_x)[:,1])"
   ]
  },
  {
   "cell_type": "code",
   "execution_count": null,
   "id": "2d46f7cb",
   "metadata": {
    "ExecuteTime": {
     "start_time": "2023-11-29T20:17:16.725Z"
    }
   },
   "outputs": [],
   "source": [
    "# Plot the Precision-Recall curve\n",
    "plt.figure(figsize=(8, 6))\n",
    "plt.plot(recall, precision, color='blue', lw=2, label='Precision-Recall curve')\n",
    "plt.xlabel('Recall')\n",
    "plt.ylabel('Precision')\n",
    "plt.title('Precision-Recall Curve')\n",
    "plt.legend(loc=\"upper right\")\n",
    "plt.show()"
   ]
  },
  {
   "cell_type": "code",
   "execution_count": null,
   "id": "d3da5c2a",
   "metadata": {
    "ExecuteTime": {
     "start_time": "2023-11-29T20:17:17.444Z"
    }
   },
   "outputs": [],
   "source": [
    "# Send the Precision Recall Curve to the DB as a JSON object.\n",
    "\n",
    "pr_data = {\n",
    "    \"precision\": precision.tolist(), \n",
    "    \"recall\": recall.tolist()\n",
    "}\n",
    "\n",
    "\n",
    "precision_recall_curve = json.dumps(pr_data)"
   ]
  },
  {
   "cell_type": "code",
   "execution_count": null,
   "id": "51f4f131",
   "metadata": {
    "ExecuteTime": {
     "start_time": "2023-11-29T20:17:29.438Z"
    }
   },
   "outputs": [],
   "source": [
    "feature_importances = rf_model_basic.feature_importances_"
   ]
  },
  {
   "cell_type": "code",
   "execution_count": null,
   "id": "886a110a",
   "metadata": {
    "ExecuteTime": {
     "start_time": "2023-11-29T20:17:30.523Z"
    },
    "scrolled": false
   },
   "outputs": [],
   "source": [
    "feature_importances"
   ]
  },
  {
   "cell_type": "code",
   "execution_count": null,
   "id": "5279ad85",
   "metadata": {
    "ExecuteTime": {
     "end_time": "2023-11-22T19:04:40.293115Z",
     "start_time": "2023-11-22T19:04:40.293115Z"
    }
   },
   "outputs": [],
   "source": [
    "type(feature_importances)"
   ]
  },
  {
   "cell_type": "code",
   "execution_count": null,
   "id": "f27c7539",
   "metadata": {
    "ExecuteTime": {
     "end_time": "2023-11-15T13:38:48.734474Z",
     "start_time": "2023-11-15T13:38:48.720523Z"
    }
   },
   "outputs": [],
   "source": [
    "# Send the feature_importances to the DB as a JSON object.\n"
   ]
  },
  {
   "cell_type": "code",
   "execution_count": null,
   "id": "acdab5ac",
   "metadata": {
    "ExecuteTime": {
     "start_time": "2023-11-29T20:17:50.002Z"
    }
   },
   "outputs": [],
   "source": [
    "print(feature_importance)"
   ]
  },
  {
   "cell_type": "markdown",
   "id": "a24499a7",
   "metadata": {},
   "source": [
    "### Model Training Time"
   ]
  },
  {
   "cell_type": "code",
   "execution_count": null,
   "id": "4b9871bd",
   "metadata": {
    "ExecuteTime": {
     "end_time": "2023-11-22T20:25:05.549302Z",
     "start_time": "2023-11-22T19:04:57.019780Z"
    }
   },
   "outputs": [],
   "source": [
    "# get the start time\n",
    "start_time = time.time()\n",
    "\n",
    "# run the model\n",
    "# Fit the model on the training data\n",
    "rf_model_basic.fit(train_x, train_y)\n",
    "\n",
    "# record the end time.\n",
    "end_time = time.time()"
   ]
  },
  {
   "cell_type": "code",
   "execution_count": null,
   "id": "9c985ac2",
   "metadata": {
    "ExecuteTime": {
     "end_time": "2023-11-15T16:17:19.284962Z",
     "start_time": "2023-11-15T16:17:19.271474Z"
    }
   },
   "outputs": [],
   "source": [
    "training_time = end_time - start_time"
   ]
  },
  {
   "cell_type": "code",
   "execution_count": null,
   "id": "dceb4519",
   "metadata": {
    "ExecuteTime": {
     "end_time": "2023-11-15T16:50:50.365800Z",
     "start_time": "2023-11-15T16:50:50.353754Z"
    },
    "scrolled": false
   },
   "outputs": [],
   "source": [
    "training_time"
   ]
  },
  {
   "cell_type": "code",
   "execution_count": null,
   "id": "644dc683",
   "metadata": {
    "ExecuteTime": {
     "end_time": "2023-11-15T16:17:19.316813Z",
     "start_time": "2023-11-15T16:17:19.303009Z"
    }
   },
   "outputs": [],
   "source": [
    "model_training_time = training_time\n",
    "model_training_time"
   ]
  },
  {
   "cell_type": "code",
   "execution_count": null,
   "id": "d7da30a2",
   "metadata": {
    "ExecuteTime": {
     "end_time": "2023-11-15T16:51:25.392415Z",
     "start_time": "2023-11-15T16:51:25.380396Z"
    }
   },
   "outputs": [],
   "source": [
    "print(\"Training time: \", model_training_time, \"seconds\")"
   ]
  },
  {
   "cell_type": "code",
   "execution_count": null,
   "id": "6922685a",
   "metadata": {
    "ExecuteTime": {
     "end_time": "2023-11-15T16:51:42.806204Z",
     "start_time": "2023-11-15T16:51:42.795110Z"
    }
   },
   "outputs": [],
   "source": [
    "print(\"Training time: \", model_training_time/60, \"minutes\")"
   ]
  },
  {
   "cell_type": "code",
   "execution_count": null,
   "id": "fdfdf59b",
   "metadata": {
    "ExecuteTime": {
     "end_time": "2023-11-15T16:51:59.519606Z",
     "start_time": "2023-11-15T16:51:59.500483Z"
    }
   },
   "outputs": [],
   "source": [
    "print(\"Training time: \", model_training_time/60, \"hours\")"
   ]
  },
  {
   "cell_type": "markdown",
   "id": "3cea3773",
   "metadata": {},
   "source": [
    "### Sent Results to DB"
   ]
  },
  {
   "cell_type": "code",
   "execution_count": null,
   "id": "1f92484b",
   "metadata": {
    "ExecuteTime": {
     "end_time": "2023-11-15T16:52:05.223869Z",
     "start_time": "2023-11-15T16:52:05.210349Z"
    }
   },
   "outputs": [],
   "source": [
    "# Kemans\n",
    "silhouette_score = None\n",
    "cluster_centers = None\n",
    "elbow_method_results = None\n",
    "cluster_visualisation_plot = None\n",
    "\n",
    "# Isolate Forest\n",
    "anomaly_score = None\n",
    "anomaly_detection_plot = None\n",
    "\n",
    "# One Class SVM\n",
    "decision_function_values = None\n",
    "support_vectors = None\n",
    "one_class_svm_plot = None"
   ]
  },
  {
   "cell_type": "code",
   "execution_count": null,
   "id": "95a4fae1",
   "metadata": {
    "ExecuteTime": {
     "end_time": "2023-11-15T16:52:18.248291Z",
     "start_time": "2023-11-15T16:52:18.236148Z"
    }
   },
   "outputs": [],
   "source": [
    "# Need to check the object types so that the DB can handle them\n",
    "\n",
    "#DONE. Objects ok now.\n",
    "\n",
    "# print(type(model_name))\n",
    "# print(type(model_parameters))\n",
    "# print(type(confusion_matrix))\n",
    "# print(type(accuracy_value))\n",
    "# print(type(precision_value))\n",
    "# print(type(recall_value))\n",
    "# print(type(f1_value))\n",
    "# print(type(ruc_curve))\n",
    "# print(type(auc_score))\n",
    "# print(type(precision_recall_curve))\n",
    "# print(type(feature_importance))\n",
    "# print(type(model_training_time))\n",
    "# print(type(silhouette_score)) \n",
    "# print(type(cluster_centers))\n",
    "# print(type(elbow_method_results))\n",
    "# print(type(cluster_visualisation_plot)) \n",
    "# print(type(anomaly_score))\n",
    "# print(type(anomaly_detection_plot))\n",
    "# print(type(decision_function_values)) \n",
    "# print(type(support_vectors))\n",
    "# print(type(one_class_svm_plot))"
   ]
  },
  {
   "cell_type": "code",
   "execution_count": null,
   "id": "6d2e3363",
   "metadata": {
    "ExecuteTime": {
     "end_time": "2023-11-15T16:57:02.435511Z",
     "start_time": "2023-11-15T16:57:02.194837Z"
    }
   },
   "outputs": [],
   "source": [
    "insert_model_results_to_db(config, model_name, model_parameters, confusion_matrix, # note the config is the conneciton details, username, pw, host, etc\n",
    "                                accuracy_value, precision_value, recall_value, f1_value, \n",
    "                                ruc_curve, auc_score, precision_recall_curve, feature_importance, model_training_time, \n",
    "                                silhouette_score, cluster_centers, elbow_method_results, \n",
    "                                cluster_visualisation_plot, anomaly_score, anomaly_detection_plot, \n",
    "                                decision_function_values, support_vectors, one_class_svm_plot)"
   ]
  },
  {
   "cell_type": "markdown",
   "id": "cb03fcd1",
   "metadata": {},
   "source": [
    "## Save Model"
   ]
  },
  {
   "cell_type": "code",
   "execution_count": null,
   "id": "0d030762",
   "metadata": {
    "ExecuteTime": {
     "end_time": "2023-11-15T21:14:30.724257Z",
     "start_time": "2023-11-15T21:14:30.192926Z"
    },
    "scrolled": true
   },
   "outputs": [],
   "source": [
    "# save model to file.\n",
    "\n",
    "#save folder location\n",
    "model_path = r\"C:\\Users\\Kolobane\\OneDrive\\CIT MSc Data Science Modules\\_Semester Three - Final Project\\Project Two - Network Project\\ML Models\\rf_model_basic.joblib\"\n",
    "\n",
    "# save model\n",
    "dump(rf_model_basic, model_path)\n"
   ]
  },
  {
   "cell_type": "code",
   "execution_count": null,
   "id": "1faf3f2e",
   "metadata": {
    "ExecuteTime": {
     "end_time": "2023-11-22T19:01:11.891229Z",
     "start_time": "2023-11-22T19:01:11.875190Z"
    }
   },
   "outputs": [],
   "source": [
    "# load this model\n",
    "folder_path = r\"C:\\Users\\Kolobane\\OneDrive\\CIT MSc Data Science Modules\\_Semester Three - Final Project\\Project Two - Network Project\\ML Models\"\n",
    "model_name = \"rf_model_basic.joblib\"\n",
    "model = os.path.join(folder_path, model_name)"
   ]
  },
  {
   "cell_type": "code",
   "execution_count": null,
   "id": "893bcc95",
   "metadata": {
    "ExecuteTime": {
     "end_time": "2023-11-22T19:02:28.775141Z",
     "start_time": "2023-11-22T19:02:28.739969Z"
    }
   },
   "outputs": [],
   "source": [
    "loaded_model = load(model)"
   ]
  },
  {
   "cell_type": "code",
   "execution_count": null,
   "id": "c1010488",
   "metadata": {
    "ExecuteTime": {
     "end_time": "2023-11-22T19:01:32.902908Z",
     "start_time": "2023-11-22T19:01:32.877801Z"
    }
   },
   "outputs": [],
   "source": [
    "\n",
    "# Check the number of features\n",
    "num_features = model.n_features_"
   ]
  },
  {
   "cell_type": "markdown",
   "id": "c33b0275",
   "metadata": {},
   "source": [
    "---"
   ]
  },
  {
   "cell_type": "markdown",
   "id": "ecfeb614",
   "metadata": {},
   "source": [
    "#  **Random Forest Best Model Search**"
   ]
  },
  {
   "cell_type": "markdown",
   "id": "f1857176",
   "metadata": {},
   "source": [
    "The Baseline Random Forest Model has done very well with an accuracy of 99% so for now I will not look at improving this model. Time being short. "
   ]
  },
  {
   "cell_type": "markdown",
   "id": "ee28bdb8",
   "metadata": {},
   "source": [
    "## GridSearch of RF Models"
   ]
  },
  {
   "cell_type": "code",
   "execution_count": null,
   "id": "5e7f3a11",
   "metadata": {
    "ExecuteTime": {
     "end_time": "2023-11-15T13:38:48.794170Z",
     "start_time": "2023-11-15T13:38:48.794170Z"
    }
   },
   "outputs": [],
   "source": [
    "    param_grid = {\n",
    "        'n_estimators': [100, 200, 300],\n",
    "        'max_depth': [None, 10, 20, 30],\n",
    "        'min_samples_split': [2, 5, 10],\n",
    "        'min_samples_leaf': [1, 2, 4],\n",
    "        'bootstrap': [True, False]\n",
    "    }"
   ]
  },
  {
   "cell_type": "markdown",
   "id": "194f6482",
   "metadata": {},
   "source": [
    "---"
   ]
  },
  {
   "cell_type": "markdown",
   "id": "5b743f43",
   "metadata": {},
   "source": [
    "# **K-Means Basic Model**"
   ]
  },
  {
   "cell_type": "markdown",
   "id": "cf27bb1e",
   "metadata": {},
   "source": [
    "## Basic Model with 2 clusters"
   ]
  },
  {
   "cell_type": "code",
   "execution_count": 66,
   "id": "94f3751a",
   "metadata": {
    "ExecuteTime": {
     "end_time": "2023-11-29T12:25:21.700417Z",
     "start_time": "2023-11-29T12:25:21.686929Z"
    }
   },
   "outputs": [],
   "source": [
    "# Intialise Kmeans model\n",
    "kmeans_model_baseline_basic = KMeans(n_clusters=2, random_state=42)"
   ]
  },
  {
   "cell_type": "code",
   "execution_count": 67,
   "id": "60b56403",
   "metadata": {
    "ExecuteTime": {
     "end_time": "2023-11-29T12:26:10.964455Z",
     "start_time": "2023-11-29T12:25:22.687453Z"
    }
   },
   "outputs": [],
   "source": [
    "# This runs the model and gets the training time as well.\n",
    "\n",
    "# start timer\n",
    "start_time = time.time()\n",
    "\n",
    "# train the model\n",
    "kmeans_model_baseline_basic.fit(train_x)\n",
    "\n",
    "# end timer\n",
    "end_time = time.time()"
   ]
  },
  {
   "cell_type": "code",
   "execution_count": 68,
   "id": "bc0f2d99",
   "metadata": {
    "ExecuteTime": {
     "end_time": "2023-11-29T12:26:11.242615Z",
     "start_time": "2023-11-29T12:26:10.966385Z"
    }
   },
   "outputs": [],
   "source": [
    "# Predictions on the test data\n",
    "predictions = kmeans_model_baseline_basic.predict(test_x)"
   ]
  },
  {
   "cell_type": "code",
   "execution_count": 69,
   "id": "74e0276b",
   "metadata": {
    "ExecuteTime": {
     "end_time": "2023-11-29T12:26:11.258531Z",
     "start_time": "2023-11-29T12:26:11.244662Z"
    }
   },
   "outputs": [
    {
     "data": {
      "text/plain": [
       "array([1, 1, 0, ..., 1, 1, 1])"
      ]
     },
     "execution_count": 69,
     "metadata": {},
     "output_type": "execute_result"
    }
   ],
   "source": [
    "predictions"
   ]
  },
  {
   "cell_type": "markdown",
   "id": "09437b7b",
   "metadata": {},
   "source": [
    "## Explore the Results"
   ]
  },
  {
   "cell_type": "code",
   "execution_count": 70,
   "id": "15c6681c",
   "metadata": {
    "ExecuteTime": {
     "end_time": "2023-11-29T12:26:11.290567Z",
     "start_time": "2023-11-29T12:26:11.260530Z"
    }
   },
   "outputs": [
    {
     "ename": "TypeError",
     "evalue": "'float' object is not callable",
     "output_type": "error",
     "traceback": [
      "\u001b[1;31m---------------------------------------------------------------------------\u001b[0m",
      "\u001b[1;31mTypeError\u001b[0m                                 Traceback (most recent call last)",
      "Cell \u001b[1;32mIn[70], line 2\u001b[0m\n\u001b[0;32m      1\u001b[0m \u001b[38;5;66;03m# Evaluate the model using Silhouette Score\u001b[39;00m\n\u001b[1;32m----> 2\u001b[0m silhouette_avg \u001b[38;5;241m=\u001b[39m \u001b[43msilhouette_score\u001b[49m\u001b[43m(\u001b[49m\u001b[43mtest_x\u001b[49m\u001b[43m,\u001b[49m\u001b[43m \u001b[49m\u001b[43mpredictions\u001b[49m\u001b[43m)\u001b[49m\n",
      "\u001b[1;31mTypeError\u001b[0m: 'float' object is not callable"
     ]
    }
   ],
   "source": [
    "# Evaluate the model using Silhouette Score\n",
    "silhouette_avg = silhouette_score(test_x, predictions)"
   ]
  },
  {
   "cell_type": "code",
   "execution_count": null,
   "id": "70cd52a4",
   "metadata": {
    "ExecuteTime": {
     "end_time": "2023-11-29T12:26:11.291566Z",
     "start_time": "2023-11-29T12:26:11.291566Z"
    }
   },
   "outputs": [],
   "source": [
    "silhouette_avg"
   ]
  },
  {
   "cell_type": "markdown",
   "id": "040f4c0a",
   "metadata": {},
   "source": [
    "The silhouette score is a metric to calculate the goodness of a clustering technique. Its range is fom -1 to 1. A value close to 1  indicates that the data points are very far away from  neighbouring clusters. This means the clusters are distinct and well seperated, which usually represents a good clustering.\n",
    "\n",
    "0.42 indicates that there is a good struture of clusters seperated from each other."
   ]
  },
  {
   "cell_type": "code",
   "execution_count": 71,
   "id": "f33585b6",
   "metadata": {
    "ExecuteTime": {
     "end_time": "2023-11-29T12:26:42.820620Z",
     "start_time": "2023-11-29T12:26:31.759184Z"
    }
   },
   "outputs": [
    {
     "data": {
      "image/png": "[encoded data removed]",
      "text/plain": [
       "<Figure size 640x480 with 1 Axes>"
      ]
     },
     "metadata": {},
     "output_type": "display_data"
    }
   ],
   "source": [
    "# Visualizations specific to K-Means\n",
    "plt.scatter(test_x.iloc[:, 0], test_x.iloc[:, 1], c=predictions, s=50, cmap='viridis')\n",
    "centers = kmeans_model_baseline_basic.cluster_centers_\n",
    "plt.scatter(centers[:, 0], centers[:, 1], c='black', s=200, alpha=0.5)\n",
    "plt.title('K-Means Clustering')\n",
    "plt.show()"
   ]
  },
  {
   "cell_type": "code",
   "execution_count": 72,
   "id": "9619dd1f",
   "metadata": {
    "ExecuteTime": {
     "end_time": "2023-11-29T12:26:43.762944Z",
     "start_time": "2023-11-29T12:26:42.822590Z"
    }
   },
   "outputs": [],
   "source": [
    "# convert to a json object for the database\n",
    "\n",
    "# Extracting data points\n",
    "data_points_x = test_x.iloc[:, 0].tolist()  # First feature values\n",
    "data_points_y = test_x.iloc[:, 1].tolist()  # Second feature values\n",
    "\n",
    "# Extracting cluster centers\n",
    "centers_x = centers[:, 0].tolist()  # X-coordinates of cluster centers\n",
    "centers_y = centers[:, 1].tolist()  # Y-coordinates of cluster centers\n",
    "\n",
    "# Organize data into a structured dictionary\n",
    "visualization_data = {\n",
    "    \"data_points\": {\n",
    "        \"x\": data_points_x,\n",
    "        \"y\": data_points_y,\n",
    "        \"cluster\": predictions.tolist()  # Cluster assignments\n",
    "    },\n",
    "    \"cluster_centers\": {\n",
    "        \"x\": centers_x,\n",
    "        \"y\": centers_y\n",
    "    }\n",
    "}\n",
    "\n",
    "# Convert to JSON\n",
    "cluster_visualisation = json.dumps(visualization_data)"
   ]
  },
  {
   "cell_type": "code",
   "execution_count": null,
   "id": "181d5b63",
   "metadata": {
    "ExecuteTime": {
     "end_time": "2023-11-29T12:26:11.296074Z",
     "start_time": "2023-11-29T12:26:11.296074Z"
    }
   },
   "outputs": [],
   "source": [
    "# model_training_time\n",
    "model_training_time = end_time - start_time"
   ]
  },
  {
   "cell_type": "code",
   "execution_count": null,
   "id": "37f42e43",
   "metadata": {
    "ExecuteTime": {
     "end_time": "2023-11-29T12:26:11.297075Z",
     "start_time": "2023-11-29T12:26:11.297075Z"
    }
   },
   "outputs": [],
   "source": [
    "model_training_time "
   ]
  },
  {
   "cell_type": "code",
   "execution_count": null,
   "id": "13114877",
   "metadata": {
    "ExecuteTime": {
     "end_time": "2023-11-29T12:26:11.298080Z",
     "start_time": "2023-11-29T12:26:11.298080Z"
    }
   },
   "outputs": [],
   "source": [
    "# Silhouette time\n",
    "silhouette_score_db = float(silhouette_avg) \n",
    "silhouette_score_db"
   ]
  },
  {
   "cell_type": "code",
   "execution_count": null,
   "id": "cf31eb94",
   "metadata": {
    "ExecuteTime": {
     "end_time": "2023-11-29T12:26:11.299079Z",
     "start_time": "2023-11-29T12:26:11.299079Z"
    }
   },
   "outputs": [],
   "source": [
    "# cluster centers\n",
    "cluster_centers = kmeans_model_baseline_basic .cluster_centers_.tolist() \n",
    "cluster_centers = json.dumps(cluster_centers) \n",
    "cluster_centers"
   ]
  },
  {
   "cell_type": "code",
   "execution_count": null,
   "id": "2a822cef",
   "metadata": {
    "ExecuteTime": {
     "end_time": "2023-11-29T12:26:11.300080Z",
     "start_time": "2023-11-29T12:26:11.300080Z"
    }
   },
   "outputs": [],
   "source": [
    "# elbow method resutls\n",
    "\n",
    "wcss = []\n",
    "for i in range(1, 11):  # Example: Test for 1 to 10 clusters\n",
    "    km = KMeans(n_clusters=i, random_state=42)\n",
    "    km.fit(train_x)\n",
    "    wcss.append(km.inertia_)\n",
    "elbow_method_results = json.dumps(wcss) "
   ]
  },
  {
   "cell_type": "code",
   "execution_count": null,
   "id": "eebda2df",
   "metadata": {
    "ExecuteTime": {
     "end_time": "2023-11-29T12:26:11.302079Z",
     "start_time": "2023-11-29T12:26:11.302079Z"
    }
   },
   "outputs": [],
   "source": [
    "elbow_method_results"
   ]
  },
  {
   "cell_type": "markdown",
   "id": "e40aed45",
   "metadata": {},
   "source": [
    "## Sent Results to DB"
   ]
  },
  {
   "cell_type": "code",
   "execution_count": null,
   "id": "e6feef26",
   "metadata": {
    "ExecuteTime": {
     "end_time": "2023-11-16T10:47:30.887697Z",
     "start_time": "2023-11-16T10:47:30.872546Z"
    },
    "scrolled": true
   },
   "outputs": [],
   "source": [
    "# Need to check the object types so that the DB can handle them\n",
    "\n",
    "#DONE. Objects ok now.\n",
    "\n",
    "# print(type(model_name))\n",
    "# print(type(model_parameters))\n",
    "# print(type(confusion_matrix))\n",
    "# print(type(accuracy_value))\n",
    "# print(type(precision_value))\n",
    "# print(type(recall_value))\n",
    "# print(type(f1_value))\n",
    "# print(type(ruc_curve))\n",
    "# print(type(auc_score))\n",
    "# print(type(precision_recall_curve))\n",
    "# print(type(feature_importance))\n",
    "# print(type(model_training_time))\n",
    "# print(type(silhouette_score)) \n",
    "# print(type(cluster_centers))\n",
    "# print(type(elbow_method_results))\n",
    "# print(type(cluster_visualisation_plot)) \n",
    "# print(type(anomaly_score))\n",
    "# print(type(anomaly_detection_plot))\n",
    "# print(type(decision_function_values)) \n",
    "# print(type(support_vectors))\n",
    "# print(type(one_class_svm_plot))"
   ]
  },
  {
   "cell_type": "code",
   "execution_count": null,
   "id": "d4901995",
   "metadata": {
    "ExecuteTime": {
     "end_time": "2023-11-15T21:05:16.945938Z",
     "start_time": "2023-11-15T21:05:16.937397Z"
    }
   },
   "outputs": [],
   "source": [
    "model_parameters_update = json.dumps(kmeans_model_baseline_basic.get_params())"
   ]
  },
  {
   "cell_type": "code",
   "execution_count": null,
   "id": "cf00a8b8",
   "metadata": {
    "ExecuteTime": {
     "end_time": "2023-11-15T21:05:24.422473Z",
     "start_time": "2023-11-15T21:05:24.408311Z"
    }
   },
   "outputs": [],
   "source": [
    "model_name = \"kmeans_model_baseline_basic\"\n",
    "model_parameters = model_parameters_update\n",
    "confusion_matrix = None  # Not applicable for K-Means, same below.\n",
    "accuracy_value = None \n",
    "precision_value = None\n",
    "recall_value = None\n",
    "f1_value = None\n",
    "ruc_curve = None\n",
    "auc_score = None\n",
    "precision_recall_curve = None\n",
    "feature_importance = None\n",
    "model_training_time = model_training_time\n",
    "\n",
    "silhouette_score = silhouette_score_db\n",
    "cluster_centers = cluster_centers\n",
    "elbow_method_results = elbow_method_results\n",
    "cluster_visualisation_plot = cluster_visualisation \n",
    "\n",
    "anomaly_score = None\n",
    "anomaly_detection_plot = None\n",
    "\n",
    "decision_function_values = None\n",
    "support_vectors = None\n",
    "one_class_svm_plot = None"
   ]
  },
  {
   "cell_type": "code",
   "execution_count": null,
   "id": "42766150",
   "metadata": {
    "ExecuteTime": {
     "end_time": "2023-11-15T13:38:48.807689Z",
     "start_time": "2023-11-15T13:38:48.807689Z"
    }
   },
   "outputs": [],
   "source": [
    "# # test the conneciton\n",
    "# try:\n",
    "#     cnx = mysql.connector.connect(**config)\n",
    "#     cursor = cnx.cursor()\n",
    "#     cursor.execute(\"SELECT 1;\")\n",
    "#     result = cursor.fetchone()\n",
    "#     print(result)\n",
    "# except mysql.connector.Error as err:\n",
    "#     print(\"Error:\", err)\n",
    "# finally:\n",
    "#     cursor.close()\n",
    "#     cnx.close()"
   ]
  },
  {
   "cell_type": "code",
   "execution_count": null,
   "id": "a51cf3de",
   "metadata": {
    "ExecuteTime": {
     "end_time": "2023-11-15T21:12:32.019418Z",
     "start_time": "2023-11-15T21:12:25.160076Z"
    }
   },
   "outputs": [],
   "source": [
    "# call and save to DB\n",
    "insert_model_results_to_db(config, model_name, model_parameters, confusion_matrix, # note the config is the conneciton details, username, pw, host, etc\n",
    "                                accuracy_value, precision_value, recall_value, f1_value, \n",
    "                                ruc_curve, auc_score, precision_recall_curve, feature_importance, model_training_time, \n",
    "                                silhouette_score, cluster_centers, elbow_method_results, \n",
    "                                cluster_visualisation_plot, anomaly_score, anomaly_detection_plot, \n",
    "                                decision_function_values, support_vectors, one_class_svm_plot)"
   ]
  },
  {
   "cell_type": "markdown",
   "id": "70f5a9f5",
   "metadata": {},
   "source": [
    "## Save Model"
   ]
  },
  {
   "cell_type": "code",
   "execution_count": null,
   "id": "2a9922ac",
   "metadata": {
    "ExecuteTime": {
     "end_time": "2023-11-15T21:14:20.922923Z",
     "start_time": "2023-11-15T21:14:20.886597Z"
    }
   },
   "outputs": [],
   "source": [
    "# save model to file.\n",
    "\n",
    "#save folder location\n",
    "model_path = r\"C:\\Users\\Kolobane\\OneDrive\\CIT MSc Data Science Modules\\_Semester Three - Final Project\\Project Two - Network Project\\ML Models\\kmeans_model_baseline_basic.joblib\"\n",
    "\n",
    "# save model\n",
    "dump(kmeans_model_baseline_basic, model_path)"
   ]
  },
  {
   "cell_type": "markdown",
   "id": "d7f86b55",
   "metadata": {},
   "source": [
    "---"
   ]
  },
  {
   "cell_type": "markdown",
   "id": "dfa2c9ec",
   "metadata": {},
   "source": [
    "# **K-Means Best Model Search**"
   ]
  },
  {
   "cell_type": "markdown",
   "id": "97667cd7",
   "metadata": {},
   "source": [
    "Look at improving the kmeans model by looking at the opitmal number of clusters and other hyper-parameters. Some parameters to explore:\n",
    "1) Determine the Range for \"n_clusters\": No need to change this, there are attack and benign groups so 2 clusters. However, its still worth exploring other numbers of clusters.\n",
    "\n",
    "2) Iternate over other values for \"n_cluster\".\n",
    "\n",
    "3) Other Hyperparameters. There are other clusters that are less important but worth trying. \"init\" (method for initialization), \"n_init\" (number of time the k-means algorithm will be run with different centroid seeds) and \"max_iter\". \n",
    "\n",
    "4) Choose best kmeans model."
   ]
  },
  {
   "cell_type": "markdown",
   "id": "2f29443b",
   "metadata": {},
   "source": [
    "## GridSearch for Best Model"
   ]
  },
  {
   "cell_type": "code",
   "execution_count": null,
   "id": "839bf702",
   "metadata": {
    "ExecuteTime": {
     "end_time": "2023-11-21T21:32:20.839876Z",
     "start_time": "2023-11-21T09:56:03.128913Z"
    }
   },
   "outputs": [],
   "source": [
    "# range of clusters to try\n",
    "cluster_range = range(2,6)\n",
    "\n",
    "# Store the average silhouetter scores\n",
    "silhouette_avg_scores = []\n",
    "\n",
    "# store the inertias (sum of the distances)\n",
    "inertias = []\n",
    "\n",
    "for n_clusters in cluster_range:\n",
    "    kmeans = KMeans(n_clusters=n_clusters, random_state=42)\n",
    "    kmeans.fit(train_x)\n",
    "    cluster_labels = kmeans.predict(test_x)\n",
    "    \n",
    "    silhouette_avg = silhouette_score(test_x, cluster_labels)\n",
    "    silhouette_avg_scores.append(silhouette_avg)\n",
    "    \n",
    "    inertias.append(kmeans.inertia_)  # Corrected this line\n",
    "    \n",
    "# Plotting the results\n",
    "# Silhouette Scores\n",
    "plt.figure(figsize=(10, 5))\n",
    "plt.plot(cluster_range, silhouette_avg_scores, marker='o')\n",
    "plt.title('Silhouette Scores for Different Numbers of Clusters')\n",
    "plt.xlabel('Number of clusters')\n",
    "plt.ylabel('Silhouette Score')\n",
    "plt.show()\n",
    "\n",
    "# Inertia\n",
    "plt.figure(figsize=(10, 5))\n",
    "plt.plot(cluster_range, inertias, marker='o')\n",
    "plt.title('Elbow Method For Optimal k')\n",
    "plt.xlabel('Number of clusters')\n",
    "plt.ylabel('Inertia')\n",
    "plt.show()"
   ]
  },
  {
   "cell_type": "code",
   "execution_count": null,
   "id": "3ba5b2e7",
   "metadata": {},
   "outputs": [],
   "source": []
  },
  {
   "cell_type": "code",
   "execution_count": null,
   "id": "fc8d6e23",
   "metadata": {
    "ExecuteTime": {
     "end_time": "2023-11-21T22:10:56.725745Z",
     "start_time": "2023-11-21T22:10:56.488254Z"
    }
   },
   "outputs": [],
   "source": [
    "# Silhouette Scores\n",
    "plt.figure(figsize=(10, 5))\n",
    "plt.plot(cluster_range, silhouette_avg_scores, marker='o')\n",
    "plt.title('Silhouette Scores for Different Numbers of Clusters')\n",
    "plt.xlabel('Number of clusters')\n",
    "plt.ylabel('Silhouette Score')\n",
    "\n",
    "plt.savefig('silhouette_scores.png')\n",
    "plt.show()"
   ]
  },
  {
   "cell_type": "code",
   "execution_count": null,
   "id": "a687f140",
   "metadata": {
    "ExecuteTime": {
     "end_time": "2023-11-21T22:11:13.167180Z",
     "start_time": "2023-11-21T22:11:12.953489Z"
    }
   },
   "outputs": [],
   "source": [
    "# Inertia\n",
    "plt.figure(figsize=(10, 5))\n",
    "plt.plot(cluster_range, inertias, marker='o')\n",
    "plt.title('Elbow Method For Optimal k')\n",
    "plt.xlabel('Number of clusters')\n",
    "plt.ylabel('Inertia')\n",
    "plt.savefig('inertia.png')\n",
    "plt.show()"
   ]
  },
  {
   "cell_type": "markdown",
   "id": "c3e6b8ca",
   "metadata": {},
   "source": [
    "##### Get the best model"
   ]
  },
  {
   "cell_type": "markdown",
   "id": "d83dcc61",
   "metadata": {},
   "source": [
    "Reading the plots We will choose the 5 clusters as our best model. While this seems large for the domain it might give more interesting results as the silhouette score is higher."
   ]
  },
  {
   "cell_type": "markdown",
   "id": "4227950b",
   "metadata": {},
   "source": [
    "## Rerun the best model"
   ]
  },
  {
   "cell_type": "code",
   "execution_count": null,
   "id": "6c8e5455",
   "metadata": {
    "ExecuteTime": {
     "end_time": "2023-11-21T22:21:51.122125Z",
     "start_time": "2023-11-21T22:21:51.105605Z"
    }
   },
   "outputs": [],
   "source": [
    "# Intialise Kmeans model\n",
    "kmeans_model_baseline_best_serach = KMeans(n_clusters=5, random_state=42)"
   ]
  },
  {
   "cell_type": "code",
   "execution_count": null,
   "id": "49c09195",
   "metadata": {
    "ExecuteTime": {
     "end_time": "2023-11-21T22:24:30.652879Z",
     "start_time": "2023-11-21T22:22:50.191812Z"
    }
   },
   "outputs": [],
   "source": [
    "# This runs the model and gets the training time as well.\n",
    "\n",
    "# start timer\n",
    "start_time = time.time()\n",
    "\n",
    "# train the model\n",
    "kmeans_model_baseline_best_serach.fit(train_x)\n",
    "\n",
    "# end timer\n",
    "end_time = time.time()"
   ]
  },
  {
   "cell_type": "code",
   "execution_count": null,
   "id": "10ec4473",
   "metadata": {
    "ExecuteTime": {
     "end_time": "2023-11-22T11:33:07.686630Z",
     "start_time": "2023-11-22T11:33:07.478613Z"
    }
   },
   "outputs": [],
   "source": [
    "# Predictions on the test data\n",
    "predictions = kmeans_model_baseline_best_serach.predict(test_x)"
   ]
  },
  {
   "cell_type": "code",
   "execution_count": null,
   "id": "7a4f8eb8",
   "metadata": {
    "ExecuteTime": {
     "end_time": "2023-11-22T11:33:13.046577Z",
     "start_time": "2023-11-22T11:33:13.038762Z"
    }
   },
   "outputs": [],
   "source": [
    "predictions"
   ]
  },
  {
   "cell_type": "code",
   "execution_count": null,
   "id": "36763b6e",
   "metadata": {
    "ExecuteTime": {
     "end_time": "2023-11-22T14:24:59.378322Z",
     "start_time": "2023-11-22T11:35:53.350477Z"
    }
   },
   "outputs": [],
   "source": [
    "# Evaluate the model using Silhouette Score\n",
    "silhouette_avg = silhouette_score(test_x, predictions)"
   ]
  },
  {
   "cell_type": "code",
   "execution_count": null,
   "id": "fd50f440",
   "metadata": {
    "ExecuteTime": {
     "end_time": "2023-11-22T14:53:12.388597Z",
     "start_time": "2023-11-22T14:53:12.382123Z"
    }
   },
   "outputs": [],
   "source": [
    "silhouette_avg"
   ]
  },
  {
   "cell_type": "markdown",
   "id": "9b4bbdba",
   "metadata": {},
   "source": [
    "improvement on the 42 in 2 clusters"
   ]
  },
  {
   "cell_type": "markdown",
   "id": "317b6391",
   "metadata": {},
   "source": [
    "## Explore the Results"
   ]
  },
  {
   "cell_type": "code",
   "execution_count": null,
   "id": "78e097a9",
   "metadata": {
    "ExecuteTime": {
     "end_time": "2023-11-22T14:57:16.318572Z",
     "start_time": "2023-11-22T14:57:05.685903Z"
    }
   },
   "outputs": [],
   "source": [
    "# Visualizations specific to K-Means\n",
    "plt.scatter(test_x.iloc[:, 0], test_x.iloc[:, 1], c=predictions, s=50, cmap='viridis')\n",
    "centers = kmeans_model_baseline_best_serach.cluster_centers_\n",
    "plt.scatter(centers[:, 0], centers[:, 1], c='black', s=200, alpha=0.5)\n",
    "plt.title('K-Means Clustering')\n",
    "plt.show()"
   ]
  },
  {
   "cell_type": "code",
   "execution_count": null,
   "id": "f0ac3ef8",
   "metadata": {
    "ExecuteTime": {
     "end_time": "2023-11-22T14:58:24.376574Z",
     "start_time": "2023-11-22T14:58:23.493137Z"
    }
   },
   "outputs": [],
   "source": [
    "# convert to a json object for the database\n",
    "\n",
    "# Extracting data points\n",
    "data_points_x = test_x.iloc[:, 0].tolist()  # First feature values\n",
    "data_points_y = test_x.iloc[:, 1].tolist()  # Second feature values\n",
    "\n",
    "# Extracting cluster centers\n",
    "centers_x = centers[:, 0].tolist()  # X-coordinates of cluster centers\n",
    "centers_y = centers[:, 1].tolist()  # Y-coordinates of cluster centers\n",
    "\n",
    "# Organize data into a structured dictionary\n",
    "visualization_data = {\n",
    "    \"data_points\": {\n",
    "        \"x\": data_points_x,\n",
    "        \"y\": data_points_y,\n",
    "        \"cluster\": predictions.tolist()  # Cluster assignments\n",
    "    },\n",
    "    \"cluster_centers\": {\n",
    "        \"x\": centers_x,\n",
    "        \"y\": centers_y\n",
    "    }\n",
    "}\n",
    "\n",
    "# Convert to JSON\n",
    "cluster_visualisation = json.dumps(visualization_data)"
   ]
  },
  {
   "cell_type": "code",
   "execution_count": 64,
   "id": "69dd2c28",
   "metadata": {
    "ExecuteTime": {
     "end_time": "2023-11-29T10:23:40.023740Z",
     "start_time": "2023-11-29T10:23:40.017330Z"
    }
   },
   "outputs": [
    {
     "data": {
      "text/plain": [
       "5.784250736236572"
      ]
     },
     "execution_count": 64,
     "metadata": {},
     "output_type": "execute_result"
    }
   ],
   "source": [
    "# model_training_time\n",
    "model_training_time = end_time - start_time\n",
    "model_training_time"
   ]
  },
  {
   "cell_type": "code",
   "execution_count": null,
   "id": "f4b30592",
   "metadata": {
    "ExecuteTime": {
     "end_time": "2023-11-22T14:59:21.788424Z",
     "start_time": "2023-11-22T14:59:21.776354Z"
    }
   },
   "outputs": [],
   "source": [
    "# Silhouette time\n",
    "silhouette_score_db = float(silhouette_avg) \n",
    "silhouette_score_db"
   ]
  },
  {
   "cell_type": "code",
   "execution_count": null,
   "id": "884224f7",
   "metadata": {
    "ExecuteTime": {
     "end_time": "2023-11-22T15:36:03.701555Z",
     "start_time": "2023-11-22T15:36:03.695551Z"
    }
   },
   "outputs": [],
   "source": [
    "# cluster centers\n",
    "cluster_centers = kmeans_model_baseline_best_serach.cluster_centers_.tolist() "
   ]
  },
  {
   "cell_type": "code",
   "execution_count": null,
   "id": "70b946c9",
   "metadata": {
    "ExecuteTime": {
     "end_time": "2023-11-22T15:36:06.674587Z",
     "start_time": "2023-11-22T15:36:06.654231Z"
    }
   },
   "outputs": [],
   "source": [
    "cluster_centers = json.dumps(cluster_centers) \n",
    "cluster_centers"
   ]
  },
  {
   "cell_type": "code",
   "execution_count": null,
   "id": "0030c384",
   "metadata": {
    "ExecuteTime": {
     "end_time": "2023-11-22T15:36:09.614523Z",
     "start_time": "2023-11-22T15:36:09.606555Z"
    }
   },
   "outputs": [],
   "source": [
    "type(cluster_centers)"
   ]
  },
  {
   "cell_type": "code",
   "execution_count": null,
   "id": "9f721d61",
   "metadata": {
    "ExecuteTime": {
     "end_time": "2023-11-22T15:19:08.209281Z",
     "start_time": "2023-11-22T15:00:35.375159Z"
    }
   },
   "outputs": [],
   "source": [
    "# elbow method resutls\n",
    "\n",
    "wcss = []\n",
    "for i in range(1, 11):  # Example: Test for 1 to 10 clusters\n",
    "    km = KMeans(n_clusters=i, random_state=42)\n",
    "    km.fit(train_x)\n",
    "    wcss.append(km.inertia_)\n",
    "elbow_method_results = json.dumps(wcss)  #"
   ]
  },
  {
   "cell_type": "code",
   "execution_count": null,
   "id": "da8b1300",
   "metadata": {
    "ExecuteTime": {
     "end_time": "2023-11-22T15:19:08.225199Z",
     "start_time": "2023-11-22T15:19:08.214348Z"
    }
   },
   "outputs": [],
   "source": [
    "elbow_method_results"
   ]
  },
  {
   "cell_type": "code",
   "execution_count": null,
   "id": "ac7ec09b",
   "metadata": {
    "ExecuteTime": {
     "end_time": "2023-11-22T15:22:39.441213Z",
     "start_time": "2023-11-22T15:22:39.432699Z"
    }
   },
   "outputs": [],
   "source": [
    "model_parameters_update = json.dumps(kmeans_model_baseline_best_serach.get_params())"
   ]
  },
  {
   "cell_type": "code",
   "execution_count": null,
   "id": "21ed1cbc",
   "metadata": {
    "ExecuteTime": {
     "end_time": "2023-11-22T15:37:30.966635Z",
     "start_time": "2023-11-22T15:37:30.958106Z"
    }
   },
   "outputs": [],
   "source": [
    "model_name = \"kmeans_model_baseline_best_serach\"\n",
    "model_parameters = model_parameters_update\n",
    "confusion_matrix = None  # Not applicable for K-Means, same below.\n",
    "accuracy_value = None \n",
    "precision_value = None\n",
    "recall_value = None\n",
    "f1_value = None\n",
    "ruc_curve = None\n",
    "auc_score = None\n",
    "precision_recall_curve = None\n",
    "feature_importance = None\n",
    "model_training_time = model_training_time\n",
    "\n",
    "silhouette_score = silhouette_score_db\n",
    "cluster_centers = cluster_centers\n",
    "elbow_method_results = elbow_method_results\n",
    "cluster_visualisation_plot = cluster_visualisation \n",
    "\n",
    "anomaly_score = None\n",
    "anomaly_detection_plot = None\n",
    "\n",
    "decision_function_values = None\n",
    "support_vectors = None\n",
    "one_class_svm_plot = None"
   ]
  },
  {
   "cell_type": "code",
   "execution_count": null,
   "id": "d7865e82",
   "metadata": {
    "ExecuteTime": {
     "end_time": "2023-11-22T15:37:32.971748Z",
     "start_time": "2023-11-22T15:37:32.959236Z"
    }
   },
   "outputs": [],
   "source": [
    "# Need to check the object types so that the DB can handle them\n",
    "\n",
    "#DONE. Objects ok now.\n",
    "\n",
    "print(type(model_name))\n",
    "print(type(model_parameters))\n",
    "print(type(confusion_matrix))\n",
    "print(type(accuracy_value))\n",
    "print(type(precision_value))\n",
    "print(type(recall_value))\n",
    "print(type(f1_value))\n",
    "print(type(ruc_curve))\n",
    "print(type(auc_score))\n",
    "print(type(precision_recall_curve))\n",
    "print(type(feature_importance))\n",
    "print(type(model_training_time))\n",
    "print(type(silhouette_score)) \n",
    "print(type(cluster_centers))\n",
    "print(type(elbow_method_results))\n",
    "print(type(cluster_visualisation_plot)) \n",
    "print(type(anomaly_score))\n",
    "print(type(anomaly_detection_plot))\n",
    "print(type(decision_function_values)) \n",
    "print(type(support_vectors))\n",
    "print(type(one_class_svm_plot))"
   ]
  },
  {
   "cell_type": "markdown",
   "id": "5cef86e3",
   "metadata": {},
   "source": [
    "##### Connect to DB and send results"
   ]
  },
  {
   "cell_type": "code",
   "execution_count": null,
   "id": "7d2bfd4f",
   "metadata": {
    "ExecuteTime": {
     "end_time": "2023-11-22T15:23:36.783150Z",
     "start_time": "2023-11-22T15:23:36.767634Z"
    }
   },
   "outputs": [],
   "source": [
    "config = {\n",
    "    \"user\":\"root\",\n",
    "    \"password\":\"root\",\n",
    "    \"host\": \"localhost\",\n",
    "    \"database\":\"mtu_capstone_db\",\n",
    "    \"raise_on_warnings\":True\n",
    "}"
   ]
  },
  {
   "cell_type": "code",
   "execution_count": null,
   "id": "50730f93",
   "metadata": {
    "ExecuteTime": {
     "end_time": "2023-11-22T15:23:38.705395Z",
     "start_time": "2023-11-22T15:23:38.231139Z"
    }
   },
   "outputs": [],
   "source": [
    "cnx = mysql.connector.connect(**config)\n",
    "cursor = cnx.cursor()"
   ]
  },
  {
   "cell_type": "code",
   "execution_count": null,
   "id": "334cb23a",
   "metadata": {
    "ExecuteTime": {
     "end_time": "2023-11-22T15:40:49.573488Z",
     "start_time": "2023-11-22T15:40:46.261224Z"
    }
   },
   "outputs": [],
   "source": [
    "# call and save to DB\n",
    "insert_model_results_to_db(config, model_name, model_parameters, confusion_matrix, # note the config is the conneciton details, username, pw, host, etc\n",
    "                                accuracy_value, precision_value, recall_value, f1_value, \n",
    "                                ruc_curve, auc_score, precision_recall_curve, feature_importance, model_training_time, \n",
    "                                silhouette_score, cluster_centers, elbow_method_results, \n",
    "                                cluster_visualisation_plot, anomaly_score, anomaly_detection_plot, \n",
    "                                decision_function_values, support_vectors, one_class_svm_plot)"
   ]
  },
  {
   "cell_type": "code",
   "execution_count": null,
   "id": "77d9c80b",
   "metadata": {},
   "outputs": [],
   "source": []
  },
  {
   "cell_type": "markdown",
   "id": "2f407d0a",
   "metadata": {},
   "source": [
    "## Save model"
   ]
  },
  {
   "cell_type": "code",
   "execution_count": null,
   "id": "32c300b2",
   "metadata": {
    "ExecuteTime": {
     "end_time": "2023-11-22T15:41:11.073183Z",
     "start_time": "2023-11-22T15:41:11.047795Z"
    }
   },
   "outputs": [],
   "source": [
    "# save model to file.\n",
    "\n",
    "#save folder location\n",
    "model_path = r\"C:\\Users\\Kolobane\\OneDrive\\CIT MSc Data Science Modules\\_Semester Three - Final Project\\Project Two - Network Project\\ML Models\\kmeans_model_baseline_best_serach.joblib\"\n",
    "\n",
    "# save model\n",
    "dump(kmeans_model_baseline_best_serach, model_path)"
   ]
  },
  {
   "cell_type": "markdown",
   "id": "9c4afdd4",
   "metadata": {},
   "source": [
    "---"
   ]
  },
  {
   "cell_type": "markdown",
   "id": "c9255e06",
   "metadata": {},
   "source": [
    "# **Isolate Forest  Basic Model: Attempt 3**"
   ]
  },
  {
   "cell_type": "markdown",
   "id": "006818a1",
   "metadata": {},
   "source": [
    "## Basic Model"
   ]
  },
  {
   "cell_type": "code",
   "execution_count": 27,
   "id": "769884b0",
   "metadata": {
    "ExecuteTime": {
     "end_time": "2023-11-28T23:23:25.373436Z",
     "start_time": "2023-11-28T23:23:25.367325Z"
    }
   },
   "outputs": [],
   "source": [
    "# Initialise the IF model\n",
    "iso_model_baseline_basic = IsolationForest(n_estimators=100, random_state=42)"
   ]
  },
  {
   "cell_type": "code",
   "execution_count": 28,
   "id": "ac9f376f",
   "metadata": {
    "ExecuteTime": {
     "end_time": "2023-11-28T23:23:31.983903Z",
     "start_time": "2023-11-28T23:23:26.182030Z"
    }
   },
   "outputs": [],
   "source": [
    "# Fit the model and get the training time.\n",
    "\n",
    "# start timer\n",
    "start_time = time.time()\n",
    "\n",
    "# train the model\n",
    "iso_model_baseline_basic.fit(train_x)\n",
    "\n",
    "# end timer\n",
    "end_time = time.time()"
   ]
  },
  {
   "cell_type": "code",
   "execution_count": 29,
   "id": "179ad93e",
   "metadata": {
    "ExecuteTime": {
     "end_time": "2023-11-28T23:23:59.603469Z",
     "start_time": "2023-11-28T23:23:31.983903Z"
    }
   },
   "outputs": [],
   "source": [
    "# Prediations and Evualations\n",
    "predictions = iso_model_baseline_basic.predict(test_x)"
   ]
  },
  {
   "cell_type": "code",
   "execution_count": 30,
   "id": "d268c7cf",
   "metadata": {
    "ExecuteTime": {
     "end_time": "2023-11-28T23:23:59.736923Z",
     "start_time": "2023-11-28T23:23:59.603469Z"
    }
   },
   "outputs": [],
   "source": [
    "# Convert prredictions to make the labels\n",
    "predictions = [1 if p==-1 else 0 for p in predictions]"
   ]
  },
  {
   "cell_type": "code",
   "execution_count": 31,
   "id": "7543c469",
   "metadata": {
    "ExecuteTime": {
     "end_time": "2023-11-28T23:24:01.099269Z",
     "start_time": "2023-11-28T23:23:59.739682Z"
    }
   },
   "outputs": [
    {
     "name": "stdout",
     "output_type": "stream",
     "text": [
      "              precision    recall  f1-score   support\n",
      "\n",
      "           0       0.82      0.87      0.84    669513\n",
      "           1       0.12      0.09      0.10    137347\n",
      "\n",
      "    accuracy                           0.73    806860\n",
      "   macro avg       0.47      0.48      0.47    806860\n",
      "weighted avg       0.70      0.73      0.72    806860\n",
      "\n"
     ]
    }
   ],
   "source": [
    "# If you have true labels (test_y), you can evaluate the model\n",
    "print(classification_report(test_y, predictions))"
   ]
  },
  {
   "cell_type": "markdown",
   "id": "09c074fa",
   "metadata": {},
   "source": [
    "## Explore Results"
   ]
  },
  {
   "cell_type": "code",
   "execution_count": 32,
   "id": "b81d1021",
   "metadata": {
    "ExecuteTime": {
     "end_time": "2023-11-28T23:24:01.105580Z",
     "start_time": "2023-11-28T23:24:01.101306Z"
    }
   },
   "outputs": [],
   "source": [
    "model_name = \"iso_model_baseline_basic\""
   ]
  },
  {
   "cell_type": "code",
   "execution_count": 33,
   "id": "f08e70e8",
   "metadata": {
    "ExecuteTime": {
     "end_time": "2023-11-28T23:24:01.122283Z",
     "start_time": "2023-11-28T23:24:01.106653Z"
    }
   },
   "outputs": [
    {
     "data": {
      "text/plain": [
       "'{\"bootstrap\": false, \"contamination\": \"auto\", \"max_features\": 1.0, \"max_samples\": \"auto\", \"n_estimators\": 100, \"n_jobs\": null, \"random_state\": 42, \"verbose\": 0, \"warm_start\": false}'"
      ]
     },
     "execution_count": 33,
     "metadata": {},
     "output_type": "execute_result"
    }
   ],
   "source": [
    "model_parameters = json.dumps(iso_model_baseline_basic.get_params())\n",
    "model_parameters"
   ]
  },
  {
   "cell_type": "code",
   "execution_count": 34,
   "id": "b79a6171",
   "metadata": {
    "ExecuteTime": {
     "end_time": "2023-11-28T23:24:01.389218Z",
     "start_time": "2023-11-28T23:24:01.124370Z"
    }
   },
   "outputs": [
    {
     "data": {
      "text/plain": [
       "array([[579898,  89615],\n",
       "       [125090,  12257]], dtype=int64)"
      ]
     },
     "execution_count": 34,
     "metadata": {},
     "output_type": "execute_result"
    }
   ],
   "source": [
    "confusion_matrix_results = cm_function(test_y, predictions)\n",
    "confusion_matrix_results"
   ]
  },
  {
   "cell_type": "code",
   "execution_count": 35,
   "id": "d1457e43",
   "metadata": {
    "ExecuteTime": {
     "end_time": "2023-11-28T23:24:02.489176Z",
     "start_time": "2023-11-28T23:24:01.390959Z"
    }
   },
   "outputs": [],
   "source": [
    "report = classification_report(test_y, predictions, output_dict=True)"
   ]
  },
  {
   "cell_type": "code",
   "execution_count": 36,
   "id": "d5ec67b1",
   "metadata": {
    "ExecuteTime": {
     "end_time": "2023-11-28T23:24:02.497978Z",
     "start_time": "2023-11-28T23:24:02.490665Z"
    }
   },
   "outputs": [
    {
     "data": {
      "text/plain": [
       "[[579898, 89615], [125090, 12257]]"
      ]
     },
     "execution_count": 36,
     "metadata": {},
     "output_type": "execute_result"
    }
   ],
   "source": [
    "confusion_matrix = confusion_matrix_results.tolist()\n",
    "confusion_matrix"
   ]
  },
  {
   "cell_type": "code",
   "execution_count": 37,
   "id": "bd3b63d7",
   "metadata": {
    "ExecuteTime": {
     "end_time": "2023-11-28T23:24:02.507443Z",
     "start_time": "2023-11-28T23:24:02.501345Z"
    }
   },
   "outputs": [],
   "source": [
    "confusion_matrix = json.dumps(confusion_matrix)"
   ]
  },
  {
   "cell_type": "code",
   "execution_count": 38,
   "id": "8ce795bf",
   "metadata": {
    "ExecuteTime": {
     "end_time": "2023-11-28T23:24:03.774878Z",
     "start_time": "2023-11-28T23:24:02.507443Z"
    }
   },
   "outputs": [],
   "source": [
    "report = classification_report(test_y, predictions, output_dict=True)"
   ]
  },
  {
   "cell_type": "code",
   "execution_count": 39,
   "id": "8fe93ba1",
   "metadata": {
    "ExecuteTime": {
     "end_time": "2023-11-28T23:24:03.790628Z",
     "start_time": "2023-11-28T23:24:03.776621Z"
    }
   },
   "outputs": [
    {
     "data": {
      "text/plain": [
       "0.7339005527600823"
      ]
     },
     "execution_count": 39,
     "metadata": {},
     "output_type": "execute_result"
    }
   ],
   "source": [
    "accuracy_value = report[\"accuracy\"]\n",
    "accuracy_value "
   ]
  },
  {
   "cell_type": "code",
   "execution_count": 40,
   "id": "7a133ad3",
   "metadata": {
    "ExecuteTime": {
     "end_time": "2023-11-28T23:24:03.806579Z",
     "start_time": "2023-11-28T23:24:03.792583Z"
    }
   },
   "outputs": [
    {
     "data": {
      "text/plain": [
       "0.4714410046156694"
      ]
     },
     "execution_count": 40,
     "metadata": {},
     "output_type": "execute_result"
    }
   ],
   "source": [
    "precision_value = report[\"macro avg\"][\"precision\"]\n",
    "precision_value"
   ]
  },
  {
   "cell_type": "code",
   "execution_count": 41,
   "id": "2d8fa952",
   "metadata": {
    "ExecuteTime": {
     "end_time": "2023-11-28T23:24:03.823352Z",
     "start_time": "2023-11-28T23:24:03.808339Z"
    }
   },
   "outputs": [
    {
     "data": {
      "text/plain": [
       "0.47769504807597646"
      ]
     },
     "execution_count": 41,
     "metadata": {},
     "output_type": "execute_result"
    }
   ],
   "source": [
    "recall_value = report[\"macro avg\"][\"recall\"]\n",
    "recall_value"
   ]
  },
  {
   "cell_type": "code",
   "execution_count": 42,
   "id": "b1284b27",
   "metadata": {
    "ExecuteTime": {
     "end_time": "2023-11-28T23:24:03.835463Z",
     "start_time": "2023-11-28T23:24:03.825587Z"
    }
   },
   "outputs": [
    {
     "data": {
      "text/plain": [
       "0.473134679218956"
      ]
     },
     "execution_count": 42,
     "metadata": {},
     "output_type": "execute_result"
    }
   ],
   "source": [
    "f1_value = report[\"macro avg\"][\"f1-score\"]\n",
    "f1_value "
   ]
  },
  {
   "cell_type": "code",
   "execution_count": 43,
   "id": "09001e00",
   "metadata": {
    "ExecuteTime": {
     "end_time": "2023-11-28T23:24:03.841657Z",
     "start_time": "2023-11-28T23:24:03.835743Z"
    }
   },
   "outputs": [
    {
     "data": {
      "text/plain": [
       "5.784250736236572"
      ]
     },
     "execution_count": 43,
     "metadata": {},
     "output_type": "execute_result"
    }
   ],
   "source": [
    "model_training_time = end_time - start_time\n",
    "model_training_time"
   ]
  },
  {
   "cell_type": "code",
   "execution_count": 44,
   "id": "18832c1e",
   "metadata": {
    "ExecuteTime": {
     "end_time": "2023-11-28T23:24:31.915454Z",
     "start_time": "2023-11-28T23:24:03.843817Z"
    }
   },
   "outputs": [
    {
     "data": {
      "text/plain": [
       "array([0.11002938, 0.13788935, 0.05900219, ..., 0.14189574, 0.15430681,\n",
       "       0.16603753])"
      ]
     },
     "execution_count": 44,
     "metadata": {},
     "output_type": "execute_result"
    }
   ],
   "source": [
    "anomaly_scores = iso_model_baseline_basic.decision_function(test_x)\n",
    "anomaly_scores"
   ]
  },
  {
   "cell_type": "code",
   "execution_count": 45,
   "id": "4af8363c",
   "metadata": {
    "ExecuteTime": {
     "end_time": "2023-11-28T23:24:32.453195Z",
     "start_time": "2023-11-28T23:24:31.917455Z"
    }
   },
   "outputs": [],
   "source": [
    "anomaly_scores_json = json.dumps(anomaly_scores.tolist())"
   ]
  },
  {
   "cell_type": "code",
   "execution_count": 46,
   "id": "f58658b2",
   "metadata": {
    "ExecuteTime": {
     "end_time": "2023-11-28T23:24:32.467028Z",
     "start_time": "2023-11-28T23:24:32.455202Z"
    }
   },
   "outputs": [],
   "source": [
    "anomaly_score = anomaly_scores_json"
   ]
  },
  {
   "cell_type": "code",
   "execution_count": 65,
   "id": "43e94056",
   "metadata": {
    "ExecuteTime": {
     "end_time": "2023-11-29T11:04:44.549237Z",
     "start_time": "2023-11-29T11:04:27.253839Z"
    }
   },
   "outputs": [
    {
     "data": {
      "image/png": "[encoded data removed]",
      "text/plain": [
       "<Figure size 1000x600 with 1 Axes>"
      ]
     },
     "metadata": {},
     "output_type": "display_data"
    }
   ],
   "source": [
    "x_axis = test_x.iloc[:, 0] \n",
    "y_axis = test_x.iloc[:, 1]  \n",
    "predictions_array = np.array(predictions)\n",
    "\n",
    "# Create boolean masks\n",
    "normal_points = predictions_array == 0\n",
    "anomalies = predictions_array == 1\n",
    "\n",
    "plt.figure(figsize=(10, 6))\n",
    "plt.scatter(x_axis[normal_points], y_axis[normal_points], color='green', label='Normal')\n",
    "plt.scatter(x_axis[anomalies], y_axis[anomalies], color='red', label='Anomaly')\n",
    "plt.title('Anomaly Detection')\n",
    "plt.xlabel('Feature 1')\n",
    "plt.ylabel('Feature 2')\n",
    "plt.legend()\n",
    "save_path = r'C:\\Users\\Kolobane\\OneDrive\\CIT MSc Data Science Modules\\_Semester Three - Final Project\\Project Two - Network Project\\Save Plots\\iso_basic_model_anomaly_detection.png'\n",
    "plt.savefig(save_path)\n",
    "plt.show()"
   ]
  },
  {
   "cell_type": "code",
   "execution_count": 48,
   "id": "94406963",
   "metadata": {
    "ExecuteTime": {
     "end_time": "2023-11-28T23:24:46.515377Z",
     "start_time": "2023-11-28T23:24:45.148083Z"
    }
   },
   "outputs": [],
   "source": [
    "plot_data = {\n",
    "    \"x_axis\": x_axis.tolist(),  \n",
    "    \"y_axis\": y_axis.tolist(),  \n",
    "    \"normal_points\": normal_points.tolist(),  \n",
    "    \"anomalies\": anomalies.tolist()  \n",
    "}\n",
    "\n",
    "anomaly_detection_plot = json.dumps(plot_data)"
   ]
  },
  {
   "cell_type": "code",
   "execution_count": 49,
   "id": "6db3df15",
   "metadata": {
    "ExecuteTime": {
     "end_time": "2023-11-29T02:45:08.314197Z",
     "start_time": "2023-11-28T23:24:46.515377Z"
    }
   },
   "outputs": [],
   "source": [
    "silhouette_score_for_db = silhouette_score(test_x, predictions)"
   ]
  },
  {
   "cell_type": "code",
   "execution_count": 50,
   "id": "fc9743ef",
   "metadata": {
    "ExecuteTime": {
     "end_time": "2023-11-29T02:45:08.329630Z",
     "start_time": "2023-11-29T02:45:08.314197Z"
    }
   },
   "outputs": [
    {
     "data": {
      "text/plain": [
       "0.24906774"
      ]
     },
     "execution_count": 50,
     "metadata": {},
     "output_type": "execute_result"
    }
   ],
   "source": [
    "silhouette_score_for_db"
   ]
  },
  {
   "cell_type": "code",
   "execution_count": 51,
   "id": "26928645",
   "metadata": {
    "ExecuteTime": {
     "end_time": "2023-11-29T02:45:08.345706Z",
     "start_time": "2023-11-29T02:45:08.331629Z"
    }
   },
   "outputs": [],
   "source": [
    "silhouette_score = float(silhouette_score_for_db)"
   ]
  },
  {
   "cell_type": "markdown",
   "id": "fa129a08",
   "metadata": {},
   "source": [
    "## Sent Results to DB"
   ]
  },
  {
   "cell_type": "code",
   "execution_count": 52,
   "id": "07252171",
   "metadata": {
    "ExecuteTime": {
     "end_time": "2023-11-29T02:45:08.361770Z",
     "start_time": "2023-11-29T02:45:08.347707Z"
    }
   },
   "outputs": [],
   "source": [
    "# Not needed to send for ISO model\n",
    "ruc_curve = None\n",
    "auc_score = None\n",
    "precision_recall_curve = None\n",
    "feature_importance = None\n",
    "\n",
    "cluster_centers = None\n",
    "elbow_method_results = None\n",
    "cluster_visualisation_plot = None\n",
    "\n",
    "decision_function_values = None\n",
    "support_vectors = None\n",
    "one_class_svm_plot = None"
   ]
  },
  {
   "cell_type": "code",
   "execution_count": 60,
   "id": "d902ed85",
   "metadata": {
    "ExecuteTime": {
     "end_time": "2023-11-29T10:12:03.040625Z",
     "start_time": "2023-11-29T10:12:03.018700Z"
    }
   },
   "outputs": [
    {
     "name": "stdout",
     "output_type": "stream",
     "text": [
      "<class 'str'>\n",
      "<class 'str'>\n",
      "<class 'str'>\n",
      "<class 'float'>\n",
      "<class 'float'>\n",
      "<class 'float'>\n",
      "<class 'float'>\n",
      "<class 'NoneType'>\n",
      "<class 'NoneType'>\n",
      "<class 'NoneType'>\n",
      "<class 'NoneType'>\n",
      "<class 'float'>\n",
      "<class 'float'>\n",
      "<class 'NoneType'>\n",
      "<class 'NoneType'>\n",
      "<class 'NoneType'>\n",
      "<class 'str'>\n",
      "<class 'str'>\n",
      "<class 'NoneType'>\n",
      "<class 'NoneType'>\n",
      "<class 'NoneType'>\n"
     ]
    }
   ],
   "source": [
    "# test object types\n",
    "\n",
    "print(type(model_name))\n",
    "print(type(model_parameters))\n",
    "print(type(confusion_matrix))\n",
    "print(type(accuracy_value))\n",
    "print(type(precision_value))\n",
    "print(type(recall_value))\n",
    "print(type(f1_value))\n",
    "print(type(ruc_curve))\n",
    "print(type(auc_score))\n",
    "print(type(precision_recall_curve))\n",
    "print(type(feature_importance))\n",
    "print(type(model_training_time))\n",
    "print(type(silhouette_score)) \n",
    "print(type(cluster_centers))\n",
    "print(type(elbow_method_results))\n",
    "print(type(cluster_visualisation_plot)) \n",
    "print(type(anomaly_score))\n",
    "print(type(anomaly_detection_plot))\n",
    "print(type(decision_function_values)) \n",
    "print(type(support_vectors))\n",
    "print(type(one_class_svm_plot))"
   ]
  },
  {
   "cell_type": "code",
   "execution_count": 61,
   "id": "0ad2a2ea",
   "metadata": {
    "ExecuteTime": {
     "end_time": "2023-11-29T10:12:14.958760Z",
     "start_time": "2023-11-29T10:12:06.774614Z"
    }
   },
   "outputs": [
    {
     "name": "stdout",
     "output_type": "stream",
     "text": [
      "The model results have been inserted successfully\n",
      "The Conneciton to MySQL is closed.\n"
     ]
    }
   ],
   "source": [
    "# call and save to DB\n",
    "insert_model_results_to_db(config, model_name, model_parameters, confusion_matrix, # note the config is the conneciton details, username, pw, host, etc\n",
    "                                accuracy_value, precision_value, recall_value, f1_value, \n",
    "                                ruc_curve, auc_score, precision_recall_curve, feature_importance, model_training_time, \n",
    "                                silhouette_score, cluster_centers, elbow_method_results, \n",
    "                                cluster_visualisation_plot, anomaly_score, anomaly_detection_plot, \n",
    "                                decision_function_values, support_vectors, one_class_svm_plot)"
   ]
  },
  {
   "cell_type": "markdown",
   "id": "82c25089",
   "metadata": {},
   "source": [
    "## Save model"
   ]
  },
  {
   "cell_type": "code",
   "execution_count": 62,
   "id": "da5b1ab3",
   "metadata": {
    "ExecuteTime": {
     "end_time": "2023-11-29T10:13:48.759564Z",
     "start_time": "2023-11-29T10:13:48.712565Z"
    }
   },
   "outputs": [
    {
     "data": {
      "text/plain": [
       "['C:\\\\Users\\\\Kolobane\\\\OneDrive\\\\CIT MSc Data Science Modules\\\\_Semester Three - Final Project\\\\Project Two - Network Project\\\\ML Models\\\\iso_model_baseline_basic_8.joblib']"
      ]
     },
     "execution_count": 62,
     "metadata": {},
     "output_type": "execute_result"
    }
   ],
   "source": [
    "# save model to file.\n",
    "\n",
    "#save folder location\n",
    "model_path = r\"C:\\Users\\Kolobane\\OneDrive\\CIT MSc Data Science Modules\\_Semester Three - Final Project\\Project Two - Network Project\\ML Models\\iso_model_baseline_basic_8.joblib\"\n",
    "\n",
    "# save model\n",
    "dump(iso_model_baseline_basic, model_path)"
   ]
  },
  {
   "cell_type": "markdown",
   "id": "514da404",
   "metadata": {},
   "source": [
    "---"
   ]
  },
  {
   "cell_type": "markdown",
   "id": "c4589228",
   "metadata": {},
   "source": [
    "# **Isolate Forest Model Search: Attempt 3**"
   ]
  },
  {
   "cell_type": "markdown",
   "id": "5c7ce604",
   "metadata": {},
   "source": [
    "Next, we look at grid search to find the best model for Isolate forest.\n",
    "\n",
    "Most influential hyperparameters:\n",
    " - n_estimators: Number of base estimators or trees in the ensemble.\n",
    " - max_samples: Number of samples to draw from the total dataset to train the estimator.\n",
    " - contamination: Represents the porportion of outliers in the dataset. Auto can can be used if unsure\n",
    "     - We know that 13% are attack instances so this value will be used. contamination = 0.13\n",
    " - max-features: The Number of features to draw from the total features to train each base estimator.\n",
    " - bootstramp:Determines to draw samples with replacement or not.\n"
   ]
  },
  {
   "cell_type": "markdown",
   "id": "4521af31",
   "metadata": {},
   "source": [
    "## GridSearch for Isolate Forest"
   ]
  },
  {
   "cell_type": "markdown",
   "id": "2f3887b3",
   "metadata": {},
   "source": [
    "n_estimators_options = [100, 200, 300, 400, 500]\n",
    "max_samples_options = [0.25, 0.5, 0.75, \"auto]\n",
    "contamination_options = [0.05, 0.1, 0.15, 0.2]"
   ]
  },
  {
   "cell_type": "code",
   "execution_count": 90,
   "id": "9b494ec7",
   "metadata": {
    "ExecuteTime": {
     "end_time": "2023-12-08T08:38:39.751012Z",
     "start_time": "2023-12-06T13:42:28.817275Z"
    },
    "scrolled": false
   },
   "outputs": [
    {
     "name": "stdout",
     "output_type": "stream",
     "text": [
      "Best Score: 0.2740774\n",
      "Best Parameters: {'n_estimators': 200, 'max_samples': 0.25, 'contamination': 0.15}\n"
     ]
    }
   ],
   "source": [
    "# Grid Search options for Isolate Forest\n",
    "\n",
    "n_estimators_options = [100, 200, 300]\n",
    "max_samples_options = [0.25, 0.5]\n",
    "contamination_options = [0.1, 0.15]\n",
    "\n",
    "best_score = -1\n",
    "best_params = {}\n",
    "\n",
    "for n_estimators in n_estimators_options:\n",
    "    for max_samples in max_samples_options:\n",
    "        for contamination in contamination_options:\n",
    "            clf = IsolationForest(n_estimators=n_estimators, \n",
    "                                  max_samples=max_samples, \n",
    "                                  contamination=contamination, \n",
    "                                  random_state=42)\n",
    "            clf.fit(train_x)\n",
    "            predictions = clf.predict(test_x)\n",
    "            score = silhouette_score(test_x, predictions)\n",
    "\n",
    "            if score > best_score:\n",
    "                best_score = score\n",
    "                best_params = {\n",
    "                    \"n_estimators\": n_estimators, \n",
    "                    \"max_samples\": max_samples, \n",
    "                    \"contamination\": contamination\n",
    "                }\n",
    "\n",
    "print(\"Best Score:\", best_score)\n",
    "print(\"Best Parameters:\", best_params)"
   ]
  },
  {
   "cell_type": "markdown",
   "id": "8394d568",
   "metadata": {},
   "source": [
    "**Results from Best Search attempt 1: bad results. Run greater range of values**\n",
    "define paramters to use in the grid search\n",
    "- n_estimators_options = [200,300,400]\n",
    "- max_samples_options = [0.5, \"auto\"]\n",
    "- contamination = 0.13\n",
    "\n",
    "Best Result is less than the Basic Model - Could be good for testing so will keep for now.\n",
    "\n",
    "Best Score: 0.26775658\n",
    "Best Parameters: {'n_estimators': 300, 'max_samples': 0.5, 'contamination': 0.13}"
   ]
  },
  {
   "cell_type": "markdown",
   "id": "5dbef6dd",
   "metadata": {},
   "source": [
    "**Results from Best Search attempt 1: ??**\n",
    "\n",
    "- n_estimators_options = [100, 200, 300]\n",
    "- max_samples_options = [0.25, 0.5]\n",
    "- contamination_options = [0.1, 0.15]"
   ]
  },
  {
   "cell_type": "code",
   "execution_count": null,
   "id": "26785390",
   "metadata": {},
   "outputs": [],
   "source": [
    "Best Score: 0.2740774\n",
    "Best Parameters: {'n_estimators': 200, 'max_samples': 0.25, 'contamination': 0.15}"
   ]
  },
  {
   "cell_type": "code",
   "execution_count": 91,
   "id": "d044f042",
   "metadata": {
    "ExecuteTime": {
     "end_time": "2023-12-08T15:27:57.745484Z",
     "start_time": "2023-12-08T15:27:41.670876Z"
    }
   },
   "outputs": [],
   "source": [
    "# Set paramaters that the best model found\n",
    "best_n_estimators = 200\n",
    "best_max_samples = 0.25\n",
    "best_contamination= 0.15\n",
    "\n",
    "iso_model_baseline_best = IsolationForest(n_estimators=best_n_estimators, \n",
    "                                          max_samples=best_max_samples, \n",
    "                                          contamination=best_contamination, \n",
    "                                          random_state=42)"
   ]
  },
  {
   "cell_type": "code",
   "execution_count": 92,
   "id": "44415fea",
   "metadata": {
    "ExecuteTime": {
     "end_time": "2023-12-08T15:45:51.263345Z",
     "start_time": "2023-12-08T15:28:02.773787Z"
    },
    "scrolled": true
   },
   "outputs": [],
   "source": [
    "# Fit the model and get the training time.\n",
    "\n",
    "# start timer\n",
    "start_time = time.time()\n",
    "\n",
    "# train the model\n",
    "iso_model_baseline_best.fit(train_x)\n",
    "\n",
    "# end timer\n",
    "end_time = time.time()"
   ]
  },
  {
   "cell_type": "markdown",
   "id": "4388b460",
   "metadata": {},
   "source": [
    "## Explore the Results"
   ]
  },
  {
   "cell_type": "code",
   "execution_count": 93,
   "id": "5364bd5c",
   "metadata": {
    "ExecuteTime": {
     "end_time": "2023-12-08T15:47:24.178897Z",
     "start_time": "2023-12-08T15:45:51.263345Z"
    }
   },
   "outputs": [],
   "source": [
    "# Prediations and Evualations\n",
    "predictions = iso_model_baseline_best.predict(test_x)"
   ]
  },
  {
   "cell_type": "code",
   "execution_count": 124,
   "id": "bf87a53b",
   "metadata": {
    "ExecuteTime": {
     "end_time": "2023-12-09T20:17:44.234445Z",
     "start_time": "2023-12-09T20:17:43.286489Z"
    }
   },
   "outputs": [
    {
     "name": "stdout",
     "output_type": "stream",
     "text": [
      "              precision    recall  f1-score   support\n",
      "\n",
      "          -1       0.00      0.00      0.00         0\n",
      "           0       0.00      0.00      0.00    669513\n",
      "           1       0.17      0.83      0.28    137347\n",
      "\n",
      "    accuracy                           0.14    806860\n",
      "   macro avg       0.06      0.28      0.09    806860\n",
      "weighted avg       0.03      0.14      0.05    806860\n",
      "\n"
     ]
    }
   ],
   "source": [
    "# If you have true labels (test_y), you can evaluate the model\n",
    "print(classification_report(test_y, predictions))"
   ]
  },
  {
   "cell_type": "code",
   "execution_count": 95,
   "id": "b3336894",
   "metadata": {
    "ExecuteTime": {
     "end_time": "2023-12-08T15:47:25.222418Z",
     "start_time": "2023-12-08T15:47:25.206788Z"
    }
   },
   "outputs": [],
   "source": [
    "model_name = \"iso_model_baseline_best\""
   ]
  },
  {
   "cell_type": "code",
   "execution_count": 96,
   "id": "74c8889b",
   "metadata": {
    "ExecuteTime": {
     "end_time": "2023-12-08T15:47:25.238041Z",
     "start_time": "2023-12-08T15:47:25.222418Z"
    }
   },
   "outputs": [
    {
     "data": {
      "text/plain": [
       "'{\"bootstrap\": false, \"contamination\": 0.15, \"max_features\": 1.0, \"max_samples\": 0.25, \"n_estimators\": 200, \"n_jobs\": null, \"random_state\": 42, \"verbose\": 0, \"warm_start\": false}'"
      ]
     },
     "execution_count": 96,
     "metadata": {},
     "output_type": "execute_result"
    }
   ],
   "source": [
    "model_parameters = json.dumps(iso_model_baseline_best.get_params())\n",
    "model_parameters"
   ]
  },
  {
   "cell_type": "code",
   "execution_count": 97,
   "id": "eb6a6019",
   "metadata": {
    "ExecuteTime": {
     "end_time": "2023-12-08T15:47:25.675776Z",
     "start_time": "2023-12-08T15:47:25.238041Z"
    }
   },
   "outputs": [
    {
     "data": {
      "text/plain": [
       "array([[     0,      0,      0],\n",
       "       [ 96336,      0, 573177],\n",
       "       [ 23468,      0, 113879]], dtype=int64)"
      ]
     },
     "execution_count": 97,
     "metadata": {},
     "output_type": "execute_result"
    }
   ],
   "source": [
    "confusion_matrix_results = cm_function(test_y, predictions)\n",
    "confusion_matrix_results"
   ]
  },
  {
   "cell_type": "code",
   "execution_count": 125,
   "id": "c55358e8",
   "metadata": {
    "ExecuteTime": {
     "end_time": "2023-12-09T20:18:01.686291Z",
     "start_time": "2023-12-09T20:18:01.671756Z"
    }
   },
   "outputs": [
    {
     "data": {
      "text/plain": [
       "array([[     0,      0,      0],\n",
       "       [ 96336,      0, 573177],\n",
       "       [ 23468,      0, 113879]], dtype=int64)"
      ]
     },
     "execution_count": 125,
     "metadata": {},
     "output_type": "execute_result"
    }
   ],
   "source": [
    "confusion_matrix_results"
   ]
  },
  {
   "cell_type": "code",
   "execution_count": 130,
   "id": "d889dd7f",
   "metadata": {
    "ExecuteTime": {
     "end_time": "2023-12-09T20:19:21.266505Z",
     "start_time": "2023-12-09T20:19:21.248363Z"
    }
   },
   "outputs": [
    {
     "data": {
      "text/plain": [
       "array([0, 1], dtype=int64)"
      ]
     },
     "execution_count": 130,
     "metadata": {},
     "output_type": "execute_result"
    }
   ],
   "source": [
    "np.unique(test_y)"
   ]
  },
  {
   "cell_type": "code",
   "execution_count": 98,
   "id": "deda10fc",
   "metadata": {
    "ExecuteTime": {
     "end_time": "2023-12-08T15:47:25.691348Z",
     "start_time": "2023-12-08T15:47:25.675776Z"
    }
   },
   "outputs": [
    {
     "data": {
      "text/plain": [
       "[[0, 0, 0], [96336, 0, 573177], [23468, 0, 113879]]"
      ]
     },
     "execution_count": 98,
     "metadata": {},
     "output_type": "execute_result"
    }
   ],
   "source": [
    "confusion_matrix = confusion_matrix_results.tolist()\n",
    "confusion_matrix"
   ]
  },
  {
   "cell_type": "code",
   "execution_count": 99,
   "id": "8b9819f8",
   "metadata": {
    "ExecuteTime": {
     "end_time": "2023-12-08T15:47:25.706978Z",
     "start_time": "2023-12-08T15:47:25.691348Z"
    }
   },
   "outputs": [],
   "source": [
    "confusion_matrix = json.dumps(confusion_matrix)"
   ]
  },
  {
   "cell_type": "code",
   "execution_count": 100,
   "id": "dec5c969",
   "metadata": {
    "ExecuteTime": {
     "end_time": "2023-12-08T15:47:26.738263Z",
     "start_time": "2023-12-08T15:47:25.706978Z"
    }
   },
   "outputs": [],
   "source": [
    "report = classification_report(test_y, predictions, output_dict=True)"
   ]
  },
  {
   "cell_type": "code",
   "execution_count": 101,
   "id": "1a66eb7f",
   "metadata": {
    "ExecuteTime": {
     "end_time": "2023-12-08T15:47:26.753885Z",
     "start_time": "2023-12-08T15:47:26.738263Z"
    }
   },
   "outputs": [
    {
     "data": {
      "text/plain": [
       "0.14113848746994523"
      ]
     },
     "execution_count": 101,
     "metadata": {},
     "output_type": "execute_result"
    }
   ],
   "source": [
    "accuracy_value = report[\"accuracy\"]\n",
    "accuracy_value "
   ]
  },
  {
   "cell_type": "code",
   "execution_count": 102,
   "id": "3387769f",
   "metadata": {
    "ExecuteTime": {
     "end_time": "2023-12-08T15:47:26.769512Z",
     "start_time": "2023-12-08T15:47:26.753885Z"
    }
   },
   "outputs": [
    {
     "data": {
      "text/plain": [
       "0.05524974189391646"
      ]
     },
     "execution_count": 102,
     "metadata": {},
     "output_type": "execute_result"
    }
   ],
   "source": [
    "precision_value = report[\"macro avg\"][\"precision\"]\n",
    "precision_value"
   ]
  },
  {
   "cell_type": "code",
   "execution_count": 103,
   "id": "f29e6e1f",
   "metadata": {
    "ExecuteTime": {
     "end_time": "2023-12-08T15:47:26.785138Z",
     "start_time": "2023-12-08T15:47:26.769512Z"
    }
   },
   "outputs": [
    {
     "data": {
      "text/plain": [
       "0.27637783618620476"
      ]
     },
     "execution_count": 103,
     "metadata": {},
     "output_type": "execute_result"
    }
   ],
   "source": [
    "recall_value = report[\"macro avg\"][\"recall\"]\n",
    "recall_value"
   ]
  },
  {
   "cell_type": "code",
   "execution_count": 104,
   "id": "f50760ce",
   "metadata": {
    "ExecuteTime": {
     "end_time": "2023-12-08T15:47:26.800761Z",
     "start_time": "2023-12-08T15:47:26.785138Z"
    }
   },
   "outputs": [
    {
     "data": {
      "text/plain": [
       "0.0920900740697612"
      ]
     },
     "execution_count": 104,
     "metadata": {},
     "output_type": "execute_result"
    }
   ],
   "source": [
    "f1_value = report[\"macro avg\"][\"f1-score\"]\n",
    "f1_value "
   ]
  },
  {
   "cell_type": "code",
   "execution_count": 105,
   "id": "bed1fcbf",
   "metadata": {
    "ExecuteTime": {
     "end_time": "2023-12-08T15:47:26.816389Z",
     "start_time": "2023-12-08T15:47:26.800761Z"
    }
   },
   "outputs": [
    {
     "data": {
      "text/plain": [
       "1068.471934556961"
      ]
     },
     "execution_count": 105,
     "metadata": {},
     "output_type": "execute_result"
    }
   ],
   "source": [
    "model_training_time = end_time - start_time\n",
    "model_training_time"
   ]
  },
  {
   "cell_type": "code",
   "execution_count": 106,
   "id": "b7e8924a",
   "metadata": {
    "ExecuteTime": {
     "end_time": "2023-12-08T15:49:00.638455Z",
     "start_time": "2023-12-08T15:47:26.816389Z"
    }
   },
   "outputs": [
    {
     "data": {
      "text/plain": [
       "array([ 0.04727288,  0.0423047 , -0.0234602 , ...,  0.04183078,\n",
       "        0.05418732,  0.05624928])"
      ]
     },
     "execution_count": 106,
     "metadata": {},
     "output_type": "execute_result"
    }
   ],
   "source": [
    "anomaly_scores = iso_model_baseline_best.decision_function(test_x)\n",
    "anomaly_scores"
   ]
  },
  {
   "cell_type": "code",
   "execution_count": 107,
   "id": "3952897b",
   "metadata": {
    "ExecuteTime": {
     "end_time": "2023-12-08T15:49:01.135979Z",
     "start_time": "2023-12-08T15:49:00.638455Z"
    }
   },
   "outputs": [],
   "source": [
    "anomaly_scores_json = json.dumps(anomaly_scores.tolist())"
   ]
  },
  {
   "cell_type": "code",
   "execution_count": 108,
   "id": "a8abe1d8",
   "metadata": {
    "ExecuteTime": {
     "end_time": "2023-12-08T15:49:01.151643Z",
     "start_time": "2023-12-08T15:49:01.135979Z"
    }
   },
   "outputs": [],
   "source": [
    "anomaly_score = anomaly_scores_json"
   ]
  },
  {
   "cell_type": "code",
   "execution_count": 109,
   "id": "8ea263e7",
   "metadata": {
    "ExecuteTime": {
     "end_time": "2023-12-08T15:49:10.077143Z",
     "start_time": "2023-12-08T15:49:01.151643Z"
    }
   },
   "outputs": [
    {
     "data": {
      "image/png": "[encoded data removed]",
      "text/plain": [
       "<Figure size 1000x600 with 1 Axes>"
      ]
     },
     "metadata": {},
     "output_type": "display_data"
    }
   ],
   "source": [
    "x_axis = test_x.iloc[:, 0] \n",
    "y_axis = test_x.iloc[:, 1]  \n",
    "predictions_array = np.array(predictions)\n",
    "\n",
    "# Create boolean masks\n",
    "normal_points = predictions_array == 0\n",
    "anomalies = predictions_array == 1\n",
    "\n",
    "plt.figure(figsize=(10, 6))\n",
    "plt.scatter(x_axis[normal_points], y_axis[normal_points], color='green', label='Normal')\n",
    "plt.scatter(x_axis[anomalies], y_axis[anomalies], color='red', label='Anomaly')\n",
    "plt.title('Anomaly Detection')\n",
    "plt.xlabel('Feature 1')\n",
    "plt.ylabel('Feature 2')\n",
    "plt.legend()\n",
    "plt.show()"
   ]
  },
  {
   "cell_type": "code",
   "execution_count": 110,
   "id": "2d40b713",
   "metadata": {
    "ExecuteTime": {
     "end_time": "2023-12-08T15:49:11.033501Z",
     "start_time": "2023-12-08T15:49:10.077143Z"
    }
   },
   "outputs": [],
   "source": [
    "plot_data = {\n",
    "    \"x_axis\": x_axis.tolist(),  \n",
    "    \"y_axis\": y_axis.tolist(),  \n",
    "    \"normal_points\": normal_points.tolist(),  \n",
    "    \"anomalies\": anomalies.tolist()  \n",
    "}\n",
    "\n",
    "anomaly_detection_plot = json.dumps(plot_data)"
   ]
  },
  {
   "cell_type": "code",
   "execution_count": 111,
   "id": "8ac9f98e",
   "metadata": {
    "ExecuteTime": {
     "end_time": "2023-12-08T18:56:07.395178Z",
     "start_time": "2023-12-08T15:49:11.034468Z"
    }
   },
   "outputs": [],
   "source": [
    "silhouette_score = silhouette_score(test_x, predictions)"
   ]
  },
  {
   "cell_type": "code",
   "execution_count": 112,
   "id": "3bdea41b",
   "metadata": {
    "ExecuteTime": {
     "end_time": "2023-12-08T18:56:07.410818Z",
     "start_time": "2023-12-08T18:56:07.395178Z"
    }
   },
   "outputs": [],
   "source": [
    "silhouette_score = float(silhouette_score)"
   ]
  },
  {
   "cell_type": "markdown",
   "id": "8766cd6d",
   "metadata": {},
   "source": [
    "## Sent Results to DB"
   ]
  },
  {
   "cell_type": "code",
   "execution_count": 113,
   "id": "9e7f9428",
   "metadata": {
    "ExecuteTime": {
     "end_time": "2023-12-08T18:56:07.426885Z",
     "start_time": "2023-12-08T18:56:07.410818Z"
    }
   },
   "outputs": [],
   "source": [
    "# Not needed to send for ISO model\n",
    "ruc_curve = None\n",
    "auc_score = None\n",
    "precision_recall_curve = None\n",
    "feature_importance = None\n",
    "\n",
    "cluster_centers = None\n",
    "elbow_method_results = None\n",
    "cluster_visualisation_plot = None\n",
    "\n",
    "decision_function_values = None\n",
    "support_vectors = None\n",
    "one_class_svm_plot = None"
   ]
  },
  {
   "cell_type": "code",
   "execution_count": 114,
   "id": "0da07c67",
   "metadata": {
    "ExecuteTime": {
     "end_time": "2023-12-08T18:56:07.442878Z",
     "start_time": "2023-12-08T18:56:07.428881Z"
    }
   },
   "outputs": [
    {
     "name": "stdout",
     "output_type": "stream",
     "text": [
      "<class 'str'>\n",
      "<class 'str'>\n",
      "<class 'str'>\n",
      "<class 'float'>\n",
      "<class 'float'>\n",
      "<class 'float'>\n",
      "<class 'float'>\n",
      "<class 'float'>\n",
      "<class 'float'>\n",
      "<class 'str'>\n",
      "<class 'str'>\n"
     ]
    }
   ],
   "source": [
    "# test object types\n",
    "\n",
    "print(type(model_name))\n",
    "print(type(model_parameters))\n",
    "print(type(confusion_matrix))\n",
    "print(type(accuracy_value))\n",
    "print(type(precision_value))\n",
    "print(type(recall_value))\n",
    "print(type(f1_value))\n",
    "print(type(model_training_time))\n",
    "print(type(silhouette_score)) \n",
    "print(type(anomaly_score))\n",
    "print(type(anomaly_detection_plot))"
   ]
  },
  {
   "cell_type": "code",
   "execution_count": 115,
   "id": "adb29383",
   "metadata": {
    "ExecuteTime": {
     "end_time": "2023-12-08T18:56:15.719907Z",
     "start_time": "2023-12-08T18:56:07.443971Z"
    }
   },
   "outputs": [
    {
     "name": "stdout",
     "output_type": "stream",
     "text": [
      "The model results have been inserted successfully\n",
      "The Conneciton to MySQL is closed.\n"
     ]
    }
   ],
   "source": [
    "# call and save to DB\n",
    "insert_model_results_to_db(config, model_name, model_parameters, confusion_matrix, # note the config is the conneciton details, username, pw, host, etc\n",
    "                                accuracy_value, precision_value, recall_value, f1_value, \n",
    "                                ruc_curve, auc_score, precision_recall_curve, feature_importance, model_training_time, \n",
    "                                silhouette_score, cluster_centers, elbow_method_results, \n",
    "                                cluster_visualisation_plot, anomaly_score, anomaly_detection_plot, \n",
    "                                decision_function_values, support_vectors, one_class_svm_plot)"
   ]
  },
  {
   "cell_type": "markdown",
   "id": "39b7c83c",
   "metadata": {},
   "source": [
    "## Save the best Model"
   ]
  },
  {
   "cell_type": "code",
   "execution_count": 116,
   "id": "57a2e99d",
   "metadata": {
    "ExecuteTime": {
     "end_time": "2023-12-08T18:56:15.927720Z",
     "start_time": "2023-12-08T18:56:15.719907Z"
    }
   },
   "outputs": [
    {
     "data": {
      "text/plain": [
       "['C:\\\\Users\\\\Kolobane\\\\OneDrive\\\\CIT MSc Data Science Modules\\\\_Semester Three - Final Project\\\\Project Two - Network Project\\\\ML Models\\\\iso_model_baseline_best_2.joblib']"
      ]
     },
     "execution_count": 116,
     "metadata": {},
     "output_type": "execute_result"
    }
   ],
   "source": [
    "# save model to file.\n",
    "\n",
    "#save folder location\n",
    "model_path = r\"C:\\Users\\Kolobane\\OneDrive\\CIT MSc Data Science Modules\\_Semester Three - Final Project\\Project Two - Network Project\\ML Models\\iso_model_baseline_best_2.joblib\"\n",
    "\n",
    "# save model\n",
    "dump(iso_model_baseline_best, model_path)"
   ]
  },
  {
   "cell_type": "markdown",
   "id": "aa855bd1",
   "metadata": {},
   "source": [
    "---"
   ]
  },
  {
   "cell_type": "markdown",
   "id": "b69163a7",
   "metadata": {},
   "source": [
    "---"
   ]
  },
  {
   "cell_type": "markdown",
   "id": "cd6dec7d",
   "metadata": {},
   "source": [
    "# **One Class SVM Basic Model**"
   ]
  },
  {
   "cell_type": "markdown",
   "id": "ad535070",
   "metadata": {},
   "source": [
    "The training is taking a huge amount of time. Either running for days or crashing my machine regularlly"
   ]
  },
  {
   "cell_type": "markdown",
   "id": "fcd197d9",
   "metadata": {},
   "source": [
    "## Basic Kernel: RBF - Radical Basis Function"
   ]
  },
  {
   "cell_type": "code",
   "execution_count": 1,
   "id": "d811f4c6",
   "metadata": {
    "ExecuteTime": {
     "end_time": "2023-12-10T20:08:32.361547Z",
     "start_time": "2023-12-10T20:08:31.822730Z"
    }
   },
   "outputs": [
    {
     "ename": "NameError",
     "evalue": "name 'OneClassSVM' is not defined",
     "output_type": "error",
     "traceback": [
      "\u001b[1;31m---------------------------------------------------------------------------\u001b[0m",
      "\u001b[1;31mNameError\u001b[0m                                 Traceback (most recent call last)",
      "Cell \u001b[1;32mIn[1], line 2\u001b[0m\n\u001b[0;32m      1\u001b[0m \u001b[38;5;66;03m# Initialize One-Class SVM # default settings\u001b[39;00m\n\u001b[1;32m----> 2\u001b[0m oc_svm \u001b[38;5;241m=\u001b[39m \u001b[43mOneClassSVM\u001b[49m()\n",
      "\u001b[1;31mNameError\u001b[0m: name 'OneClassSVM' is not defined"
     ]
    }
   ],
   "source": [
    "# Initialize One-Class SVM # default settings\n",
    "oc_svm = OneClassSVM()"
   ]
  },
  {
   "cell_type": "markdown",
   "id": "24f6f3eb",
   "metadata": {},
   "source": [
    "#### 0.0001% in pandas"
   ]
  },
  {
   "cell_type": "code",
   "execution_count": 142,
   "id": "fe636229",
   "metadata": {
    "ExecuteTime": {
     "end_time": "2023-12-09T21:32:03.858380Z",
     "start_time": "2023-12-09T21:32:03.829036Z"
    }
   },
   "outputs": [
    {
     "ename": "NameError",
     "evalue": "name 'normal_data' is not defined",
     "output_type": "error",
     "traceback": [
      "\u001b[1;31m---------------------------------------------------------------------------\u001b[0m",
      "\u001b[1;31mNameError\u001b[0m                                 Traceback (most recent call last)",
      "Cell \u001b[1;32mIn[142], line 2\u001b[0m\n\u001b[0;32m      1\u001b[0m \u001b[38;5;66;03m# Take 1% sample\u001b[39;00m\n\u001b[1;32m----> 2\u001b[0m sample_data_1_perc \u001b[38;5;241m=\u001b[39m \u001b[43mnormal_data\u001b[49m\u001b[38;5;241m.\u001b[39msample(frac\u001b[38;5;241m=\u001b[39m\u001b[38;5;241m0.0001\u001b[39m, random_state\u001b[38;5;241m=\u001b[39m\u001b[38;5;241m42\u001b[39m)\n\u001b[0;32m      3\u001b[0m sample_data_1_perc\u001b[38;5;241m.\u001b[39mshape\n",
      "\u001b[1;31mNameError\u001b[0m: name 'normal_data' is not defined"
     ]
    }
   ],
   "source": [
    "# Take 1% sample\n",
    "sample_data_1_perc = normal_data.sample(frac=0.0001, random_state=42)\n",
    "sample_data_1_perc.shape"
   ]
  },
  {
   "cell_type": "code",
   "execution_count": 2,
   "id": "cc9d8a2e",
   "metadata": {
    "ExecuteTime": {
     "end_time": "2023-11-27T18:55:17.779912Z",
     "start_time": "2023-11-27T18:55:17.765401Z"
    }
   },
   "outputs": [],
   "source": [
    "# # start timer\n",
    "# start_time = time.time()\n",
    "\n",
    "# # Train the model only on normal data\n",
    "# oc_svm.fit(sample_data_1_perc)\n",
    "\n",
    "# end_time = time.time()"
   ]
  },
  {
   "cell_type": "markdown",
   "id": "67f1ba9c",
   "metadata": {},
   "source": [
    "09.18 am Friday started training model."
   ]
  },
  {
   "cell_type": "code",
   "execution_count": 3,
   "id": "e439e1e7",
   "metadata": {
    "ExecuteTime": {
     "end_time": "2023-11-27T18:55:20.773228Z",
     "start_time": "2023-11-27T18:55:20.755148Z"
    }
   },
   "outputs": [],
   "source": [
    "# training_time =  end_time - start_time\n",
    "# training_time "
   ]
  },
  {
   "cell_type": "markdown",
   "id": "1a187606",
   "metadata": {},
   "source": [
    "#### 0.001% in pandas"
   ]
  },
  {
   "cell_type": "code",
   "execution_count": null,
   "id": "339922b2",
   "metadata": {
    "ExecuteTime": {
     "end_time": "2023-11-26T11:24:51.101870Z",
     "start_time": "2023-11-26T11:24:50.840268Z"
    }
   },
   "outputs": [],
   "source": [
    "# sample_data_1_perc = normal_data.sample(frac=0.001, random_state=42)\n",
    "# sample_data_1_perc.shape"
   ]
  },
  {
   "cell_type": "code",
   "execution_count": null,
   "id": "edff583a",
   "metadata": {
    "ExecuteTime": {
     "end_time": "2023-11-26T11:24:59.192998Z",
     "start_time": "2023-11-26T11:24:58.047663Z"
    }
   },
   "outputs": [],
   "source": [
    "# # start timer\n",
    "# start_time = time.time()\n",
    "\n",
    "# # Train the model only on normal data\n",
    "# oc_svm.fit(sample_data_1_perc)\n",
    "\n",
    "# end_time = time.time()"
   ]
  },
  {
   "cell_type": "code",
   "execution_count": null,
   "id": "bae89e08",
   "metadata": {
    "ExecuteTime": {
     "end_time": "2023-11-26T11:25:05.633338Z",
     "start_time": "2023-11-26T11:25:05.615339Z"
    }
   },
   "outputs": [],
   "source": [
    "# training_time =  end_time - start_time\n",
    "# training_time "
   ]
  },
  {
   "cell_type": "markdown",
   "id": "8dce2c4d",
   "metadata": {},
   "source": [
    "#### 0.01% in pandas"
   ]
  },
  {
   "cell_type": "code",
   "execution_count": null,
   "id": "d9fa68bc",
   "metadata": {
    "ExecuteTime": {
     "end_time": "2023-11-26T11:25:31.383875Z",
     "start_time": "2023-11-26T11:25:31.104131Z"
    }
   },
   "outputs": [],
   "source": [
    "# sample_data_1_perc = normal_data.sample(frac=0.01, random_state=42)\n",
    "# sample_data_1_perc.shape"
   ]
  },
  {
   "cell_type": "code",
   "execution_count": null,
   "id": "c21def4d",
   "metadata": {
    "ExecuteTime": {
     "end_time": "2023-11-26T11:30:52.956507Z",
     "start_time": "2023-11-26T11:25:37.601400Z"
    }
   },
   "outputs": [],
   "source": [
    "# # start timer\n",
    "# start_time = time.time()\n",
    "\n",
    "# # Train the model only on normal data\n",
    "# oc_svm.fit(sample_data_1_perc)\n",
    "\n",
    "# end_time = time.time()"
   ]
  },
  {
   "cell_type": "code",
   "execution_count": null,
   "id": "5d7d8978",
   "metadata": {
    "ExecuteTime": {
     "end_time": "2023-11-26T11:30:52.972550Z",
     "start_time": "2023-11-26T11:30:52.959512Z"
    }
   },
   "outputs": [],
   "source": [
    "# training_time =  end_time - start_time\n",
    "# training_time "
   ]
  },
  {
   "cell_type": "markdown",
   "id": "5163d8fa",
   "metadata": {},
   "source": [
    "#### 0.1% in pandas - "
   ]
  },
  {
   "cell_type": "code",
   "execution_count": 147,
   "id": "f7483551",
   "metadata": {
    "ExecuteTime": {
     "end_time": "2023-12-09T22:25:18.453086Z",
     "start_time": "2023-12-09T22:25:18.194585Z"
    }
   },
   "outputs": [
    {
     "data": {
      "text/plain": [
       "(6455, 70)"
      ]
     },
     "execution_count": 147,
     "metadata": {},
     "output_type": "execute_result"
    }
   ],
   "source": [
    "sample_data_1_perc = train_x.sample(frac=0.001, random_state=42)\n",
    "sample_data_1_perc.shape"
   ]
  },
  {
   "cell_type": "code",
   "execution_count": 148,
   "id": "81197cad",
   "metadata": {
    "ExecuteTime": {
     "end_time": "2023-12-09T22:25:23.537034Z",
     "start_time": "2023-12-09T22:25:21.697832Z"
    }
   },
   "outputs": [],
   "source": [
    "# start timer\n",
    "start_time = time.time()\n",
    "\n",
    "# Train the model only on normal data\n",
    "oc_svm.fit(sample_data_1_perc)\n",
    "\n",
    "end_time = time.time()"
   ]
  },
  {
   "cell_type": "code",
   "execution_count": 149,
   "id": "64726491",
   "metadata": {
    "ExecuteTime": {
     "end_time": "2023-12-09T22:25:25.253618Z",
     "start_time": "2023-12-09T22:25:25.242048Z"
    }
   },
   "outputs": [
    {
     "data": {
      "text/plain": [
       "1.823887825012207"
      ]
     },
     "execution_count": 149,
     "metadata": {},
     "output_type": "execute_result"
    }
   ],
   "source": [
    "training_time =  end_time - start_time\n",
    "training_time "
   ]
  },
  {
   "cell_type": "code",
   "execution_count": null,
   "id": "7c9a726c",
   "metadata": {},
   "outputs": [],
   "source": []
  },
  {
   "cell_type": "markdown",
   "id": "087b7dd2",
   "metadata": {},
   "source": [
    "#### 0.0001% in numpy."
   ]
  },
  {
   "cell_type": "code",
   "execution_count": null,
   "id": "9b21b6b6",
   "metadata": {
    "ExecuteTime": {
     "end_time": "2023-11-26T11:55:53.426845Z",
     "start_time": "2023-11-26T11:55:53.226634Z"
    }
   },
   "outputs": [],
   "source": [
    "# # Take 1% sample\n",
    "# sample_data_1_perc = normal_data.sample(frac=0.0001, random_state=42)\n",
    "# sample_data_1_perc.shape"
   ]
  },
  {
   "cell_type": "code",
   "execution_count": null,
   "id": "90c6abf5",
   "metadata": {
    "ExecuteTime": {
     "end_time": "2023-11-26T11:58:27.412729Z",
     "start_time": "2023-11-26T11:58:27.397114Z"
    }
   },
   "outputs": [],
   "source": [
    "# sample_data_1_perc_numpy = sample_data_1_perc.to_numpy()"
   ]
  },
  {
   "cell_type": "code",
   "execution_count": null,
   "id": "85192ed4",
   "metadata": {
    "ExecuteTime": {
     "end_time": "2023-11-26T12:01:09.209535Z",
     "start_time": "2023-11-26T12:01:09.188856Z"
    }
   },
   "outputs": [],
   "source": [
    "# # start timer\n",
    "# start_time = time.time()\n",
    "\n",
    "# # Train the model only on normal data\n",
    "# oc_svm.fit(sample_data_1_perc_numpy)\n",
    "\n",
    "# end_time = time.time()"
   ]
  },
  {
   "cell_type": "code",
   "execution_count": null,
   "id": "ed04dbe0",
   "metadata": {
    "ExecuteTime": {
     "end_time": "2023-11-26T12:01:14.765387Z",
     "start_time": "2023-11-26T12:01:14.748348Z"
    }
   },
   "outputs": [],
   "source": [
    "# training_time =  end_time - start_time\n",
    "# training_time "
   ]
  },
  {
   "cell_type": "markdown",
   "id": "5fe81a7f",
   "metadata": {},
   "source": [
    "#### 0.01% in numpy."
   ]
  },
  {
   "cell_type": "code",
   "execution_count": null,
   "id": "79dc9460",
   "metadata": {
    "ExecuteTime": {
     "end_time": "2023-11-26T12:03:28.455252Z",
     "start_time": "2023-11-26T12:03:28.253872Z"
    }
   },
   "outputs": [],
   "source": [
    "# # Take 1% sample\n",
    "# sample_data_1_perc = normal_data.sample(frac=0.001, random_state=42)\n",
    "# sample_data_1_perc.shape"
   ]
  },
  {
   "cell_type": "code",
   "execution_count": null,
   "id": "8c229806",
   "metadata": {
    "ExecuteTime": {
     "end_time": "2023-11-26T12:03:30.468074Z",
     "start_time": "2023-11-26T12:03:30.454011Z"
    }
   },
   "outputs": [],
   "source": [
    "# sample_data_1_perc_numpy = sample_data_1_perc.to_numpy()"
   ]
  },
  {
   "cell_type": "code",
   "execution_count": null,
   "id": "18babc83",
   "metadata": {
    "ExecuteTime": {
     "end_time": "2023-11-26T12:03:33.849143Z",
     "start_time": "2023-11-26T12:03:32.677199Z"
    }
   },
   "outputs": [],
   "source": [
    "# # start timer\n",
    "# start_time = time.time()\n",
    "\n",
    "# # Train the model only on normal data\n",
    "# oc_svm.fit(sample_data_1_perc_numpy)\n",
    "\n",
    "# end_time = time.time()"
   ]
  },
  {
   "cell_type": "code",
   "execution_count": null,
   "id": "0d3023c0",
   "metadata": {
    "ExecuteTime": {
     "end_time": "2023-11-26T12:03:34.333056Z",
     "start_time": "2023-11-26T12:03:34.318109Z"
    }
   },
   "outputs": [],
   "source": [
    "# training_time =  end_time - start_time\n",
    "# training_time "
   ]
  },
  {
   "cell_type": "markdown",
   "id": "a184fd6a",
   "metadata": {},
   "source": [
    "#### 0.1% in numpy - LOOK AND COMPARE THIS"
   ]
  },
  {
   "cell_type": "code",
   "execution_count": null,
   "id": "c57747a8",
   "metadata": {
    "ExecuteTime": {
     "end_time": "2023-11-26T12:03:39.628631Z",
     "start_time": "2023-11-26T12:03:38.764618Z"
    }
   },
   "outputs": [],
   "source": [
    "# # Take 1% sample\n",
    "# sample_data_1_perc = normal_data.sample(frac=0.1, random_state=42)\n",
    "# sample_data_1_perc.shape"
   ]
  },
  {
   "cell_type": "code",
   "execution_count": null,
   "id": "2799d735",
   "metadata": {
    "ExecuteTime": {
     "end_time": "2023-11-26T12:03:43.255928Z",
     "start_time": "2023-11-26T12:03:43.245451Z"
    }
   },
   "outputs": [],
   "source": [
    "# sample_data_1_perc_numpy = sample_data_1_perc.to_numpy()"
   ]
  },
  {
   "cell_type": "code",
   "execution_count": null,
   "id": "394c7641",
   "metadata": {
    "ExecuteTime": {
     "start_time": "2023-11-26T12:03:46.578Z"
    }
   },
   "outputs": [],
   "source": [
    "# # start timer\n",
    "# start_time = time.time()\n",
    "\n",
    "# # Train the model only on normal data\n",
    "# oc_svm.fit(sample_data_1_perc_numpy)\n",
    "\n",
    "# end_time = time.time()"
   ]
  },
  {
   "cell_type": "code",
   "execution_count": null,
   "id": "c2ccfc05",
   "metadata": {
    "ExecuteTime": {
     "start_time": "2023-11-26T12:03:49.386Z"
    }
   },
   "outputs": [],
   "source": [
    "# training_time =  end_time - start_time\n",
    "# training_time "
   ]
  },
  {
   "cell_type": "markdown",
   "id": "286cac2f",
   "metadata": {},
   "source": [
    "## Change kernel:Linear"
   ]
  },
  {
   "cell_type": "code",
   "execution_count": 10,
   "id": "5642128b",
   "metadata": {
    "ExecuteTime": {
     "end_time": "2023-11-28T17:16:11.128534Z",
     "start_time": "2023-11-28T17:16:11.121694Z"
    }
   },
   "outputs": [],
   "source": [
    "# # Initialize One-Class SVM # default settings\n",
    "# oc_svm = OneClassSVM(kernel=\"linear\", nu=0.1)"
   ]
  },
  {
   "cell_type": "code",
   "execution_count": 12,
   "id": "53afd373",
   "metadata": {
    "ExecuteTime": {
     "end_time": "2023-11-28T17:16:27.033467Z",
     "start_time": "2023-11-28T17:16:26.790606Z"
    }
   },
   "outputs": [
    {
     "data": {
      "text/plain": [
       "(6455, 70)"
      ]
     },
     "execution_count": 12,
     "metadata": {},
     "output_type": "execute_result"
    }
   ],
   "source": [
    "# # Take 1% sample\n",
    "# sample_data_10_perc = train_x.sample(frac=0.001, random_state=42)\n",
    "# sample_data_10_perc.shape"
   ]
  },
  {
   "cell_type": "code",
   "execution_count": null,
   "id": "ef3e0168",
   "metadata": {
    "ExecuteTime": {
     "end_time": "2023-11-26T14:43:47.071280Z",
     "start_time": "2023-11-26T14:43:46.861841Z"
    }
   },
   "outputs": [],
   "source": [
    "# # start timer\n",
    "# start_time = time.time()\n",
    "\n",
    "# # Train the model only on normal data\n",
    "# oc_svm.fit(sample_data_1_perc)\n",
    "\n",
    "# end_time = time.time()"
   ]
  },
  {
   "cell_type": "code",
   "execution_count": null,
   "id": "433e7ff7",
   "metadata": {
    "ExecuteTime": {
     "end_time": "2023-11-26T14:43:49.903422Z",
     "start_time": "2023-11-26T14:43:49.895416Z"
    },
    "scrolled": true
   },
   "outputs": [],
   "source": [
    "# training_time =  end_time - start_time\n",
    "# training_time "
   ]
  },
  {
   "cell_type": "markdown",
   "id": "da0cf98b",
   "metadata": {},
   "source": [
    "## This model will be used as the basic model for one class SVM -  COMPLETED "
   ]
  },
  {
   "cell_type": "code",
   "execution_count": null,
   "id": "ab9106cc",
   "metadata": {
    "ExecuteTime": {
     "end_time": "2023-12-06T13:39:57.904159Z",
     "start_time": "2023-12-06T13:39:57.904159Z"
    }
   },
   "outputs": [],
   "source": [
    "# Take 10% sample\n",
    "sample_data_1_perc = train_x.sample(frac=0.1, random_state=42)\n",
    "sample_data_1_perc.shape"
   ]
  },
  {
   "cell_type": "code",
   "execution_count": null,
   "id": "30a3e41b",
   "metadata": {
    "ExecuteTime": {
     "end_time": "2023-12-06T13:39:57.906159Z",
     "start_time": "2023-12-06T13:39:57.906159Z"
    }
   },
   "outputs": [],
   "source": [
    "# start timer\n",
    "start_time = time.time()\n",
    "\n",
    "# Train the model only on normal data\n",
    "oc_svm.fit(sample_data_1_perc)\n",
    "\n",
    "end_time = time.time()"
   ]
  },
  {
   "cell_type": "code",
   "execution_count": null,
   "id": "06e24ad6",
   "metadata": {
    "ExecuteTime": {
     "end_time": "2023-12-06T13:39:57.907159Z",
     "start_time": "2023-12-06T13:39:57.907159Z"
    }
   },
   "outputs": [],
   "source": [
    "training_time =  end_time - start_time\n",
    "training_time "
   ]
  },
  {
   "cell_type": "markdown",
   "id": "964cbc7c",
   "metadata": {},
   "source": [
    "16000 seconds."
   ]
  },
  {
   "cell_type": "code",
   "execution_count": null,
   "id": "0ee5c4c1",
   "metadata": {
    "ExecuteTime": {
     "end_time": "2023-12-06T13:39:57.908004Z",
     "start_time": "2023-12-06T13:39:57.908004Z"
    }
   },
   "outputs": [],
   "source": [
    "# Predictions\n",
    "predictions = oc_svm.predict(test_x)"
   ]
  },
  {
   "cell_type": "code",
   "execution_count": null,
   "id": "20b32bb5",
   "metadata": {
    "ExecuteTime": {
     "end_time": "2023-12-06T13:39:57.909119Z",
     "start_time": "2023-12-06T13:39:57.909119Z"
    }
   },
   "outputs": [],
   "source": [
    "predictions"
   ]
  },
  {
   "cell_type": "markdown",
   "id": "45e2548e",
   "metadata": {},
   "source": [
    "## Explore Results"
   ]
  },
  {
   "cell_type": "code",
   "execution_count": null,
   "id": "8242bd11",
   "metadata": {
    "ExecuteTime": {
     "end_time": "2023-12-06T13:39:57.910119Z",
     "start_time": "2023-12-06T13:39:57.910119Z"
    }
   },
   "outputs": [],
   "source": [
    "model_name = \"oc_svm_model_baseline_basic\""
   ]
  },
  {
   "cell_type": "code",
   "execution_count": null,
   "id": "bb38f422",
   "metadata": {
    "ExecuteTime": {
     "end_time": "2023-12-06T13:39:57.911120Z",
     "start_time": "2023-12-06T13:39:57.911120Z"
    }
   },
   "outputs": [],
   "source": [
    "model_parameters = oc_svm.get_params()"
   ]
  },
  {
   "cell_type": "code",
   "execution_count": null,
   "id": "a4e12d99",
   "metadata": {
    "ExecuteTime": {
     "end_time": "2023-12-06T13:39:57.912120Z",
     "start_time": "2023-12-06T13:39:57.912120Z"
    }
   },
   "outputs": [],
   "source": [
    "model_parameters = json.dumps(model_parameters)\n",
    "type(model_parameters)"
   ]
  },
  {
   "cell_type": "code",
   "execution_count": null,
   "id": "ab3ea2cd",
   "metadata": {
    "ExecuteTime": {
     "end_time": "2023-12-06T13:39:57.913248Z",
     "start_time": "2023-12-06T13:39:57.913248Z"
    }
   },
   "outputs": [],
   "source": [
    "model_training_time = end_time - start_time\n",
    "model_training_time"
   ]
  },
  {
   "cell_type": "code",
   "execution_count": null,
   "id": "8fbbbd5e",
   "metadata": {
    "ExecuteTime": {
     "end_time": "2023-12-06T13:39:57.914249Z",
     "start_time": "2023-12-06T13:39:57.914249Z"
    }
   },
   "outputs": [],
   "source": [
    "decision_function_values = oc_svm.decision_function(test_x)"
   ]
  },
  {
   "cell_type": "code",
   "execution_count": null,
   "id": "cd67be93",
   "metadata": {
    "ExecuteTime": {
     "end_time": "2023-12-06T13:39:57.915249Z",
     "start_time": "2023-12-06T13:39:57.915249Z"
    }
   },
   "outputs": [],
   "source": [
    "decision_function_values"
   ]
  },
  {
   "cell_type": "code",
   "execution_count": null,
   "id": "88c05b7e",
   "metadata": {
    "ExecuteTime": {
     "end_time": "2023-12-06T13:39:57.916248Z",
     "start_time": "2023-12-06T13:39:57.916248Z"
    }
   },
   "outputs": [],
   "source": [
    "type(decision_function_values)"
   ]
  },
  {
   "cell_type": "code",
   "execution_count": null,
   "id": "6df60431",
   "metadata": {
    "ExecuteTime": {
     "end_time": "2023-12-06T13:39:57.917248Z",
     "start_time": "2023-12-06T13:39:57.917248Z"
    }
   },
   "outputs": [],
   "source": [
    "support_vectors = oc_svm.support_vectors_"
   ]
  },
  {
   "cell_type": "code",
   "execution_count": null,
   "id": "a45e1a10",
   "metadata": {
    "ExecuteTime": {
     "end_time": "2023-12-06T13:39:57.918248Z",
     "start_time": "2023-12-06T13:39:57.918248Z"
    },
    "scrolled": true
   },
   "outputs": [],
   "source": [
    "support_vectors"
   ]
  },
  {
   "cell_type": "code",
   "execution_count": null,
   "id": "938617e1",
   "metadata": {
    "ExecuteTime": {
     "end_time": "2023-12-06T13:39:57.919247Z",
     "start_time": "2023-12-06T13:39:57.919247Z"
    },
    "scrolled": true
   },
   "outputs": [],
   "source": [
    "type(support_vectors)"
   ]
  },
  {
   "cell_type": "markdown",
   "id": "24db2b75",
   "metadata": {},
   "source": [
    "70 features so I difficult to do a plot of the support vectors."
   ]
  },
  {
   "cell_type": "code",
   "execution_count": null,
   "id": "2cc4647a",
   "metadata": {
    "ExecuteTime": {
     "end_time": "2023-12-06T13:39:57.920329Z",
     "start_time": "2023-12-06T13:39:57.920329Z"
    },
    "scrolled": true
   },
   "outputs": [],
   "source": [
    "from sklearn.decomposition import PCA\n",
    "import numpy as np\n",
    "import matplotlib.pyplot as plt\n",
    "\n",
    "# Reducing the dimensions of the data to 2D\n",
    "pca = PCA(n_components=2)\n",
    "train_x_2d = pca.fit_transform(train_x)\n",
    "test_x_2d = pca.transform(test_x)\n",
    "\n",
    "# Create a grid for visualization\n",
    "xx, yy = np.meshgrid(np.linspace(-5, 5, 500), np.linspace(-5, 5, 500))\n",
    "grid_data = np.c_[xx.ravel(), yy.ravel()]\n",
    "grid_data_transformed = pca.inverse_transform(grid_data)\n",
    "\n",
    "# Decision function on the grid\n",
    "Z = oc_svm.decision_function(grid_data_transformed)\n",
    "Z = Z.reshape(xx.shape)\n",
    "\n",
    "plt.figure(figsize=(10, 6))\n",
    "\n",
    "# Plot decision boundary\n",
    "plt.contourf(xx, yy, Z, levels=np.linspace(Z.min(), 0, 7), cmap=plt.cm.PuBu)\n",
    "plt.contour(xx, yy, Z, levels=[0], linewidths=2, colors='darkred')\n",
    "\n",
    "# Plot data points\n",
    "plt.scatter(train_x_2d[:, 0], train_x_2d[:, 1], c='white', s=20, edgecolor='k')\n",
    "plt.scatter(test_x_2d[:, 0], test_x_2d[:, 1], c='blue', s=20, edgecolor='k')\n",
    "\n",
    "plt.title(\"One-Class SVM (2D Projection)\")\n",
    "plt.show()\n"
   ]
  },
  {
   "cell_type": "code",
   "execution_count": null,
   "id": "3639560b",
   "metadata": {
    "ExecuteTime": {
     "end_time": "2023-12-06T13:39:57.921346Z",
     "start_time": "2023-12-06T13:39:57.921346Z"
    }
   },
   "outputs": [],
   "source": [
    "# map predictions to -1 to 1\n",
    "cluster_labels = (predictions +1) //2\n",
    "silhouette_score_avg = silhouette_score(test_x, cluster_labels)\n",
    "silhouette_score_avg"
   ]
  },
  {
   "cell_type": "code",
   "execution_count": null,
   "id": "24885cfa",
   "metadata": {},
   "outputs": [],
   "source": []
  },
  {
   "cell_type": "code",
   "execution_count": null,
   "id": "14adb345",
   "metadata": {
    "ExecuteTime": {
     "end_time": "2023-12-06T13:39:57.923345Z",
     "start_time": "2023-12-06T13:39:57.923345Z"
    }
   },
   "outputs": [],
   "source": [
    "# Calculate the decision function values (as you've already done)\n",
    "decision_function_values = oc_svm.decision_function(test_x)\n",
    "\n",
    "# ROC AUC Curve\n",
    "fpr, tpr, _ = roc_curve(true_labels, -decision_function_values)  # Note: Flip the sign for SVM output\n",
    "roc_auc = auc(fpr, tpr)\n",
    "\n",
    "plt.figure()\n",
    "plt.plot(fpr, tpr, color='darkorange', lw=2, label='ROC curve (area = {:.2f})'.format(roc_auc))\n",
    "plt.plot([0, 1], [0, 1], color='navy', lw=2, linestyle='--')\n",
    "plt.xlim([0.0, 1.0])\n",
    "plt.ylim([0.0, 1.05])\n",
    "plt.xlabel('False Positive Rate')\n",
    "plt.ylabel('True Positive Rate')\n",
    "plt.title('Receiver Operating Characteristic (ROC) Curve')\n",
    "plt.legend(loc='lower right')\n",
    "plt.show()\n",
    "\n",
    "# Precision-Recall Curve\n",
    "precision, recall, _ = precision_recall_curve(true_labels, -decision_function_values)  # Flip the sign for SVM output\n",
    "average_precision = average_precision_score(true_labels, -decision_function_values)\n",
    "\n",
    "plt.figure()\n",
    "plt.step(recall, precision, color='b', alpha=0.2, where='post')\n",
    "plt.fill_between(recall, precision, step='post', alpha=0.2, color='b')\n",
    "plt.xlabel('Recall')\n",
    "plt.ylabel('Precision')\n",
    "plt.ylim([0.0, 1.05])\n",
    "plt.xlim([0.0, 1.0])\n",
    "plt.title('Precision-Recall Curve (AP = {:.2f})'.format(average_precision))\n",
    "plt.show()"
   ]
  },
  {
   "cell_type": "code",
   "execution_count": null,
   "id": "4e33a993",
   "metadata": {
    "ExecuteTime": {
     "start_time": "2023-11-28T17:17:18.324Z"
    }
   },
   "outputs": [],
   "source": [
    "# values that are not needed.\n",
    "# Random forest\n",
    "confusion_matrix = None\n",
    "accuracy_value =None\n",
    "precision_value = None\n",
    "recall_value = None\n",
    "f1_value = None\n",
    "ruc_curve = None\n",
    "auc_score = None\n",
    "ruc_curve = None\n",
    "auc_score = None\n",
    "precision_recall_curve = None\n",
    "feature_importance = None\n",
    "\n",
    "# Kemans\n",
    "cluster_centers = None\n",
    "elbow_method_results = None\n",
    "cluster_visualisation_plot = None\n",
    "\n",
    "# Isolate Forest\n",
    "anomaly_score = None\n",
    "anomaly_detection_plot = None"
   ]
  },
  {
   "cell_type": "code",
   "execution_count": null,
   "id": "2d44dca1",
   "metadata": {
    "ExecuteTime": {
     "start_time": "2023-11-28T17:17:29.548Z"
    }
   },
   "outputs": [],
   "source": [
    "Stop here"
   ]
  },
  {
   "cell_type": "code",
   "execution_count": null,
   "id": "2d09133c",
   "metadata": {
    "ExecuteTime": {
     "end_time": "2023-11-27T13:42:28.810870Z",
     "start_time": "2023-11-27T13:42:28.768356Z"
    }
   },
   "outputs": [],
   "source": [
    "# test object types\n",
    "\n",
    "print(type(model_name))\n",
    "print(type(model_parameters)) \n",
    "print(type(confusion_matrix)) # Not used\n",
    "print(type(accuracy_value)) # Not used\n",
    "print(type(precision_value)) # Not used\n",
    "print(type(recall_value)) # Not used\n",
    "print(type(f1_value)) # Not used\n",
    "print(type(ruc_curve)) \n",
    "print(type(auc_score))\n",
    "print(type(precision_recall_curve)) \n",
    "print(type(feature_importance)) # Not used\n",
    "print(type(model_training_time))\n",
    "print(type(silhouette_score)) \n",
    "print(type(cluster_centers)) # Not used\n",
    "print(type(elbow_method_results)) # Not used\n",
    "print(type(cluster_visualisation_plot)) # Not used\n",
    "print(type(anomaly_score)) # Not used\n",
    "print(type(anomaly_detection_plot))# Not used\n",
    "print(type(decision_function_values)) # Not used\n",
    "print(type(support_vectors))\n",
    "print(type(one_class_svm_plot))"
   ]
  },
  {
   "cell_type": "code",
   "execution_count": null,
   "id": "d6b2cbd7",
   "metadata": {},
   "outputs": [],
   "source": [
    "# call and save to DB\n",
    "insert_model_results_to_db(config, model_name, model_parameters, confusion_matrix, # note the config is the conneciton details, username, pw, host, etc\n",
    "                                accuracy_value, precision_value, recall_value, f1_value, \n",
    "                                ruc_curve, auc_score, precision_recall_curve, feature_importance, model_training_time, \n",
    "                                silhouette_score, cluster_centers, elbow_method_results, \n",
    "                                cluster_visualisation_plot, anomaly_score, anomaly_detection_plot, \n",
    "                                decision_function_values, support_vectors, one_class_svm_plot)"
   ]
  },
  {
   "cell_type": "markdown",
   "id": "845b267d",
   "metadata": {},
   "source": [
    "## Sent Results to DB"
   ]
  },
  {
   "cell_type": "code",
   "execution_count": null,
   "id": "e169003b",
   "metadata": {},
   "outputs": [],
   "source": []
  },
  {
   "cell_type": "code",
   "execution_count": null,
   "id": "71ce9b96",
   "metadata": {},
   "outputs": [],
   "source": []
  },
  {
   "cell_type": "markdown",
   "id": "f47ead50",
   "metadata": {},
   "source": [
    "## Save Model"
   ]
  },
  {
   "cell_type": "code",
   "execution_count": null,
   "id": "9469162f",
   "metadata": {},
   "outputs": [],
   "source": [
    "# save model to file.\n",
    "\n",
    "#save folder location\n",
    "model_path = r\"C:\\Users\\Kolobane\\OneDrive\\CIT MSc Data Science Modules\\_Semester Three - Final Project\\Project Two - Network Project\\ML Models\\??????.joblib\"\n",
    "\n",
    "# save model\n",
    "dump(?????, model_path)"
   ]
  },
  {
   "cell_type": "markdown",
   "id": "fc9f3e49",
   "metadata": {},
   "source": [
    "---"
   ]
  },
  {
   "cell_type": "markdown",
   "id": "cd5ba296",
   "metadata": {
    "ExecuteTime": {
     "end_time": "2023-11-10T09:59:49.122539Z",
     "start_time": "2023-11-10T09:59:49.117703Z"
    }
   },
   "source": [
    "# **One Class SVM Model Search**"
   ]
  },
  {
   "cell_type": "markdown",
   "id": "b2e939ce",
   "metadata": {},
   "source": [
    "## GridSearch for SVM"
   ]
  },
  {
   "cell_type": "code",
   "execution_count": null,
   "id": "35783c12",
   "metadata": {},
   "outputs": [],
   "source": []
  },
  {
   "cell_type": "markdown",
   "id": "fc407b60",
   "metadata": {},
   "source": [
    "## Explore the Results"
   ]
  },
  {
   "cell_type": "code",
   "execution_count": null,
   "id": "029b8d54",
   "metadata": {},
   "outputs": [],
   "source": []
  },
  {
   "cell_type": "markdown",
   "id": "b25307ec",
   "metadata": {},
   "source": [
    "---"
   ]
  },
  {
   "cell_type": "code",
   "execution_count": null,
   "id": "2fdae103",
   "metadata": {},
   "outputs": [],
   "source": []
  },
  {
   "cell_type": "code",
   "execution_count": null,
   "id": "17ba77d0",
   "metadata": {},
   "outputs": [],
   "source": []
  },
  {
   "cell_type": "code",
   "execution_count": null,
   "id": "1e54dfa9",
   "metadata": {},
   "outputs": [],
   "source": []
  },
  {
   "cell_type": "code",
   "execution_count": null,
   "id": "f8c80507",
   "metadata": {
    "ExecuteTime": {
     "end_time": "2023-11-15T13:38:48.820297Z",
     "start_time": "2023-11-15T13:38:48.820297Z"
    }
   },
   "outputs": [],
   "source": [
    "print(\"Full notebook ran and finished with no errors. Yipee!\")"
   ]
  },
  {
   "cell_type": "markdown",
   "id": "5f20c84c",
   "metadata": {},
   "source": [
    "# **Decision Tree: Hoeffding Tree Basic Model**"
   ]
  },
  {
   "cell_type": "code",
   "execution_count": 8,
   "id": "ebc0835d",
   "metadata": {
    "ExecuteTime": {
     "end_time": "2023-12-11T20:43:50.081101Z",
     "start_time": "2023-12-11T20:43:50.072708Z"
    }
   },
   "outputs": [],
   "source": [
    "from skmultiflow.trees import HoeffdingTreeClassifier"
   ]
  },
  {
   "cell_type": "code",
   "execution_count": 23,
   "id": "febf745d",
   "metadata": {
    "ExecuteTime": {
     "end_time": "2023-12-11T20:48:28.194954Z",
     "start_time": "2023-12-11T20:48:28.177519Z"
    }
   },
   "outputs": [],
   "source": [
    "hoeffding_tree_model_basic = HoeffdingTreeClassifier()"
   ]
  },
  {
   "cell_type": "code",
   "execution_count": 30,
   "id": "7005d450",
   "metadata": {
    "ExecuteTime": {
     "end_time": "2023-12-11T21:22:18.378241Z",
     "start_time": "2023-12-11T20:59:01.777969Z"
    }
   },
   "outputs": [],
   "source": [
    "# get the start time\n",
    "start_time = time.time()\n",
    "\n",
    "hoeffding_tree_model_basic.fit(train_x.to_numpy(), train_y.to_numpy())\n",
    "\n",
    "# record the end time.\n",
    "end_time = time.time()"
   ]
  },
  {
   "cell_type": "code",
   "execution_count": 31,
   "id": "ea3f45f0",
   "metadata": {
    "ExecuteTime": {
     "end_time": "2023-12-11T21:23:17.315931Z",
     "start_time": "2023-12-11T21:22:18.380256Z"
    }
   },
   "outputs": [],
   "source": [
    "# Test the model against the test \n",
    "test_predictions = hoeffding_tree_model_basic.predict(val_test_x.to_numpy())"
   ]
  },
  {
   "cell_type": "code",
   "execution_count": 32,
   "id": "30b95b89",
   "metadata": {
    "ExecuteTime": {
     "end_time": "2023-12-11T21:23:17.331833Z",
     "start_time": "2023-12-11T21:23:17.317941Z"
    }
   },
   "outputs": [
    {
     "data": {
      "text/plain": [
       "'hoef_model_baseline_basic'"
      ]
     },
     "execution_count": 32,
     "metadata": {},
     "output_type": "execute_result"
    }
   ],
   "source": [
    "model_name = \"hoef_model_baseline_basic\"\n",
    "model_name"
   ]
  },
  {
   "cell_type": "code",
   "execution_count": 33,
   "id": "45a704fd",
   "metadata": {
    "ExecuteTime": {
     "end_time": "2023-12-11T21:23:17.347374Z",
     "start_time": "2023-12-11T21:23:17.334834Z"
    }
   },
   "outputs": [],
   "source": [
    "model_parameters = hoeffding_tree_model_basic.get_params()"
   ]
  },
  {
   "cell_type": "code",
   "execution_count": 61,
   "id": "3d31dcc8",
   "metadata": {
    "ExecuteTime": {
     "end_time": "2023-12-11T21:29:21.379041Z",
     "start_time": "2023-12-11T21:29:21.364454Z"
    }
   },
   "outputs": [],
   "source": [
    "model_parameters = json.dumps(model_parameters)"
   ]
  },
  {
   "cell_type": "code",
   "execution_count": 35,
   "id": "3fffd876",
   "metadata": {
    "ExecuteTime": {
     "end_time": "2023-12-11T21:23:50.867942Z",
     "start_time": "2023-12-11T21:23:50.652589Z"
    }
   },
   "outputs": [],
   "source": [
    "confusion_matrix = confusion_matrix(val_test_y, test_predictions)"
   ]
  },
  {
   "cell_type": "code",
   "execution_count": 36,
   "id": "cf07e4f7",
   "metadata": {
    "ExecuteTime": {
     "end_time": "2023-12-11T21:23:52.505598Z",
     "start_time": "2023-12-11T21:23:52.499050Z"
    }
   },
   "outputs": [],
   "source": [
    "confusion_matrix = confusion_matrix.tolist()"
   ]
  },
  {
   "cell_type": "code",
   "execution_count": 37,
   "id": "f367b763",
   "metadata": {
    "ExecuteTime": {
     "end_time": "2023-12-11T21:23:53.206507Z",
     "start_time": "2023-12-11T21:23:53.194934Z"
    }
   },
   "outputs": [],
   "source": [
    "confusion_matrix = model_parameters"
   ]
  },
  {
   "cell_type": "code",
   "execution_count": 39,
   "id": "d9a67e39",
   "metadata": {
    "ExecuteTime": {
     "end_time": "2023-12-11T21:24:09.088351Z",
     "start_time": "2023-12-11T21:24:07.580619Z"
    }
   },
   "outputs": [],
   "source": [
    "accuracy_value = float(accuracy_score(val_test_y, test_predictions))\n",
    "precision_value = float(precision_score(val_test_y, test_predictions))\n",
    "recall_value = float(recall_score(val_test_y, test_predictions))\n",
    "f1_value = float(f1_score(val_test_y, test_predictions))"
   ]
  },
  {
   "cell_type": "code",
   "execution_count": 40,
   "id": "a612e80b",
   "metadata": {
    "ExecuteTime": {
     "end_time": "2023-12-11T21:24:09.467787Z",
     "start_time": "2023-12-11T21:24:09.455242Z"
    }
   },
   "outputs": [
    {
     "data": {
      "text/plain": [
       "(0.9901990371309999, 0.9964636662805594, 0.9457796675573548, 0.970460352324174)"
      ]
     },
     "execution_count": 40,
     "metadata": {},
     "output_type": "execute_result"
    }
   ],
   "source": [
    "accuracy_value, precision_value, recall_value, f1_value"
   ]
  },
  {
   "cell_type": "code",
   "execution_count": 42,
   "id": "51d03e38",
   "metadata": {
    "ExecuteTime": {
     "end_time": "2023-12-11T21:26:40.406570Z",
     "start_time": "2023-12-11T21:25:45.876932Z"
    }
   },
   "outputs": [],
   "source": [
    "val_test_x_np = val_test_x.to_numpy()\n",
    "probabilities = hoeffding_tree_model_basic.predict_proba(val_test_x_np)\n",
    "\n",
    "\n",
    "fpr, tpr, thresholds = roc_curve(val_test_y, probabilities[:, 1])\n",
    "auc_score = float(auc(fpr, tpr))"
   ]
  },
  {
   "cell_type": "code",
   "execution_count": 43,
   "id": "b0a495d1",
   "metadata": {
    "ExecuteTime": {
     "end_time": "2023-12-11T21:26:40.422270Z",
     "start_time": "2023-12-11T21:26:40.407540Z"
    }
   },
   "outputs": [
    {
     "data": {
      "text/plain": [
       "0.9975081970621167"
      ]
     },
     "execution_count": 43,
     "metadata": {},
     "output_type": "execute_result"
    }
   ],
   "source": [
    "# Area under the curve score.\n",
    "auc_score"
   ]
  },
  {
   "cell_type": "code",
   "execution_count": 44,
   "id": "9979681c",
   "metadata": {
    "ExecuteTime": {
     "end_time": "2023-12-11T21:26:40.611053Z",
     "start_time": "2023-12-11T21:26:40.424275Z"
    }
   },
   "outputs": [
    {
     "data": {
      "image/png": "[encoded data removed]",
      "text/plain": [
       "<Figure size 800x600 with 1 Axes>"
      ]
     },
     "metadata": {},
     "output_type": "display_data"
    }
   ],
   "source": [
    "# Plot the ROC curve\n",
    "plt.figure(figsize=(8, 6))\n",
    "plt.plot(fpr, tpr, color='darkorange', lw=2, label='ROC curve (area = %0.2f)' % auc_score)\n",
    "plt.plot([0, 1], [0, 1], color='navy', lw=2, linestyle='--')\n",
    "plt.xlim([0.0, 1.0])\n",
    "plt.ylim([0.0, 1.05])\n",
    "plt.xlabel('False Positive Rate')\n",
    "plt.ylabel('True Positive Rate')\n",
    "plt.title('Receiver Operating Characteristic')\n",
    "plt.legend(loc=\"lower right\")\n",
    "plt.show()"
   ]
  },
  {
   "cell_type": "code",
   "execution_count": 45,
   "id": "55369a5c",
   "metadata": {
    "ExecuteTime": {
     "end_time": "2023-12-11T21:26:40.626570Z",
     "start_time": "2023-12-11T21:26:40.613059Z"
    }
   },
   "outputs": [],
   "source": [
    "# Send the ROC Curve to the DB as a JSON object.\n",
    "\n",
    "# convert the ROC Curve to JSON\n",
    "roc_data = {\n",
    "    \"fpr\": fpr.tolist(),\n",
    "    \"tpr\": tpr.tolist(),\n",
    "    \"roc_auc\": auc_score\n",
    "}\n",
    "\n",
    "\n",
    "ruc_curve = json.dumps(roc_data)"
   ]
  },
  {
   "cell_type": "code",
   "execution_count": 46,
   "id": "ba4ca8a2",
   "metadata": {
    "ExecuteTime": {
     "end_time": "2023-12-11T21:26:40.782047Z",
     "start_time": "2023-12-11T21:26:40.627571Z"
    }
   },
   "outputs": [],
   "source": [
    "precision, recall, _ = precision_recall_curve(val_test_y, probabilities[:, 1])"
   ]
  },
  {
   "cell_type": "code",
   "execution_count": 47,
   "id": "a2e357b2",
   "metadata": {
    "ExecuteTime": {
     "end_time": "2023-12-11T21:26:40.924288Z",
     "start_time": "2023-12-11T21:26:40.783197Z"
    }
   },
   "outputs": [
    {
     "data": {
      "image/png": "[encoded data removed]",
      "text/plain": [
       "<Figure size 800x600 with 1 Axes>"
      ]
     },
     "metadata": {},
     "output_type": "display_data"
    }
   ],
   "source": [
    "# Plot the Precision-Recall curve\n",
    "plt.figure(figsize=(8, 6))\n",
    "plt.plot(recall, precision, color='blue', lw=2, label='Precision-Recall curve')\n",
    "plt.xlabel('Recall')\n",
    "plt.ylabel('Precision')\n",
    "plt.title('Precision-Recall Curve')\n",
    "plt.legend(loc=\"upper right\")\n",
    "plt.show()"
   ]
  },
  {
   "cell_type": "code",
   "execution_count": 48,
   "id": "744c5aba",
   "metadata": {
    "ExecuteTime": {
     "end_time": "2023-12-11T21:26:40.939797Z",
     "start_time": "2023-12-11T21:26:40.925287Z"
    }
   },
   "outputs": [],
   "source": [
    "# Send the Precision Recall Curve to the DB as a JSON object.\n",
    "\n",
    "pr_data = {\n",
    "    \"precision\": precision.tolist(), \n",
    "    \"recall\": recall.tolist()\n",
    "}\n",
    "\n",
    "\n",
    "precision_recall_curve = json.dumps(pr_data)"
   ]
  },
  {
   "cell_type": "code",
   "execution_count": 54,
   "id": "44ed42e7",
   "metadata": {
    "ExecuteTime": {
     "end_time": "2023-12-11T21:27:56.393402Z",
     "start_time": "2023-12-11T21:27:56.386845Z"
    }
   },
   "outputs": [],
   "source": [
    "feature_importance = None"
   ]
  },
  {
   "cell_type": "code",
   "execution_count": 56,
   "id": "7c733c6f",
   "metadata": {
    "ExecuteTime": {
     "end_time": "2023-12-11T21:28:08.901172Z",
     "start_time": "2023-12-11T21:28:08.883014Z"
    }
   },
   "outputs": [
    {
     "data": {
      "text/plain": [
       "1396.5857310295105"
      ]
     },
     "execution_count": 56,
     "metadata": {},
     "output_type": "execute_result"
    }
   ],
   "source": [
    "model_training_time = end_time - start_time\n",
    "model_training_time"
   ]
  },
  {
   "cell_type": "markdown",
   "id": "b0e62af7",
   "metadata": {},
   "source": [
    "### Sent Results to DB"
   ]
  },
  {
   "cell_type": "code",
   "execution_count": 52,
   "id": "74f3a2a5",
   "metadata": {
    "ExecuteTime": {
     "end_time": "2023-12-11T21:27:43.253236Z",
     "start_time": "2023-12-11T21:27:43.244049Z"
    }
   },
   "outputs": [],
   "source": [
    "# Kemans\n",
    "silhouette_score = None\n",
    "cluster_centers = None\n",
    "elbow_method_results = None\n",
    "cluster_visualisation_plot = None\n",
    "\n",
    "# Isolate Forest\n",
    "anomaly_score = None\n",
    "anomaly_detection_plot = None\n",
    "\n",
    "# One Class SVM\n",
    "decision_function_values = None\n",
    "support_vectors = None\n",
    "one_class_svm_plot = None"
   ]
  },
  {
   "cell_type": "code",
   "execution_count": 62,
   "id": "0cd0bade",
   "metadata": {
    "ExecuteTime": {
     "end_time": "2023-12-11T21:29:24.928129Z",
     "start_time": "2023-12-11T21:29:24.908018Z"
    }
   },
   "outputs": [
    {
     "name": "stdout",
     "output_type": "stream",
     "text": [
      "<class 'str'>\n",
      "<class 'str'>\n",
      "<class 'str'>\n",
      "<class 'float'>\n",
      "<class 'float'>\n",
      "<class 'float'>\n",
      "<class 'float'>\n",
      "<class 'str'>\n",
      "<class 'float'>\n",
      "<class 'str'>\n",
      "<class 'NoneType'>\n",
      "<class 'float'>\n",
      "<class 'NoneType'>\n",
      "<class 'NoneType'>\n",
      "<class 'NoneType'>\n",
      "<class 'NoneType'>\n",
      "<class 'NoneType'>\n",
      "<class 'NoneType'>\n",
      "<class 'NoneType'>\n",
      "<class 'NoneType'>\n",
      "<class 'NoneType'>\n"
     ]
    }
   ],
   "source": [
    "# Need to check the object types so that the DB can handle them\n",
    "\n",
    "#DONE. Objects ok now.\n",
    "\n",
    "print(type(model_name))\n",
    "print(type(model_parameters))\n",
    "print(type(confusion_matrix))\n",
    "print(type(accuracy_value))\n",
    "print(type(precision_value))\n",
    "print(type(recall_value))\n",
    "print(type(f1_value))\n",
    "print(type(ruc_curve))\n",
    "print(type(auc_score))\n",
    "print(type(precision_recall_curve))\n",
    "print(type(feature_importance))\n",
    "print(type(model_training_time))\n",
    "print(type(silhouette_score)) \n",
    "print(type(cluster_centers))\n",
    "print(type(elbow_method_results))\n",
    "print(type(cluster_visualisation_plot)) \n",
    "print(type(anomaly_score))\n",
    "print(type(anomaly_detection_plot))\n",
    "print(type(decision_function_values)) \n",
    "print(type(support_vectors))\n",
    "print(type(one_class_svm_plot))"
   ]
  },
  {
   "cell_type": "code",
   "execution_count": 63,
   "id": "4db5e15b",
   "metadata": {
    "ExecuteTime": {
     "end_time": "2023-12-11T21:29:29.446384Z",
     "start_time": "2023-12-11T21:29:28.932330Z"
    }
   },
   "outputs": [
    {
     "name": "stdout",
     "output_type": "stream",
     "text": [
      "The model results have been inserted successfully\n",
      "The Conneciton to MySQL is closed.\n"
     ]
    }
   ],
   "source": [
    "insert_model_results_to_db(config, model_name, model_parameters, confusion_matrix, # note the config is the conneciton details, username, pw, host, etc\n",
    "                                accuracy_value, precision_value, recall_value, f1_value, \n",
    "                                ruc_curve, auc_score, precision_recall_curve, feature_importance, model_training_time, \n",
    "                                silhouette_score, cluster_centers, elbow_method_results, \n",
    "                                cluster_visualisation_plot, anomaly_score, anomaly_detection_plot, \n",
    "                                decision_function_values, support_vectors, one_class_svm_plot)"
   ]
  },
  {
   "cell_type": "markdown",
   "id": "ea3d2c8f",
   "metadata": {},
   "source": [
    "## Save Model"
   ]
  },
  {
   "cell_type": "code",
   "execution_count": 90,
   "id": "456c489f",
   "metadata": {
    "ExecuteTime": {
     "end_time": "2023-12-11T21:59:52.257085Z",
     "start_time": "2023-12-11T21:59:52.239055Z"
    }
   },
   "outputs": [],
   "source": [
    "# save pickle parts\n",
    "model_params = hoeffding_tree_model_basic.get_params()\n",
    "\n",
    "params_path = r\"C:\\Users\\Kolobane\\OneDrive\\CIT MSc Data Science Modules\\_Semester Three - Final Project\\Project Two - Network Project\\ML Models\\hoef_model_basic_params.json\"\n",
    "\n",
    "# Save to a json file\n",
    "with open(params_path, 'w') as file:\n",
    "    json.dump(model_params, file)"
   ]
  },
  {
   "cell_type": "code",
   "execution_count": 81,
   "id": "57fb37a6",
   "metadata": {
    "ExecuteTime": {
     "end_time": "2023-12-11T21:46:14.974231Z",
     "start_time": "2023-12-11T21:46:14.967650Z"
    },
    "scrolled": true
   },
   "outputs": [],
   "source": [
    "# #save folder location\n",
    "# model_path = r\"C:\\Users\\Kolobane\\OneDrive\\CIT MSc Data Science Modules\\_Semester Three - Final Project\\Project Two - Network Project\\ML Models\\hoef_model_basic.joblib\"\n",
    "\n",
    "# # save model\n",
    "# dump(hoeffding_tree_model_basic, model_path)\n",
    "# could not save model with pickle. saved paramters instead"
   ]
  },
  {
   "cell_type": "code",
   "execution_count": 89,
   "id": "948f2202",
   "metadata": {
    "ExecuteTime": {
     "end_time": "2023-12-11T21:57:27.301527Z",
     "start_time": "2023-12-11T21:57:27.286954Z"
    }
   },
   "outputs": [
    {
     "name": "stdout",
     "output_type": "stream",
     "text": [
      "Model parameters saved to C:\\Users\\Kolobane\\OneDrive\\CIT MSc Data Science Modules\\_Semester Three - Final Project\\Project Two - Network Project\\ML Models\\hoef_model_basic_params.json\n"
     ]
    }
   ],
   "source": [
    "print(f\"Model parameters saved to {params_path}\")"
   ]
  },
  {
   "cell_type": "code",
   "execution_count": null,
   "id": "e286c6b7",
   "metadata": {},
   "outputs": [],
   "source": []
  },
  {
   "cell_type": "code",
   "execution_count": null,
   "id": "fc0b64d2",
   "metadata": {},
   "outputs": [],
   "source": []
  }
 ],
 "metadata": {
  "kernelspec": {
   "display_name": "masters",
   "language": "python",
   "name": "masters"
  },
  "language_info": {
   "codemirror_mode": {
    "name": "ipython",
    "version": 3
   },
   "file_extension": ".py",
   "mimetype": "text/x-python",
   "name": "python",
   "nbconvert_exporter": "python",
   "pygments_lexer": "ipython3",
   "version": "3.9.18"
  },
  "toc": {
   "base_numbering": 1,
   "nav_menu": {},
   "number_sections": true,
   "sideBar": true,
   "skip_h1_title": false,
   "title_cell": "Table of Contents",
   "title_sidebar": "Contents",
   "toc_cell": false,
   "toc_position": {
    "height": "calc(100% - 180px)",
    "left": "10px",
    "top": "150px",
    "width": "343.945px"
   },
   "toc_section_display": true,
   "toc_window_display": true
  }
 },
 "nbformat": 4,
 "nbformat_minor": 5
}
