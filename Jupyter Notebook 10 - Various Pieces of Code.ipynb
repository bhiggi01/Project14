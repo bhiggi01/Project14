{
 "cells": [
  {
   "cell_type": "markdown",
   "id": "4fe0517e",
   "metadata": {},
   "source": [
    "# Jupyter Notebook 10 - Various Pieces of Code"
   ]
  },
  {
   "cell_type": "markdown",
   "id": "79371d0a",
   "metadata": {},
   "source": [
    "---"
   ]
  },
  {
   "cell_type": "markdown",
   "id": "62d215bb",
   "metadata": {},
   "source": [
    "# Introduction"
   ]
  },
  {
   "cell_type": "markdown",
   "id": "dd8fb731",
   "metadata": {},
   "source": [
    "A notebook to do various tasks.\n",
    "\n",
    "**1) Kafka Schema:** After repeated problems to better troubleshoot, the Schema will be crated here and then load in both the Producer and Consumer notebooks."
   ]
  },
  {
   "cell_type": "code",
   "execution_count": 3,
   "id": "4443b7ca",
   "metadata": {
    "ExecuteTime": {
     "end_time": "2023-11-21T20:53:03.013800Z",
     "start_time": "2023-11-21T20:53:03.006274Z"
    }
   },
   "outputs": [],
   "source": [
    "# Libraries\n",
    "\n",
    "\n",
    "# Data types\n",
    "import json"
   ]
  },
  {
   "cell_type": "markdown",
   "id": "1b9357bf",
   "metadata": {},
   "source": [
    "---"
   ]
  },
  {
   "cell_type": "markdown",
   "id": "816a8515",
   "metadata": {},
   "source": [
    "# 1) Kafka Schema"
   ]
  },
  {
   "cell_type": "markdown",
   "id": "8147a2f3",
   "metadata": {},
   "source": [
    "Create a schema with for use with the Producer and Consumer."
   ]
  },
  {
   "cell_type": "code",
   "execution_count": 11,
   "id": "12ca74c1",
   "metadata": {
    "ExecuteTime": {
     "end_time": "2023-11-21T21:06:19.160366Z",
     "start_time": "2023-11-21T21:06:19.133937Z"
    }
   },
   "outputs": [],
   "source": [
    "# Create schema\n",
    "features_avro_schema = {\n",
    "    \"type\": \"record\",\n",
    "    \"name\": \"FeaturesData\",\n",
    "    \"fields\": [\n",
    "        {\"name\": \"Dst Port\", \"type\": \"float\"},\n",
    "        {\"name\": \"Protocol\", \"type\": \"float\"},\n",
    "        {\"name\": \"Flow Duration\", \"type\": \"float\"},\n",
    "        {\"name\": \"Tot Fwd Pkts\", \"type\": \"float\"},\n",
    "        {\"name\": \"Tot Bwd Pkts\", \"type\": \"float\"},\n",
    "        {\"name\": \"TotLen Fwd Pkts\", \"type\": \"float\"},\n",
    "        {\"name\": \"TotLen Bwd Pkts\", \"type\": \"float\"},\n",
    "        {\"name\": \"Fwd Pkt Len Max\", \"type\": \"float\"},\n",
    "        {\"name\": \"Fwd Pkt Len Min\", \"type\": \"float\"},\n",
    "        {\"name\": \"Fwd Pkt Len Mean\", \"type\": \"float\"},\n",
    "        {\"name\": \"Fwd Pkt Len Std\", \"type\": \"float\"},\n",
    "        {\"name\": \"Bwd Pkt Len Max\", \"type\": \"float\"},\n",
    "        {\"name\": \"Bwd Pkt Len Min\", \"type\": \"float\"},\n",
    "        {\"name\": \"Bwd Pkt Len Mean\", \"type\": \"float\"},\n",
    "        {\"name\": \"Bwd Pkt Len Std\", \"type\": \"float\"},\n",
    "        {\"name\": \"Flow Byts/s\", \"type\": \"float\"},\n",
    "        {\"name\": \"Flow Pkts/s\", \"type\": \"float\"},\n",
    "        {\"name\": \"Flow IAT Mean\", \"type\": \"float\"},\n",
    "        {\"name\": \"Flow IAT Std\", \"type\": \"float\"},\n",
    "        {\"name\": \"Flow IAT Max\", \"type\": \"float\"},\n",
    "        {\"name\": \"Flow IAT Min\", \"type\": \"float\"},\n",
    "        {\"name\": \"Fwd IAT Tot\", \"type\": \"float\"},\n",
    "        {\"name\": \"Fwd IAT Mean\", \"type\": \"float\"},\n",
    "        {\"name\": \"Fwd IAT Std\", \"type\": \"float\"},\n",
    "        {\"name\": \"Fwd IAT Max\", \"type\": \"float\"},\n",
    "        {\"name\": \"Fwd IAT Min\", \"type\": \"float\"},\n",
    "        {\"name\": \"Bwd IAT Tot\", \"type\": \"float\"},\n",
    "        {\"name\": \"Bwd IAT Mean\", \"type\": \"float\"},\n",
    "        {\"name\": \"Bwd IAT Std\", \"type\": \"float\"},\n",
    "        {\"name\": \"Bwd IAT Max\", \"type\": \"float\"},\n",
    "        {\"name\": \"Bwd IAT Min\", \"type\": \"float\"},\n",
    "        {\"name\": \"Fwd PSH Flags\", \"type\": \"float\"},\n",
    "        {\"name\": \"Fwd URG Flags\", \"type\": \"float\"},\n",
    "        {\"name\": \"Fwd Header Len\", \"type\": \"float\"},\n",
    "        {\"name\": \"Bwd Header Len\", \"type\": \"float\"},\n",
    "        {\"name\": \"Fwd Pkts/s\", \"type\": \"float\"},\n",
    "        {\"name\": \"Bwd Pkts/s\", \"type\": \"float\"},\n",
    "        {\"name\": \"Pkt Len Min\", \"type\": \"float\"},\n",
    "        {\"name\": \"Pkt Len Max\", \"type\": \"float\"},\n",
    "        {\"name\": \"Pkt Len Mean\", \"type\": \"float\"},\n",
    "        {\"name\": \"Pkt Len Std\", \"type\": \"float\"},\n",
    "        {\"name\": \"Pkt Len Var\", \"type\": \"float\"},\n",
    "        {\"name\": \"FIN Flag Cnt\", \"type\": \"float\"},\n",
    "        {\"name\": \"SYN Flag Cnt\", \"type\": \"float\"},\n",
    "        {\"name\": \"RST Flag Cnt\", \"type\": \"float\"},\n",
    "        {\"name\": \"ACK Flag Cnt\", \"type\": \"float\"},     \n",
    "        {\"name\": \"URG Flag Cnt\", \"type\": \"float\"},\n",
    "        {\"name\": \"CWE Flag Count\", \"type\": \"float\"},\n",
    "        {\"name\": \"ECE Flag Cnt\", \"type\": \"float\"},\n",
    "        {\"name\": \"Down/Up Ratio\", \"type\": \"float\"},\n",
    "        {\"name\": \"Pkt Size Avg\", \"type\": \"float\"},\n",
    "        {\"name\": \"Fwd Seg Size Avg\", \"type\": \"float\"},\n",
    "        {\"name\": \"Bwd Seg Size Avg\", \"type\": \"float\"},\n",
    "        {\"name\": \"Subflow Fwd Pkts\", \"type\": \"float\"},\n",
    "        {\"name\": \"Subflow Fwd Byts\", \"type\": \"float\"},\n",
    "        {\"name\": \"Subflow Bwd Pkts\", \"type\": \"float\"},\n",
    "        {\"name\": \"Subflow Bwd Byts\", \"type\": \"float\"},\n",
    "        {\"name\": \"Init Fwd Win Byts\", \"type\": \"float\"},\n",
    "        {\"name\": \"Init Bwd Win Byts\", \"type\": \"float\"},\n",
    "        {\"name\": \"Fwd Act Data Pkts\", \"type\": \"float\"},\n",
    "        {\"name\": \"Fwd Seg Size Min\", \"type\": \"float\"},\n",
    "        {\"name\": \"Active Mean\", \"type\": \"float\"},\n",
    "        {\"name\": \"Active Std\", \"type\": \"float\"},\n",
    "        {\"name\": \"Active Max\", \"type\": \"float\"},\n",
    "        {\"name\": \"Active Min\", \"type\": \"float\"},\n",
    "        {\"name\": \"Idle Mean\", \"type\": \"float\"},\n",
    "        {\"name\": \"Idle Std\", \"type\": \"float\"},\n",
    "        {\"name\": \"Idle Max\", \"type\": \"float\"},\n",
    "        {\"name\": \"Idle Min\", \"type\": \"float\"}\n",
    "    ]\n",
    "}"
   ]
  },
  {
   "cell_type": "code",
   "execution_count": 12,
   "id": "7729bf3d",
   "metadata": {
    "ExecuteTime": {
     "end_time": "2023-11-21T21:06:20.153729Z",
     "start_time": "2023-11-21T21:06:20.140197Z"
    }
   },
   "outputs": [
    {
     "name": "stdout",
     "output_type": "stream",
     "text": [
      "Avro schema saved to: C:\\Users\\Kolobane\\OneDrive\\CIT MSc Data Science Modules\\_Semester Three - Final Project\\Project Two - Network Project\\Data\\Avro Schema\\features_avro_schema.avsc\n"
     ]
    }
   ],
   "source": [
    "# Save the features scheama for use in the cosnumer\n",
    "folder_path = r'C:\\Users\\Kolobane\\OneDrive\\CIT MSc Data Science Modules\\_Semester Three - Final Project\\Project Two - Network Project\\Data\\Avro Schema'\n",
    "file_name = 'features_avro_schema.avsc'\n",
    "\n",
    "# Combine both folder and file name\n",
    "file_path = folder_path + '\\\\' + file_name\n",
    "\n",
    "# Convert the schema to a string and save to the file location\n",
    "avro_schema_json = json.dumps(features_avro_schema, indent=4)\n",
    "with open(file_path, 'w') as schema_file:\n",
    "    schema_file.write(avro_schema_json)\n",
    "print(f\"Avro schema saved to: {file_path}\")"
   ]
  },
  {
   "cell_type": "code",
   "execution_count": 13,
   "id": "827014bc",
   "metadata": {
    "ExecuteTime": {
     "end_time": "2023-11-21T21:06:21.945003Z",
     "start_time": "2023-11-21T21:06:21.941007Z"
    }
   },
   "outputs": [],
   "source": [
    "# Create schema\n",
    "label_avro_schema = {\n",
    "    \"type\": \"record\",\n",
    "    \"name\": \"LabelData\",\n",
    "    \"fields\": [\n",
    "        {\"name\": \"Label\", \"type\": \"int\"},\n",
    "    ]\n",
    "}"
   ]
  },
  {
   "cell_type": "code",
   "execution_count": 14,
   "id": "894e667d",
   "metadata": {
    "ExecuteTime": {
     "end_time": "2023-11-21T21:06:23.327181Z",
     "start_time": "2023-11-21T21:06:23.308091Z"
    }
   },
   "outputs": [
    {
     "name": "stdout",
     "output_type": "stream",
     "text": [
      "Avro schema saved to: C:\\Users\\Kolobane\\OneDrive\\CIT MSc Data Science Modules\\_Semester Three - Final Project\\Project Two - Network Project\\Data\\Avro Schema\\label_avro_schema.avsc\n"
     ]
    }
   ],
   "source": [
    "file_name = 'label_avro_schema.avsc'\n",
    "\n",
    "# Combine both folder and file name\n",
    "file_path = folder_path + '\\\\' + file_name\n",
    "\n",
    "# Convert the schema to a string and save to the file location\n",
    "avro_schema_json = json.dumps(label_avro_schema, indent=4)\n",
    "with open(file_path, 'w') as schema_file:\n",
    "    schema_file.write(avro_schema_json)\n",
    "print(f\"Avro schema saved to: {file_path}\")"
   ]
  },
  {
   "cell_type": "markdown",
   "id": "88515513",
   "metadata": {},
   "source": [
    "**DONE**"
   ]
  },
  {
   "cell_type": "markdown",
   "id": "e0d919eb",
   "metadata": {},
   "source": [
    "---"
   ]
  },
  {
   "cell_type": "markdown",
   "id": "deffb77d",
   "metadata": {},
   "source": [
    "# 2) Next - ?????"
   ]
  },
  {
   "cell_type": "code",
   "execution_count": null,
   "id": "00cee62a",
   "metadata": {},
   "outputs": [],
   "source": []
  }
 ],
 "metadata": {
  "kernelspec": {
   "display_name": "Python (bscapstone)",
   "language": "python",
   "name": "bscapstone"
  },
  "language_info": {
   "codemirror_mode": {
    "name": "ipython",
    "version": 3
   },
   "file_extension": ".py",
   "mimetype": "text/x-python",
   "name": "python",
   "nbconvert_exporter": "python",
   "pygments_lexer": "ipython3",
   "version": "3.9.18"
  },
  "toc": {
   "base_numbering": 1,
   "nav_menu": {},
   "number_sections": true,
   "sideBar": true,
   "skip_h1_title": false,
   "title_cell": "Table of Contents",
   "title_sidebar": "Contents",
   "toc_cell": false,
   "toc_position": {},
   "toc_section_display": true,
   "toc_window_display": false
  }
 },
 "nbformat": 4,
 "nbformat_minor": 5
}
