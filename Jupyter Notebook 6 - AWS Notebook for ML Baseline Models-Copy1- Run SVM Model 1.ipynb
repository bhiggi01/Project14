{
 "cells": [
  {
   "cell_type": "markdown",
   "id": "6b0a72a9",
   "metadata": {},
   "source": [
    "# Jupyter Notebook 6: AWS Notebook for ML Baseline Models - This has moved to AWS. "
   ]
  },
  {
   "cell_type": "markdown",
   "id": "50c64ff4",
   "metadata": {},
   "source": [
    "---"
   ]
  },
  {
   "cell_type": "markdown",
   "id": "5fb6de21",
   "metadata": {},
   "source": [
    "# Introduction"
   ]
  },
  {
   "cell_type": "markdown",
   "id": "360bf3fc",
   "metadata": {},
   "source": [
    "This Notebook is used to get a baseline model for use in the real time section of the project.\n",
    "\n",
    "4 models will be run, first with a baseline model and then with a Search for the best tuning parameters.\n",
    "   - 1) Random Forest Model\n",
    "   - 2) K-Means Model\n",
    "   - 3) Isolate Forest Model\n",
    "   - 4) One Class SVM Model\n",
    "   \n",
    "Previous research has shown very high accuracy results from models so this will be expected from these models. The previous studies did not discuss the Data Preprocessing steps in enough detail to explore why this is the case.\n",
    "\n",
    "The data is highly imbalanced which is accepted for this study as this is a real world representation of network traffic in the real world. \n",
    "\n",
    "The Results will be stored to be the local SQL Database for comparison later on the Dashboard."
   ]
  },
  {
   "cell_type": "markdown",
   "id": "522e83eb",
   "metadata": {},
   "source": [
    "---"
   ]
  },
  {
   "cell_type": "markdown",
   "id": "582915e1",
   "metadata": {},
   "source": [
    "# Load data and pretraining steps"
   ]
  },
  {
   "cell_type": "code",
   "execution_count": 1,
   "id": "bf99cd74",
   "metadata": {
    "ExecuteTime": {
     "end_time": "2023-12-11T21:20:11.856811Z",
     "start_time": "2023-12-11T21:20:10.127130Z"
    }
   },
   "outputs": [],
   "source": [
    "# General\n",
    "import os\n",
    "import time\n",
    "\n",
    "# Data Manipulation\n",
    "import pandas as pd\n",
    "import numpy as np\n",
    "\n",
    "# Data Visualisation\n",
    "import matplotlib.pyplot as plt\n",
    "\n",
    "# Data Types\n",
    "import json\n",
    "import mysql.connector\n",
    "from joblib import dump, load\n",
    "\n",
    "# Machine Learning\n",
    "from sklearn.model_selection import train_test_split\n",
    "from sklearn.ensemble import RandomForestClassifier\n",
    "from sklearn.cluster import KMeans\n",
    "from sklearn.ensemble import IsolationForest\n",
    "from sklearn.svm import OneClassSVM\n",
    "\n",
    "# Getting metrics\n",
    "from sklearn.metrics import silhouette_score\n",
    "from sklearn.metrics import confusion_matrix, classification_report, precision_recall_fscore_support\n",
    "from sklearn.metrics import confusion_matrix as cm_function\n",
    "from sklearn.metrics import accuracy_score, precision_score, recall_score, f1_score\n",
    "from sklearn.metrics import roc_curve, auc, average_precision_score,  roc_auc_score\n",
    "from sklearn.metrics import precision_recall_curve\n",
    "from sklearn.decomposition import PCA\n",
    "from sklearn.linear_model import SGDClassifier\n"
   ]
  },
  {
   "cell_type": "code",
   "execution_count": 2,
   "id": "f25d91df",
   "metadata": {
    "ExecuteTime": {
     "end_time": "2023-12-11T21:20:11.872868Z",
     "start_time": "2023-12-11T21:20:11.857812Z"
    }
   },
   "outputs": [],
   "source": [
    "import warnings\n",
    "warnings.filterwarnings('ignore')"
   ]
  },
  {
   "cell_type": "code",
   "execution_count": 3,
   "id": "421a3940",
   "metadata": {
    "ExecuteTime": {
     "end_time": "2023-12-11T21:20:13.572134Z",
     "start_time": "2023-12-11T21:20:11.946094Z"
    }
   },
   "outputs": [],
   "source": [
    "# Location of preprocessed file\n",
    "folder_path = r\"C:\\Users\\Kolobane\\OneDrive\\CIT MSc Data Science Modules\\_Semester Three - Final Project\\Project Two - Network Project\\Notebooks\"\n",
    "file_path = os.path.join(folder_path, \"ids_2018_baseline_data.parquet\")\n",
    "\n",
    "# load data\n",
    "data = pd.read_parquet(file_path, engine=\"pyarrow\")"
   ]
  },
  {
   "cell_type": "markdown",
   "id": "bfd458ff",
   "metadata": {},
   "source": [
    "---"
   ]
  },
  {
   "cell_type": "markdown",
   "id": "fd2c6c05",
   "metadata": {},
   "source": [
    "# Train and Test Split 80:20 Split"
   ]
  },
  {
   "cell_type": "markdown",
   "id": "15102253",
   "metadata": {},
   "source": [
    "Create a Train and Test split with 80:20 to create baseline models.\n",
    "\n",
    "As the minority class has a large imbalanced, its important to keep the percentage right in each train and val split."
   ]
  },
  {
   "cell_type": "code",
   "execution_count": 4,
   "id": "54120f0b",
   "metadata": {
    "ExecuteTime": {
     "end_time": "2023-12-11T21:20:14.703673Z",
     "start_time": "2023-12-11T21:20:14.275677Z"
    }
   },
   "outputs": [],
   "source": [
    "# Seperate the x and y features\n",
    "X = data.iloc[:, :-1]\n",
    "y = data.iloc[:, -1]"
   ]
  },
  {
   "cell_type": "code",
   "execution_count": 5,
   "id": "c4af39ca",
   "metadata": {
    "ExecuteTime": {
     "end_time": "2023-12-11T21:20:29.064281Z",
     "start_time": "2023-12-11T21:20:15.353504Z"
    }
   },
   "outputs": [],
   "source": [
    "# Create the splits\n",
    "\n",
    "# Train and val_test split\n",
    "train_x, val_test_x, train_y, val_test_y = train_test_split(X, y, test_size=0.2, random_state=42, stratify=y)\n",
    "\n",
    "# Validation and Test split\n",
    "val_x, test_x, val_y, test_y = train_test_split(val_test_x, val_test_y, test_size=0.5, random_state=42, stratify=val_test_y)"
   ]
  },
  {
   "cell_type": "code",
   "execution_count": null,
   "id": "37a7003d",
   "metadata": {
    "ExecuteTime": {
     "end_time": "2023-12-06T15:31:10.959107Z",
     "start_time": "2023-12-06T15:31:10.943719Z"
    }
   },
   "outputs": [],
   "source": [
    "# # Get a sample an save to file.\n",
    "# sample_data_10_perc = train_x.sample(frac=0.01, random_state=42)\n",
    "# sample_data_10_perc.shape\n",
    "# file_path = r'C:\\Users\\Kolobane\\OneDrive\\CIT MSc Data Science Modules\\_Semester Three - Final Project\\Project Two - Network Project\\ML Models\\sample_file.pkl'\n",
    "# sample_data_10_perc.to_pickle(file_path)"
   ]
  },
  {
   "cell_type": "markdown",
   "id": "f4c4b2ec",
   "metadata": {},
   "source": [
    "---"
   ]
  },
  {
   "cell_type": "markdown",
   "id": "332a694f",
   "metadata": {},
   "source": [
    "# Open connection to Database"
   ]
  },
  {
   "cell_type": "code",
   "execution_count": 6,
   "id": "a3cefd96",
   "metadata": {
    "ExecuteTime": {
     "end_time": "2023-12-11T21:20:29.080033Z",
     "start_time": "2023-12-11T21:20:29.066280Z"
    }
   },
   "outputs": [],
   "source": [
    "config = {\n",
    "    \"user\":\"root\",\n",
    "    \"password\":\"root\",\n",
    "    \"host\": \"localhost\",\n",
    "    \"database\":\"mtu_capstone_db\",\n",
    "    \"raise_on_warnings\":True\n",
    "}"
   ]
  },
  {
   "cell_type": "code",
   "execution_count": 7,
   "id": "d7064355",
   "metadata": {
    "ExecuteTime": {
     "end_time": "2023-12-11T21:20:29.637347Z",
     "start_time": "2023-12-11T21:20:29.082040Z"
    }
   },
   "outputs": [],
   "source": [
    "cnx = mysql.connector.connect(**config)\n",
    "cursor = cnx.cursor()"
   ]
  },
  {
   "cell_type": "code",
   "execution_count": 8,
   "id": "34a47a26",
   "metadata": {
    "ExecuteTime": {
     "end_time": "2023-12-11T21:20:30.168732Z",
     "start_time": "2023-12-11T21:20:29.640341Z"
    },
    "scrolled": true
   },
   "outputs": [
    {
     "name": "stdout",
     "output_type": "stream",
     "text": [
      "Number of rows in 'baseline_model_results': 17\n"
     ]
    }
   ],
   "source": [
    "# Test the connection\n",
    "\n",
    "try:\n",
    "    cnx = mysql.connector.connect(**config)\n",
    "    cursor = cnx.cursor()\n",
    "    \n",
    "    # Test Query - Different types\n",
    "    # cursor.execute(\"SELECT VERSION();\")\n",
    "    # cursor.execute(\"SELECT * FROM baseline_model_results;\") # This query exceeds the limit.\n",
    "    # cursor.execute(\"SELECT * FROM baseline_model_results LIMIT 1;\")  # Limit to 10 rows\n",
    "    cursor.execute(\"SELECT COUNT(*) FROM baseline_model_results;\")\n",
    "    \n",
    "    #Fetch the results - Differnt for above.\n",
    "    # version = cursor.fetchone()\n",
    "    # select_all = cursor.fetchone()\n",
    "    # select_all = cursor.fetchall()  # Use fetchall() or fetchmany(size)\n",
    "    number_of_rows = cursor.fetchone()[0]\n",
    "\n",
    "    # print(\"My SQL Server version:\", version)\n",
    "    # print(\"Select all:\", select_all)\n",
    "    print(\"Number of rows in 'baseline_model_results':\", number_of_rows)\n",
    "    \n",
    "except mysql.connector.Error as err:\n",
    "    print(\"Error:\", err)\n",
    "    \n",
    "else:\n",
    "    cursor.close()\n",
    "    cnx.close()"
   ]
  },
  {
   "cell_type": "markdown",
   "id": "1b0f0727",
   "metadata": {},
   "source": [
    "## Insert data to database with a function"
   ]
  },
  {
   "cell_type": "markdown",
   "id": "05afa938",
   "metadata": {},
   "source": [
    "Create a function to send the data to the database. This will be used in this notebook for the baseline models and then later modified to be used with the live streaming models."
   ]
  },
  {
   "cell_type": "code",
   "execution_count": 9,
   "id": "d7d0aec4",
   "metadata": {
    "ExecuteTime": {
     "end_time": "2023-12-11T21:20:30.184772Z",
     "start_time": "2023-12-11T21:20:30.170238Z"
    }
   },
   "outputs": [],
   "source": [
    "# create model results funciton.\n",
    "def insert_model_results_to_db(config, model_name, model_parameters, confusion_matrix, # note the config is the conneciton details, username, pw, host, etc\n",
    "                                accuracy_value, precision_value, recall_value, f1_value, \n",
    "                                ruc_curve, auc_score, precision_recall_curve, feature_importance, model_training_time,  \n",
    "                                silhouette_score, cluster_centers, elbow_method_results, \n",
    "                                cluster_visualisation_plot, anomaly_score, anomaly_detection_plot, \n",
    "                                decision_function_values, support_vectors, one_class_svm_plot):\n",
    "    \n",
    "    try: \n",
    "        # Connect to the database\n",
    "        cnx = mysql.connector.connect(**config)\n",
    "        cursor = cnx.cursor()\n",
    "    \n",
    "        # SQL query for iserting data to baseline_model_results\n",
    "        add_results=(\"\"\"\n",
    "            INSERT INTO baseline_model_results\n",
    "            (model_name, model_parameters, confusion_matrix, \n",
    "            accuracy_value, precision_value, recall_value, f1_value, \n",
    "            ruc_curve, auc_score, precision_recall_curve, feature_importance, model_training_time, \n",
    "            silhouette_score, cluster_centers, elbow_method_results, \n",
    "            cluster_visualisation_plot, anomaly_score, anomaly_detection_plot, \n",
    "            decision_function_values, support_vectors, one_class_svm_plot) \n",
    "            VALUES(%s, %s, %s, %s, %s, %s, %s, %s, %s, %s, \n",
    "                    %s, %s, %s, %s, %s, %s, %s, %s, %s, %s, %s)\n",
    "        \"\"\")\n",
    "    \n",
    "        # Data tuple\n",
    "        data= (model_name, model_parameters, confusion_matrix,\n",
    "            accuracy_value, precision_value, recall_value, f1_value, \n",
    "            ruc_curve, auc_score, precision_recall_curve, feature_importance, model_training_time, \n",
    "            silhouette_score, cluster_centers, elbow_method_results, \n",
    "            cluster_visualisation_plot, anomaly_score, anomaly_detection_plot, \n",
    "            decision_function_values, support_vectors, one_class_svm_plot)\n",
    "    \n",
    "        # Execute the query\n",
    "        cursor.execute(add_results, data)\n",
    "    \n",
    "        # Commit the transaction\n",
    "        cnx.commit()\n",
    "        print(\"The model results have been inserted successfully\")\n",
    "    \n",
    "    #except Error as err:\n",
    "    #    print(f\"Error: {err}\")\n",
    "    except mysql.connector.Error as err:\n",
    "        print(f\"Error: {err}\")\n",
    "    \n",
    "    finally: \n",
    "        if cnx.is_connected():\n",
    "            cursor.close()\n",
    "            cnx.close()\n",
    "            print(\"The Conneciton to MySQL is closed.\")"
   ]
  },
  {
   "cell_type": "markdown",
   "id": "14c1a624",
   "metadata": {},
   "source": [
    "# **Random Forest Basic Model**"
   ]
  },
  {
   "cell_type": "markdown",
   "id": "c083c688",
   "metadata": {},
   "source": [
    "## Basic Model"
   ]
  },
  {
   "cell_type": "markdown",
   "id": "9bf9a13d",
   "metadata": {},
   "source": [
    "For this model we as it is a basic model only uses a train and test dataset. "
   ]
  },
  {
   "cell_type": "code",
   "execution_count": null,
   "id": "c31bf6e7",
   "metadata": {
    "ExecuteTime": {
     "start_time": "2023-11-29T20:16:52.166Z"
    }
   },
   "outputs": [],
   "source": [
    "# Initialise the random forest model\n",
    "rf_model_basic = RandomForestClassifier(n_estimators=100, random_state=42)"
   ]
  },
  {
   "cell_type": "code",
   "execution_count": null,
   "id": "fa0cc563",
   "metadata": {
    "ExecuteTime": {
     "end_time": "2023-11-22T19:04:49.087370Z",
     "start_time": "2023-11-22T19:04:49.073236Z"
    }
   },
   "outputs": [],
   "source": [
    "# # Fit the model on the training data\n",
    "# rf_model_basic.fit(train_x, train_y)"
   ]
  },
  {
   "cell_type": "code",
   "execution_count": null,
   "id": "cac98b25",
   "metadata": {
    "ExecuteTime": {
     "start_time": "2023-11-29T20:16:55.651Z"
    }
   },
   "outputs": [],
   "source": [
    "# Test the model against the test \n",
    "test_predications = rf_model_basic.predict(val_test_x)"
   ]
  },
  {
   "cell_type": "markdown",
   "id": "abe261c1",
   "metadata": {},
   "source": [
    "## Explore the results"
   ]
  },
  {
   "cell_type": "markdown",
   "id": "9c9ceb67",
   "metadata": {},
   "source": [
    "### Name of the model"
   ]
  },
  {
   "cell_type": "code",
   "execution_count": null,
   "id": "0d40b276",
   "metadata": {
    "ExecuteTime": {
     "start_time": "2023-11-29T20:16:57.347Z"
    }
   },
   "outputs": [],
   "source": [
    "model_name = \"rf_model_baseline_basic\""
   ]
  },
  {
   "cell_type": "code",
   "execution_count": null,
   "id": "99c7cd2a",
   "metadata": {
    "ExecuteTime": {
     "start_time": "2023-11-29T20:16:58.083Z"
    }
   },
   "outputs": [],
   "source": [
    "model_name"
   ]
  },
  {
   "cell_type": "markdown",
   "id": "36d6ede5",
   "metadata": {},
   "source": [
    "### Model Parameters"
   ]
  },
  {
   "cell_type": "code",
   "execution_count": null,
   "id": "dacf5691",
   "metadata": {
    "ExecuteTime": {
     "start_time": "2023-11-29T20:16:59.523Z"
    }
   },
   "outputs": [],
   "source": [
    "model_parameters = \"n_estimators=100\""
   ]
  },
  {
   "cell_type": "markdown",
   "id": "97fd8748",
   "metadata": {},
   "source": [
    "### Confusion Matrix"
   ]
  },
  {
   "cell_type": "code",
   "execution_count": null,
   "id": "e7bca569",
   "metadata": {
    "ExecuteTime": {
     "start_time": "2023-11-29T20:17:01.163Z"
    }
   },
   "outputs": [],
   "source": [
    "confusion_matrix = confusion_matrix(val_test_y, test_predications)"
   ]
  },
  {
   "cell_type": "code",
   "execution_count": null,
   "id": "de25664a",
   "metadata": {
    "ExecuteTime": {
     "start_time": "2023-11-29T20:17:01.827Z"
    }
   },
   "outputs": [],
   "source": [
    "confusion_matrix = confusion_matrix.tolist()"
   ]
  },
  {
   "cell_type": "code",
   "execution_count": null,
   "id": "fe16adce",
   "metadata": {
    "ExecuteTime": {
     "start_time": "2023-11-29T20:17:06.991Z"
    }
   },
   "outputs": [],
   "source": [
    "confusion_matrix = confusion_matrix.tolist()\n",
    "confusion_matrix = json.dumps(confusion_matrix)"
   ]
  },
  {
   "cell_type": "markdown",
   "id": "068c76fa",
   "metadata": {},
   "source": [
    "### Accuracy, Precision, Recall, F1 Score"
   ]
  },
  {
   "cell_type": "code",
   "execution_count": null,
   "id": "d057366c",
   "metadata": {
    "ExecuteTime": {
     "start_time": "2023-11-29T20:17:07.959Z"
    }
   },
   "outputs": [],
   "source": [
    "accuracy_value = float(accuracy_score(val_test_y, test_predications))\n",
    "precision_value = float(precision_score(val_test_y, test_predications))\n",
    "recall_value = float(recall_score(val_test_y, test_predications))\n",
    "f1_value = float(f1_score(val_test_y, test_predications))"
   ]
  },
  {
   "cell_type": "code",
   "execution_count": null,
   "id": "395722d2",
   "metadata": {
    "ExecuteTime": {
     "start_time": "2023-11-29T20:17:08.570Z"
    }
   },
   "outputs": [],
   "source": [
    "accuracy_value, precision_value, recall_value, f1_value"
   ]
  },
  {
   "cell_type": "markdown",
   "id": "6b57c6a0",
   "metadata": {},
   "source": [
    "## AUC Score and Roc Curve"
   ]
  },
  {
   "cell_type": "code",
   "execution_count": null,
   "id": "5d797e7f",
   "metadata": {
    "ExecuteTime": {
     "start_time": "2023-11-29T20:17:09.516Z"
    }
   },
   "outputs": [],
   "source": [
    "fpr, tpr, thresholds = roc_curve(val_test_y, rf_model_basic.predict_proba(val_test_x)[:,1])\n",
    "auc_score = float(auc(fpr, tpr))"
   ]
  },
  {
   "cell_type": "code",
   "execution_count": null,
   "id": "fa9789e5",
   "metadata": {
    "ExecuteTime": {
     "start_time": "2023-11-29T20:17:10.171Z"
    }
   },
   "outputs": [],
   "source": [
    "# Area under the curve score.\n",
    "auc_score"
   ]
  },
  {
   "cell_type": "code",
   "execution_count": null,
   "id": "06fc8261",
   "metadata": {
    "ExecuteTime": {
     "start_time": "2023-11-29T20:17:10.835Z"
    }
   },
   "outputs": [],
   "source": [
    "# Plot the ROC curve\n",
    "plt.figure(figsize=(8, 6))\n",
    "plt.plot(fpr, tpr, color='darkorange', lw=2, label='ROC curve (area = %0.2f)' % auc_score)\n",
    "plt.plot([0, 1], [0, 1], color='navy', lw=2, linestyle='--')\n",
    "plt.xlim([0.0, 1.0])\n",
    "plt.ylim([0.0, 1.05])\n",
    "plt.xlabel('False Positive Rate')\n",
    "plt.ylabel('True Positive Rate')\n",
    "plt.title('Receiver Operating Characteristic')\n",
    "plt.legend(loc=\"lower right\")\n",
    "plt.show()"
   ]
  },
  {
   "cell_type": "code",
   "execution_count": null,
   "id": "7762d57c",
   "metadata": {
    "ExecuteTime": {
     "start_time": "2023-11-29T20:17:14.678Z"
    }
   },
   "outputs": [],
   "source": [
    "# Send the ROC Curve to the DB as a JSON object.\n",
    "\n",
    "# convert the ROC Curve to JSON\n",
    "roc_data = {\n",
    "    \"fpr\": fpr.tolist(),\n",
    "    \"tpr\": tpr.tolist(),\n",
    "    \"roc_auc\": auc_score\n",
    "}\n",
    "\n",
    "\n",
    "ruc_curve = json.dumps(roc_data)"
   ]
  },
  {
   "cell_type": "markdown",
   "id": "f5f62924",
   "metadata": {},
   "source": [
    "### Precision-Recall Curve"
   ]
  },
  {
   "cell_type": "code",
   "execution_count": null,
   "id": "4f498380",
   "metadata": {
    "ExecuteTime": {
     "start_time": "2023-11-29T20:17:16.045Z"
    }
   },
   "outputs": [],
   "source": [
    "precision, recall, _ = precision_recall_curve(val_test_y, rf_model_basic.predict_proba(val_test_x)[:,1])"
   ]
  },
  {
   "cell_type": "code",
   "execution_count": null,
   "id": "2d46f7cb",
   "metadata": {
    "ExecuteTime": {
     "start_time": "2023-11-29T20:17:16.725Z"
    }
   },
   "outputs": [],
   "source": [
    "# Plot the Precision-Recall curve\n",
    "plt.figure(figsize=(8, 6))\n",
    "plt.plot(recall, precision, color='blue', lw=2, label='Precision-Recall curve')\n",
    "plt.xlabel('Recall')\n",
    "plt.ylabel('Precision')\n",
    "plt.title('Precision-Recall Curve')\n",
    "plt.legend(loc=\"upper right\")\n",
    "plt.show()"
   ]
  },
  {
   "cell_type": "code",
   "execution_count": null,
   "id": "d3da5c2a",
   "metadata": {
    "ExecuteTime": {
     "start_time": "2023-11-29T20:17:17.444Z"
    }
   },
   "outputs": [],
   "source": [
    "# Send the Precision Recall Curve to the DB as a JSON object.\n",
    "\n",
    "pr_data = {\n",
    "    \"precision\": precision.tolist(), \n",
    "    \"recall\": recall.tolist()\n",
    "}\n",
    "\n",
    "\n",
    "precision_recall_curve = json.dumps(pr_data)"
   ]
  },
  {
   "cell_type": "markdown",
   "id": "04969eab",
   "metadata": {},
   "source": [
    "### Feature Importance"
   ]
  },
  {
   "cell_type": "code",
   "execution_count": null,
   "id": "51f4f131",
   "metadata": {
    "ExecuteTime": {
     "start_time": "2023-11-29T20:17:29.438Z"
    }
   },
   "outputs": [],
   "source": [
    "feature_importances = rf_model_basic.feature_importances_"
   ]
  },
  {
   "cell_type": "code",
   "execution_count": null,
   "id": "886a110a",
   "metadata": {
    "ExecuteTime": {
     "start_time": "2023-11-29T20:17:30.523Z"
    },
    "scrolled": false
   },
   "outputs": [],
   "source": [
    "feature_importances"
   ]
  },
  {
   "cell_type": "code",
   "execution_count": null,
   "id": "5279ad85",
   "metadata": {
    "ExecuteTime": {
     "end_time": "2023-11-22T19:04:40.293115Z",
     "start_time": "2023-11-22T19:04:40.293115Z"
    }
   },
   "outputs": [],
   "source": [
    "type(feature_importances)"
   ]
  },
  {
   "cell_type": "code",
   "execution_count": null,
   "id": "f27c7539",
   "metadata": {
    "ExecuteTime": {
     "end_time": "2023-11-15T13:38:48.734474Z",
     "start_time": "2023-11-15T13:38:48.720523Z"
    }
   },
   "outputs": [],
   "source": [
    "# Send the feature_importances to the DB as a JSON object.\n"
   ]
  },
  {
   "cell_type": "code",
   "execution_count": null,
   "id": "acdab5ac",
   "metadata": {
    "ExecuteTime": {
     "start_time": "2023-11-29T20:17:50.002Z"
    }
   },
   "outputs": [],
   "source": [
    "print(feature_importance)"
   ]
  },
  {
   "cell_type": "markdown",
   "id": "a24499a7",
   "metadata": {},
   "source": [
    "### Model Training Time"
   ]
  },
  {
   "cell_type": "code",
   "execution_count": null,
   "id": "4b9871bd",
   "metadata": {
    "ExecuteTime": {
     "end_time": "2023-11-22T20:25:05.549302Z",
     "start_time": "2023-11-22T19:04:57.019780Z"
    }
   },
   "outputs": [],
   "source": [
    "# get the start time\n",
    "start_time = time.time()\n",
    "\n",
    "# run the model\n",
    "# Fit the model on the training data\n",
    "rf_model_basic.fit(train_x, train_y)\n",
    "\n",
    "# record the end time.\n",
    "end_time = time.time()"
   ]
  },
  {
   "cell_type": "code",
   "execution_count": null,
   "id": "9c985ac2",
   "metadata": {
    "ExecuteTime": {
     "end_time": "2023-11-15T16:17:19.284962Z",
     "start_time": "2023-11-15T16:17:19.271474Z"
    }
   },
   "outputs": [],
   "source": [
    "training_time = end_time - start_time"
   ]
  },
  {
   "cell_type": "code",
   "execution_count": null,
   "id": "dceb4519",
   "metadata": {
    "ExecuteTime": {
     "end_time": "2023-11-15T16:50:50.365800Z",
     "start_time": "2023-11-15T16:50:50.353754Z"
    },
    "scrolled": false
   },
   "outputs": [],
   "source": [
    "training_time"
   ]
  },
  {
   "cell_type": "code",
   "execution_count": null,
   "id": "644dc683",
   "metadata": {
    "ExecuteTime": {
     "end_time": "2023-11-15T16:17:19.316813Z",
     "start_time": "2023-11-15T16:17:19.303009Z"
    }
   },
   "outputs": [],
   "source": [
    "model_training_time = training_time\n",
    "model_training_time"
   ]
  },
  {
   "cell_type": "code",
   "execution_count": null,
   "id": "d7da30a2",
   "metadata": {
    "ExecuteTime": {
     "end_time": "2023-11-15T16:51:25.392415Z",
     "start_time": "2023-11-15T16:51:25.380396Z"
    }
   },
   "outputs": [],
   "source": [
    "print(\"Training time: \", model_training_time, \"seconds\")"
   ]
  },
  {
   "cell_type": "code",
   "execution_count": null,
   "id": "6922685a",
   "metadata": {
    "ExecuteTime": {
     "end_time": "2023-11-15T16:51:42.806204Z",
     "start_time": "2023-11-15T16:51:42.795110Z"
    }
   },
   "outputs": [],
   "source": [
    "print(\"Training time: \", model_training_time/60, \"minutes\")"
   ]
  },
  {
   "cell_type": "code",
   "execution_count": null,
   "id": "fdfdf59b",
   "metadata": {
    "ExecuteTime": {
     "end_time": "2023-11-15T16:51:59.519606Z",
     "start_time": "2023-11-15T16:51:59.500483Z"
    }
   },
   "outputs": [],
   "source": [
    "print(\"Training time: \", model_training_time/60, \"hours\")"
   ]
  },
  {
   "cell_type": "markdown",
   "id": "3cea3773",
   "metadata": {},
   "source": [
    "### Sent Results to DB"
   ]
  },
  {
   "cell_type": "code",
   "execution_count": null,
   "id": "1f92484b",
   "metadata": {
    "ExecuteTime": {
     "end_time": "2023-11-15T16:52:05.223869Z",
     "start_time": "2023-11-15T16:52:05.210349Z"
    }
   },
   "outputs": [],
   "source": [
    "# Kemans\n",
    "silhouette_score = None\n",
    "cluster_centers = None\n",
    "elbow_method_results = None\n",
    "cluster_visualisation_plot = None\n",
    "\n",
    "# Isolate Forest\n",
    "anomaly_score = None\n",
    "anomaly_detection_plot = None\n",
    "\n",
    "# One Class SVM\n",
    "decision_function_values = None\n",
    "support_vectors = None\n",
    "one_class_svm_plot = None"
   ]
  },
  {
   "cell_type": "code",
   "execution_count": null,
   "id": "95a4fae1",
   "metadata": {
    "ExecuteTime": {
     "end_time": "2023-11-15T16:52:18.248291Z",
     "start_time": "2023-11-15T16:52:18.236148Z"
    }
   },
   "outputs": [],
   "source": [
    "# Need to check the object types so that the DB can handle them\n",
    "\n",
    "#DONE. Objects ok now.\n",
    "\n",
    "# print(type(model_name))\n",
    "# print(type(model_parameters))\n",
    "# print(type(confusion_matrix))\n",
    "# print(type(accuracy_value))\n",
    "# print(type(precision_value))\n",
    "# print(type(recall_value))\n",
    "# print(type(f1_value))\n",
    "# print(type(ruc_curve))\n",
    "# print(type(auc_score))\n",
    "# print(type(precision_recall_curve))\n",
    "# print(type(feature_importance))\n",
    "# print(type(model_training_time))\n",
    "# print(type(silhouette_score)) \n",
    "# print(type(cluster_centers))\n",
    "# print(type(elbow_method_results))\n",
    "# print(type(cluster_visualisation_plot)) \n",
    "# print(type(anomaly_score))\n",
    "# print(type(anomaly_detection_plot))\n",
    "# print(type(decision_function_values)) \n",
    "# print(type(support_vectors))\n",
    "# print(type(one_class_svm_plot))"
   ]
  },
  {
   "cell_type": "code",
   "execution_count": null,
   "id": "6d2e3363",
   "metadata": {
    "ExecuteTime": {
     "end_time": "2023-11-15T16:57:02.435511Z",
     "start_time": "2023-11-15T16:57:02.194837Z"
    }
   },
   "outputs": [],
   "source": [
    "insert_model_results_to_db(config, model_name, model_parameters, confusion_matrix, # note the config is the conneciton details, username, pw, host, etc\n",
    "                                accuracy_value, precision_value, recall_value, f1_value, \n",
    "                                ruc_curve, auc_score, precision_recall_curve, feature_importance, model_training_time, \n",
    "                                silhouette_score, cluster_centers, elbow_method_results, \n",
    "                                cluster_visualisation_plot, anomaly_score, anomaly_detection_plot, \n",
    "                                decision_function_values, support_vectors, one_class_svm_plot)"
   ]
  },
  {
   "cell_type": "markdown",
   "id": "cb03fcd1",
   "metadata": {},
   "source": [
    "## Save Model"
   ]
  },
  {
   "cell_type": "code",
   "execution_count": null,
   "id": "0d030762",
   "metadata": {
    "ExecuteTime": {
     "end_time": "2023-11-15T21:14:30.724257Z",
     "start_time": "2023-11-15T21:14:30.192926Z"
    },
    "scrolled": true
   },
   "outputs": [],
   "source": [
    "# save model to file.\n",
    "\n",
    "#save folder location\n",
    "model_path = r\"C:\\Users\\Kolobane\\OneDrive\\CIT MSc Data Science Modules\\_Semester Three - Final Project\\Project Two - Network Project\\ML Models\\rf_model_basic.joblib\"\n",
    "\n",
    "# save model\n",
    "dump(rf_model_basic, model_path)\n"
   ]
  },
  {
   "cell_type": "code",
   "execution_count": null,
   "id": "1faf3f2e",
   "metadata": {
    "ExecuteTime": {
     "end_time": "2023-11-22T19:01:11.891229Z",
     "start_time": "2023-11-22T19:01:11.875190Z"
    }
   },
   "outputs": [],
   "source": [
    "# load this model\n",
    "folder_path = r\"C:\\Users\\Kolobane\\OneDrive\\CIT MSc Data Science Modules\\_Semester Three - Final Project\\Project Two - Network Project\\ML Models\"\n",
    "model_name = \"rf_model_basic.joblib\"\n",
    "model = os.path.join(folder_path, model_name)"
   ]
  },
  {
   "cell_type": "code",
   "execution_count": null,
   "id": "893bcc95",
   "metadata": {
    "ExecuteTime": {
     "end_time": "2023-11-22T19:02:28.775141Z",
     "start_time": "2023-11-22T19:02:28.739969Z"
    }
   },
   "outputs": [],
   "source": [
    "loaded_model = load(model)"
   ]
  },
  {
   "cell_type": "code",
   "execution_count": null,
   "id": "c1010488",
   "metadata": {
    "ExecuteTime": {
     "end_time": "2023-11-22T19:01:32.902908Z",
     "start_time": "2023-11-22T19:01:32.877801Z"
    }
   },
   "outputs": [],
   "source": [
    "\n",
    "# Check the number of features\n",
    "num_features = model.n_features_"
   ]
  },
  {
   "cell_type": "markdown",
   "id": "c33b0275",
   "metadata": {},
   "source": [
    "---"
   ]
  },
  {
   "cell_type": "markdown",
   "id": "ecfeb614",
   "metadata": {},
   "source": [
    "#  **Random Forest Best Model Search**"
   ]
  },
  {
   "cell_type": "markdown",
   "id": "f1857176",
   "metadata": {},
   "source": [
    "The Baseline Random Forest Model has done very well with an accuracy of 99% so for now I will not look at improving this model. Time being short. "
   ]
  },
  {
   "cell_type": "markdown",
   "id": "ee28bdb8",
   "metadata": {},
   "source": [
    "## GridSearch of RF Models"
   ]
  },
  {
   "cell_type": "code",
   "execution_count": null,
   "id": "5e7f3a11",
   "metadata": {
    "ExecuteTime": {
     "end_time": "2023-11-15T13:38:48.794170Z",
     "start_time": "2023-11-15T13:38:48.794170Z"
    }
   },
   "outputs": [],
   "source": [
    "    param_grid = {\n",
    "        'n_estimators': [100, 200, 300],\n",
    "        'max_depth': [None, 10, 20, 30],\n",
    "        'min_samples_split': [2, 5, 10],\n",
    "        'min_samples_leaf': [1, 2, 4],\n",
    "        'bootstrap': [True, False]\n",
    "    }"
   ]
  },
  {
   "cell_type": "markdown",
   "id": "194f6482",
   "metadata": {},
   "source": [
    "---"
   ]
  },
  {
   "cell_type": "markdown",
   "id": "5b743f43",
   "metadata": {},
   "source": [
    "# **K-Means Basic Model**"
   ]
  },
  {
   "cell_type": "markdown",
   "id": "cf27bb1e",
   "metadata": {},
   "source": [
    "## Basic Model with 2 clusters"
   ]
  },
  {
   "cell_type": "code",
   "execution_count": null,
   "id": "94f3751a",
   "metadata": {
    "ExecuteTime": {
     "end_time": "2023-11-29T12:25:21.700417Z",
     "start_time": "2023-11-29T12:25:21.686929Z"
    }
   },
   "outputs": [],
   "source": [
    "# Intialise Kmeans model\n",
    "kmeans_model_baseline_basic = KMeans(n_clusters=2, random_state=42)"
   ]
  },
  {
   "cell_type": "code",
   "execution_count": null,
   "id": "60b56403",
   "metadata": {
    "ExecuteTime": {
     "end_time": "2023-11-29T12:26:10.964455Z",
     "start_time": "2023-11-29T12:25:22.687453Z"
    }
   },
   "outputs": [],
   "source": [
    "# This runs the model and gets the training time as well.\n",
    "\n",
    "# start timer\n",
    "start_time = time.time()\n",
    "\n",
    "# train the model\n",
    "kmeans_model_baseline_basic.fit(train_x)\n",
    "\n",
    "# end timer\n",
    "end_time = time.time()"
   ]
  },
  {
   "cell_type": "code",
   "execution_count": null,
   "id": "bc0f2d99",
   "metadata": {
    "ExecuteTime": {
     "end_time": "2023-11-29T12:26:11.242615Z",
     "start_time": "2023-11-29T12:26:10.966385Z"
    }
   },
   "outputs": [],
   "source": [
    "# Predictions on the test data\n",
    "predictions = kmeans_model_baseline_basic.predict(test_x)"
   ]
  },
  {
   "cell_type": "code",
   "execution_count": null,
   "id": "74e0276b",
   "metadata": {
    "ExecuteTime": {
     "end_time": "2023-11-29T12:26:11.258531Z",
     "start_time": "2023-11-29T12:26:11.244662Z"
    }
   },
   "outputs": [],
   "source": [
    "predictions"
   ]
  },
  {
   "cell_type": "markdown",
   "id": "09437b7b",
   "metadata": {},
   "source": [
    "## Explore the Results"
   ]
  },
  {
   "cell_type": "code",
   "execution_count": null,
   "id": "15c6681c",
   "metadata": {
    "ExecuteTime": {
     "end_time": "2023-11-29T12:26:11.290567Z",
     "start_time": "2023-11-29T12:26:11.260530Z"
    }
   },
   "outputs": [],
   "source": [
    "# Evaluate the model using Silhouette Score\n",
    "silhouette_avg = silhouette_score(test_x, predictions)"
   ]
  },
  {
   "cell_type": "code",
   "execution_count": null,
   "id": "70cd52a4",
   "metadata": {
    "ExecuteTime": {
     "end_time": "2023-11-29T12:26:11.291566Z",
     "start_time": "2023-11-29T12:26:11.291566Z"
    }
   },
   "outputs": [],
   "source": [
    "silhouette_avg"
   ]
  },
  {
   "cell_type": "markdown",
   "id": "040f4c0a",
   "metadata": {},
   "source": [
    "The silhouette score is a metric to calculate the goodness of a clustering technique. Its range is fom -1 to 1. A value close to 1  indicates that the data points are very far away from  neighbouring clusters. This means the clusters are distinct and well seperated, which usually represents a good clustering.\n",
    "\n",
    "0.42 indicates that there is a good struture of clusters seperated from each other."
   ]
  },
  {
   "cell_type": "code",
   "execution_count": null,
   "id": "f33585b6",
   "metadata": {
    "ExecuteTime": {
     "end_time": "2023-11-29T12:26:42.820620Z",
     "start_time": "2023-11-29T12:26:31.759184Z"
    }
   },
   "outputs": [],
   "source": [
    "# Visualizations specific to K-Means\n",
    "plt.scatter(test_x.iloc[:, 0], test_x.iloc[:, 1], c=predictions, s=50, cmap='viridis')\n",
    "centers = kmeans_model_baseline_basic.cluster_centers_\n",
    "plt.scatter(centers[:, 0], centers[:, 1], c='black', s=200, alpha=0.5)\n",
    "plt.title('K-Means Clustering')\n",
    "plt.show()"
   ]
  },
  {
   "cell_type": "code",
   "execution_count": null,
   "id": "9619dd1f",
   "metadata": {
    "ExecuteTime": {
     "end_time": "2023-11-29T12:26:43.762944Z",
     "start_time": "2023-11-29T12:26:42.822590Z"
    }
   },
   "outputs": [],
   "source": [
    "# convert to a json object for the database\n",
    "\n",
    "# Extracting data points\n",
    "data_points_x = test_x.iloc[:, 0].tolist()  # First feature values\n",
    "data_points_y = test_x.iloc[:, 1].tolist()  # Second feature values\n",
    "\n",
    "# Extracting cluster centers\n",
    "centers_x = centers[:, 0].tolist()  # X-coordinates of cluster centers\n",
    "centers_y = centers[:, 1].tolist()  # Y-coordinates of cluster centers\n",
    "\n",
    "# Organize data into a structured dictionary\n",
    "visualization_data = {\n",
    "    \"data_points\": {\n",
    "        \"x\": data_points_x,\n",
    "        \"y\": data_points_y,\n",
    "        \"cluster\": predictions.tolist()  # Cluster assignments\n",
    "    },\n",
    "    \"cluster_centers\": {\n",
    "        \"x\": centers_x,\n",
    "        \"y\": centers_y\n",
    "    }\n",
    "}\n",
    "\n",
    "# Convert to JSON\n",
    "cluster_visualisation = json.dumps(visualization_data)"
   ]
  },
  {
   "cell_type": "code",
   "execution_count": null,
   "id": "181d5b63",
   "metadata": {
    "ExecuteTime": {
     "end_time": "2023-11-29T12:26:11.296074Z",
     "start_time": "2023-11-29T12:26:11.296074Z"
    }
   },
   "outputs": [],
   "source": [
    "# model_training_time\n",
    "model_training_time = end_time - start_time"
   ]
  },
  {
   "cell_type": "code",
   "execution_count": null,
   "id": "37f42e43",
   "metadata": {
    "ExecuteTime": {
     "end_time": "2023-11-29T12:26:11.297075Z",
     "start_time": "2023-11-29T12:26:11.297075Z"
    }
   },
   "outputs": [],
   "source": [
    "model_training_time "
   ]
  },
  {
   "cell_type": "code",
   "execution_count": null,
   "id": "13114877",
   "metadata": {
    "ExecuteTime": {
     "end_time": "2023-11-29T12:26:11.298080Z",
     "start_time": "2023-11-29T12:26:11.298080Z"
    }
   },
   "outputs": [],
   "source": [
    "# Silhouette time\n",
    "silhouette_score_db = float(silhouette_avg) \n",
    "silhouette_score_db"
   ]
  },
  {
   "cell_type": "code",
   "execution_count": null,
   "id": "cf31eb94",
   "metadata": {
    "ExecuteTime": {
     "end_time": "2023-11-29T12:26:11.299079Z",
     "start_time": "2023-11-29T12:26:11.299079Z"
    }
   },
   "outputs": [],
   "source": [
    "# cluster centers\n",
    "cluster_centers = kmeans_model_baseline_basic .cluster_centers_.tolist() \n",
    "cluster_centers = json.dumps(cluster_centers) \n",
    "cluster_centers"
   ]
  },
  {
   "cell_type": "code",
   "execution_count": null,
   "id": "2a822cef",
   "metadata": {
    "ExecuteTime": {
     "end_time": "2023-11-29T12:26:11.300080Z",
     "start_time": "2023-11-29T12:26:11.300080Z"
    }
   },
   "outputs": [],
   "source": [
    "# elbow method resutls\n",
    "\n",
    "wcss = []\n",
    "for i in range(1, 11):  # Example: Test for 1 to 10 clusters\n",
    "    km = KMeans(n_clusters=i, random_state=42)\n",
    "    km.fit(train_x)\n",
    "    wcss.append(km.inertia_)\n",
    "elbow_method_results = json.dumps(wcss) "
   ]
  },
  {
   "cell_type": "code",
   "execution_count": null,
   "id": "eebda2df",
   "metadata": {
    "ExecuteTime": {
     "end_time": "2023-11-29T12:26:11.302079Z",
     "start_time": "2023-11-29T12:26:11.302079Z"
    }
   },
   "outputs": [],
   "source": [
    "elbow_method_results"
   ]
  },
  {
   "cell_type": "markdown",
   "id": "e40aed45",
   "metadata": {},
   "source": [
    "## Sent Results to DB"
   ]
  },
  {
   "cell_type": "code",
   "execution_count": null,
   "id": "e6feef26",
   "metadata": {
    "ExecuteTime": {
     "end_time": "2023-11-16T10:47:30.887697Z",
     "start_time": "2023-11-16T10:47:30.872546Z"
    },
    "scrolled": true
   },
   "outputs": [],
   "source": [
    "# Need to check the object types so that the DB can handle them\n",
    "\n",
    "#DONE. Objects ok now.\n",
    "\n",
    "# print(type(model_name))\n",
    "# print(type(model_parameters))\n",
    "# print(type(confusion_matrix))\n",
    "# print(type(accuracy_value))\n",
    "# print(type(precision_value))\n",
    "# print(type(recall_value))\n",
    "# print(type(f1_value))\n",
    "# print(type(ruc_curve))\n",
    "# print(type(auc_score))\n",
    "# print(type(precision_recall_curve))\n",
    "# print(type(feature_importance))\n",
    "# print(type(model_training_time))\n",
    "# print(type(silhouette_score)) \n",
    "# print(type(cluster_centers))\n",
    "# print(type(elbow_method_results))\n",
    "# print(type(cluster_visualisation_plot)) \n",
    "# print(type(anomaly_score))\n",
    "# print(type(anomaly_detection_plot))\n",
    "# print(type(decision_function_values)) \n",
    "# print(type(support_vectors))\n",
    "# print(type(one_class_svm_plot))"
   ]
  },
  {
   "cell_type": "code",
   "execution_count": null,
   "id": "d4901995",
   "metadata": {
    "ExecuteTime": {
     "end_time": "2023-11-15T21:05:16.945938Z",
     "start_time": "2023-11-15T21:05:16.937397Z"
    }
   },
   "outputs": [],
   "source": [
    "model_parameters_update = json.dumps(kmeans_model_baseline_basic.get_params())"
   ]
  },
  {
   "cell_type": "code",
   "execution_count": null,
   "id": "cf00a8b8",
   "metadata": {
    "ExecuteTime": {
     "end_time": "2023-11-15T21:05:24.422473Z",
     "start_time": "2023-11-15T21:05:24.408311Z"
    }
   },
   "outputs": [],
   "source": [
    "model_name = \"kmeans_model_baseline_basic\"\n",
    "model_parameters = model_parameters_update\n",
    "confusion_matrix = None  # Not applicable for K-Means, same below.\n",
    "accuracy_value = None \n",
    "precision_value = None\n",
    "recall_value = None\n",
    "f1_value = None\n",
    "ruc_curve = None\n",
    "auc_score = None\n",
    "precision_recall_curve = None\n",
    "feature_importance = None\n",
    "model_training_time = model_training_time\n",
    "\n",
    "silhouette_score = silhouette_score_db\n",
    "cluster_centers = cluster_centers\n",
    "elbow_method_results = elbow_method_results\n",
    "cluster_visualisation_plot = cluster_visualisation \n",
    "\n",
    "anomaly_score = None\n",
    "anomaly_detection_plot = None\n",
    "\n",
    "decision_function_values = None\n",
    "support_vectors = None\n",
    "one_class_svm_plot = None"
   ]
  },
  {
   "cell_type": "code",
   "execution_count": null,
   "id": "42766150",
   "metadata": {
    "ExecuteTime": {
     "end_time": "2023-11-15T13:38:48.807689Z",
     "start_time": "2023-11-15T13:38:48.807689Z"
    }
   },
   "outputs": [],
   "source": [
    "# # test the conneciton\n",
    "# try:\n",
    "#     cnx = mysql.connector.connect(**config)\n",
    "#     cursor = cnx.cursor()\n",
    "#     cursor.execute(\"SELECT 1;\")\n",
    "#     result = cursor.fetchone()\n",
    "#     print(result)\n",
    "# except mysql.connector.Error as err:\n",
    "#     print(\"Error:\", err)\n",
    "# finally:\n",
    "#     cursor.close()\n",
    "#     cnx.close()"
   ]
  },
  {
   "cell_type": "code",
   "execution_count": null,
   "id": "a51cf3de",
   "metadata": {
    "ExecuteTime": {
     "end_time": "2023-11-15T21:12:32.019418Z",
     "start_time": "2023-11-15T21:12:25.160076Z"
    }
   },
   "outputs": [],
   "source": [
    "# call and save to DB\n",
    "insert_model_results_to_db(config, model_name, model_parameters, confusion_matrix, # note the config is the conneciton details, username, pw, host, etc\n",
    "                                accuracy_value, precision_value, recall_value, f1_value, \n",
    "                                ruc_curve, auc_score, precision_recall_curve, feature_importance, model_training_time, \n",
    "                                silhouette_score, cluster_centers, elbow_method_results, \n",
    "                                cluster_visualisation_plot, anomaly_score, anomaly_detection_plot, \n",
    "                                decision_function_values, support_vectors, one_class_svm_plot)"
   ]
  },
  {
   "cell_type": "markdown",
   "id": "70f5a9f5",
   "metadata": {},
   "source": [
    "## Save Model"
   ]
  },
  {
   "cell_type": "code",
   "execution_count": null,
   "id": "2a9922ac",
   "metadata": {
    "ExecuteTime": {
     "end_time": "2023-11-15T21:14:20.922923Z",
     "start_time": "2023-11-15T21:14:20.886597Z"
    }
   },
   "outputs": [],
   "source": [
    "# save model to file.\n",
    "\n",
    "#save folder location\n",
    "model_path = r\"C:\\Users\\Kolobane\\OneDrive\\CIT MSc Data Science Modules\\_Semester Three - Final Project\\Project Two - Network Project\\ML Models\\kmeans_model_baseline_basic.joblib\"\n",
    "\n",
    "# save model\n",
    "dump(kmeans_model_baseline_basic, model_path)"
   ]
  },
  {
   "cell_type": "markdown",
   "id": "d7f86b55",
   "metadata": {},
   "source": [
    "---"
   ]
  },
  {
   "cell_type": "markdown",
   "id": "dfa2c9ec",
   "metadata": {},
   "source": [
    "# **K-Means Best Model Search**"
   ]
  },
  {
   "cell_type": "markdown",
   "id": "97667cd7",
   "metadata": {},
   "source": [
    "Look at improving the kmeans model by looking at the opitmal number of clusters and other hyper-parameters. Some parameters to explore:\n",
    "1) Determine the Range for \"n_clusters\": No need to change this, there are attack and benign groups so 2 clusters. However, its still worth exploring other numbers of clusters.\n",
    "\n",
    "2) Iternate over other values for \"n_cluster\".\n",
    "\n",
    "3) Other Hyperparameters. There are other clusters that are less important but worth trying. \"init\" (method for initialization), \"n_init\" (number of time the k-means algorithm will be run with different centroid seeds) and \"max_iter\". \n",
    "\n",
    "4) Choose best kmeans model."
   ]
  },
  {
   "cell_type": "markdown",
   "id": "2f29443b",
   "metadata": {},
   "source": [
    "## GridSearch for Best Model"
   ]
  },
  {
   "cell_type": "code",
   "execution_count": null,
   "id": "839bf702",
   "metadata": {
    "ExecuteTime": {
     "end_time": "2023-11-21T21:32:20.839876Z",
     "start_time": "2023-11-21T09:56:03.128913Z"
    }
   },
   "outputs": [],
   "source": [
    "# range of clusters to try\n",
    "cluster_range = range(2,6)\n",
    "\n",
    "# Store the average silhouetter scores\n",
    "silhouette_avg_scores = []\n",
    "\n",
    "# store the inertias (sum of the distances)\n",
    "inertias = []\n",
    "\n",
    "for n_clusters in cluster_range:\n",
    "    kmeans = KMeans(n_clusters=n_clusters, random_state=42)\n",
    "    kmeans.fit(train_x)\n",
    "    cluster_labels = kmeans.predict(test_x)\n",
    "    \n",
    "    silhouette_avg = silhouette_score(test_x, cluster_labels)\n",
    "    silhouette_avg_scores.append(silhouette_avg)\n",
    "    \n",
    "    inertias.append(kmeans.inertia_)  # Corrected this line\n",
    "    \n",
    "# Plotting the results\n",
    "# Silhouette Scores\n",
    "plt.figure(figsize=(10, 5))\n",
    "plt.plot(cluster_range, silhouette_avg_scores, marker='o')\n",
    "plt.title('Silhouette Scores for Different Numbers of Clusters')\n",
    "plt.xlabel('Number of clusters')\n",
    "plt.ylabel('Silhouette Score')\n",
    "plt.show()\n",
    "\n",
    "# Inertia\n",
    "plt.figure(figsize=(10, 5))\n",
    "plt.plot(cluster_range, inertias, marker='o')\n",
    "plt.title('Elbow Method For Optimal k')\n",
    "plt.xlabel('Number of clusters')\n",
    "plt.ylabel('Inertia')\n",
    "plt.show()"
   ]
  },
  {
   "cell_type": "code",
   "execution_count": null,
   "id": "3ba5b2e7",
   "metadata": {},
   "outputs": [],
   "source": []
  },
  {
   "cell_type": "code",
   "execution_count": null,
   "id": "fc8d6e23",
   "metadata": {
    "ExecuteTime": {
     "end_time": "2023-11-21T22:10:56.725745Z",
     "start_time": "2023-11-21T22:10:56.488254Z"
    }
   },
   "outputs": [],
   "source": [
    "# Silhouette Scores\n",
    "plt.figure(figsize=(10, 5))\n",
    "plt.plot(cluster_range, silhouette_avg_scores, marker='o')\n",
    "plt.title('Silhouette Scores for Different Numbers of Clusters')\n",
    "plt.xlabel('Number of clusters')\n",
    "plt.ylabel('Silhouette Score')\n",
    "\n",
    "plt.savefig('silhouette_scores.png')\n",
    "plt.show()"
   ]
  },
  {
   "cell_type": "code",
   "execution_count": null,
   "id": "a687f140",
   "metadata": {
    "ExecuteTime": {
     "end_time": "2023-11-21T22:11:13.167180Z",
     "start_time": "2023-11-21T22:11:12.953489Z"
    }
   },
   "outputs": [],
   "source": [
    "# Inertia\n",
    "plt.figure(figsize=(10, 5))\n",
    "plt.plot(cluster_range, inertias, marker='o')\n",
    "plt.title('Elbow Method For Optimal k')\n",
    "plt.xlabel('Number of clusters')\n",
    "plt.ylabel('Inertia')\n",
    "plt.savefig('inertia.png')\n",
    "plt.show()"
   ]
  },
  {
   "cell_type": "markdown",
   "id": "c3e6b8ca",
   "metadata": {},
   "source": [
    "##### Get the best model"
   ]
  },
  {
   "cell_type": "markdown",
   "id": "d83dcc61",
   "metadata": {},
   "source": [
    "Reading the plots We will choose the 5 clusters as our best model. While this seems large for the domain it might give more interesting results as the silhouette score is higher."
   ]
  },
  {
   "cell_type": "markdown",
   "id": "4227950b",
   "metadata": {},
   "source": [
    "## Rerun the best model"
   ]
  },
  {
   "cell_type": "code",
   "execution_count": null,
   "id": "6c8e5455",
   "metadata": {
    "ExecuteTime": {
     "end_time": "2023-11-21T22:21:51.122125Z",
     "start_time": "2023-11-21T22:21:51.105605Z"
    }
   },
   "outputs": [],
   "source": [
    "# Intialise Kmeans model\n",
    "kmeans_model_baseline_best_serach = KMeans(n_clusters=5, random_state=42)"
   ]
  },
  {
   "cell_type": "code",
   "execution_count": null,
   "id": "49c09195",
   "metadata": {
    "ExecuteTime": {
     "end_time": "2023-11-21T22:24:30.652879Z",
     "start_time": "2023-11-21T22:22:50.191812Z"
    }
   },
   "outputs": [],
   "source": [
    "# This runs the model and gets the training time as well.\n",
    "\n",
    "# start timer\n",
    "start_time = time.time()\n",
    "\n",
    "# train the model\n",
    "kmeans_model_baseline_best_serach.fit(train_x)\n",
    "\n",
    "# end timer\n",
    "end_time = time.time()"
   ]
  },
  {
   "cell_type": "code",
   "execution_count": null,
   "id": "10ec4473",
   "metadata": {
    "ExecuteTime": {
     "end_time": "2023-11-22T11:33:07.686630Z",
     "start_time": "2023-11-22T11:33:07.478613Z"
    }
   },
   "outputs": [],
   "source": [
    "# Predictions on the test data\n",
    "predictions = kmeans_model_baseline_best_serach.predict(test_x)"
   ]
  },
  {
   "cell_type": "code",
   "execution_count": null,
   "id": "7a4f8eb8",
   "metadata": {
    "ExecuteTime": {
     "end_time": "2023-11-22T11:33:13.046577Z",
     "start_time": "2023-11-22T11:33:13.038762Z"
    }
   },
   "outputs": [],
   "source": [
    "predictions"
   ]
  },
  {
   "cell_type": "code",
   "execution_count": null,
   "id": "36763b6e",
   "metadata": {
    "ExecuteTime": {
     "end_time": "2023-11-22T14:24:59.378322Z",
     "start_time": "2023-11-22T11:35:53.350477Z"
    }
   },
   "outputs": [],
   "source": [
    "# Evaluate the model using Silhouette Score\n",
    "silhouette_avg = silhouette_score(test_x, predictions)"
   ]
  },
  {
   "cell_type": "code",
   "execution_count": null,
   "id": "fd50f440",
   "metadata": {
    "ExecuteTime": {
     "end_time": "2023-11-22T14:53:12.388597Z",
     "start_time": "2023-11-22T14:53:12.382123Z"
    }
   },
   "outputs": [],
   "source": [
    "silhouette_avg"
   ]
  },
  {
   "cell_type": "markdown",
   "id": "9b4bbdba",
   "metadata": {},
   "source": [
    "improvement on the 42 in 2 clusters"
   ]
  },
  {
   "cell_type": "markdown",
   "id": "317b6391",
   "metadata": {},
   "source": [
    "## Explore the Results"
   ]
  },
  {
   "cell_type": "code",
   "execution_count": null,
   "id": "78e097a9",
   "metadata": {
    "ExecuteTime": {
     "end_time": "2023-11-22T14:57:16.318572Z",
     "start_time": "2023-11-22T14:57:05.685903Z"
    }
   },
   "outputs": [],
   "source": [
    "# Visualizations specific to K-Means\n",
    "plt.scatter(test_x.iloc[:, 0], test_x.iloc[:, 1], c=predictions, s=50, cmap='viridis')\n",
    "centers = kmeans_model_baseline_best_serach.cluster_centers_\n",
    "plt.scatter(centers[:, 0], centers[:, 1], c='black', s=200, alpha=0.5)\n",
    "plt.title('K-Means Clustering')\n",
    "plt.show()"
   ]
  },
  {
   "cell_type": "code",
   "execution_count": null,
   "id": "f0ac3ef8",
   "metadata": {
    "ExecuteTime": {
     "end_time": "2023-11-22T14:58:24.376574Z",
     "start_time": "2023-11-22T14:58:23.493137Z"
    }
   },
   "outputs": [],
   "source": [
    "# convert to a json object for the database\n",
    "\n",
    "# Extracting data points\n",
    "data_points_x = test_x.iloc[:, 0].tolist()  # First feature values\n",
    "data_points_y = test_x.iloc[:, 1].tolist()  # Second feature values\n",
    "\n",
    "# Extracting cluster centers\n",
    "centers_x = centers[:, 0].tolist()  # X-coordinates of cluster centers\n",
    "centers_y = centers[:, 1].tolist()  # Y-coordinates of cluster centers\n",
    "\n",
    "# Organize data into a structured dictionary\n",
    "visualization_data = {\n",
    "    \"data_points\": {\n",
    "        \"x\": data_points_x,\n",
    "        \"y\": data_points_y,\n",
    "        \"cluster\": predictions.tolist()  # Cluster assignments\n",
    "    },\n",
    "    \"cluster_centers\": {\n",
    "        \"x\": centers_x,\n",
    "        \"y\": centers_y\n",
    "    }\n",
    "}\n",
    "\n",
    "# Convert to JSON\n",
    "cluster_visualisation = json.dumps(visualization_data)"
   ]
  },
  {
   "cell_type": "code",
   "execution_count": null,
   "id": "69dd2c28",
   "metadata": {
    "ExecuteTime": {
     "end_time": "2023-11-29T10:23:40.023740Z",
     "start_time": "2023-11-29T10:23:40.017330Z"
    }
   },
   "outputs": [],
   "source": [
    "# model_training_time\n",
    "model_training_time = end_time - start_time\n",
    "model_training_time"
   ]
  },
  {
   "cell_type": "code",
   "execution_count": null,
   "id": "f4b30592",
   "metadata": {
    "ExecuteTime": {
     "end_time": "2023-11-22T14:59:21.788424Z",
     "start_time": "2023-11-22T14:59:21.776354Z"
    }
   },
   "outputs": [],
   "source": [
    "# Silhouette time\n",
    "silhouette_score_db = float(silhouette_avg) \n",
    "silhouette_score_db"
   ]
  },
  {
   "cell_type": "code",
   "execution_count": null,
   "id": "884224f7",
   "metadata": {
    "ExecuteTime": {
     "end_time": "2023-11-22T15:36:03.701555Z",
     "start_time": "2023-11-22T15:36:03.695551Z"
    }
   },
   "outputs": [],
   "source": [
    "# cluster centers\n",
    "cluster_centers = kmeans_model_baseline_best_serach.cluster_centers_.tolist() "
   ]
  },
  {
   "cell_type": "code",
   "execution_count": null,
   "id": "70b946c9",
   "metadata": {
    "ExecuteTime": {
     "end_time": "2023-11-22T15:36:06.674587Z",
     "start_time": "2023-11-22T15:36:06.654231Z"
    }
   },
   "outputs": [],
   "source": [
    "cluster_centers = json.dumps(cluster_centers) \n",
    "cluster_centers"
   ]
  },
  {
   "cell_type": "code",
   "execution_count": null,
   "id": "0030c384",
   "metadata": {
    "ExecuteTime": {
     "end_time": "2023-11-22T15:36:09.614523Z",
     "start_time": "2023-11-22T15:36:09.606555Z"
    }
   },
   "outputs": [],
   "source": [
    "type(cluster_centers)"
   ]
  },
  {
   "cell_type": "code",
   "execution_count": null,
   "id": "9f721d61",
   "metadata": {
    "ExecuteTime": {
     "end_time": "2023-11-22T15:19:08.209281Z",
     "start_time": "2023-11-22T15:00:35.375159Z"
    }
   },
   "outputs": [],
   "source": [
    "# elbow method resutls\n",
    "\n",
    "wcss = []\n",
    "for i in range(1, 11):  # Example: Test for 1 to 10 clusters\n",
    "    km = KMeans(n_clusters=i, random_state=42)\n",
    "    km.fit(train_x)\n",
    "    wcss.append(km.inertia_)\n",
    "elbow_method_results = json.dumps(wcss)  #"
   ]
  },
  {
   "cell_type": "code",
   "execution_count": null,
   "id": "da8b1300",
   "metadata": {
    "ExecuteTime": {
     "end_time": "2023-11-22T15:19:08.225199Z",
     "start_time": "2023-11-22T15:19:08.214348Z"
    }
   },
   "outputs": [],
   "source": [
    "elbow_method_results"
   ]
  },
  {
   "cell_type": "code",
   "execution_count": null,
   "id": "ac7ec09b",
   "metadata": {
    "ExecuteTime": {
     "end_time": "2023-11-22T15:22:39.441213Z",
     "start_time": "2023-11-22T15:22:39.432699Z"
    }
   },
   "outputs": [],
   "source": [
    "model_parameters_update = json.dumps(kmeans_model_baseline_best_serach.get_params())"
   ]
  },
  {
   "cell_type": "code",
   "execution_count": null,
   "id": "21ed1cbc",
   "metadata": {
    "ExecuteTime": {
     "end_time": "2023-11-22T15:37:30.966635Z",
     "start_time": "2023-11-22T15:37:30.958106Z"
    }
   },
   "outputs": [],
   "source": [
    "model_name = \"kmeans_model_baseline_best_serach\"\n",
    "model_parameters = model_parameters_update\n",
    "confusion_matrix = None  # Not applicable for K-Means, same below.\n",
    "accuracy_value = None \n",
    "precision_value = None\n",
    "recall_value = None\n",
    "f1_value = None\n",
    "ruc_curve = None\n",
    "auc_score = None\n",
    "precision_recall_curve = None\n",
    "feature_importance = None\n",
    "model_training_time = model_training_time\n",
    "\n",
    "silhouette_score = silhouette_score_db\n",
    "cluster_centers = cluster_centers\n",
    "elbow_method_results = elbow_method_results\n",
    "cluster_visualisation_plot = cluster_visualisation \n",
    "\n",
    "anomaly_score = None\n",
    "anomaly_detection_plot = None\n",
    "\n",
    "decision_function_values = None\n",
    "support_vectors = None\n",
    "one_class_svm_plot = None"
   ]
  },
  {
   "cell_type": "code",
   "execution_count": null,
   "id": "d7865e82",
   "metadata": {
    "ExecuteTime": {
     "end_time": "2023-11-22T15:37:32.971748Z",
     "start_time": "2023-11-22T15:37:32.959236Z"
    }
   },
   "outputs": [],
   "source": [
    "# Need to check the object types so that the DB can handle them\n",
    "\n",
    "#DONE. Objects ok now.\n",
    "\n",
    "print(type(model_name))\n",
    "print(type(model_parameters))\n",
    "print(type(confusion_matrix))\n",
    "print(type(accuracy_value))\n",
    "print(type(precision_value))\n",
    "print(type(recall_value))\n",
    "print(type(f1_value))\n",
    "print(type(ruc_curve))\n",
    "print(type(auc_score))\n",
    "print(type(precision_recall_curve))\n",
    "print(type(feature_importance))\n",
    "print(type(model_training_time))\n",
    "print(type(silhouette_score)) \n",
    "print(type(cluster_centers))\n",
    "print(type(elbow_method_results))\n",
    "print(type(cluster_visualisation_plot)) \n",
    "print(type(anomaly_score))\n",
    "print(type(anomaly_detection_plot))\n",
    "print(type(decision_function_values)) \n",
    "print(type(support_vectors))\n",
    "print(type(one_class_svm_plot))"
   ]
  },
  {
   "cell_type": "markdown",
   "id": "5cef86e3",
   "metadata": {},
   "source": [
    "##### Connect to DB and send results"
   ]
  },
  {
   "cell_type": "code",
   "execution_count": null,
   "id": "7d2bfd4f",
   "metadata": {
    "ExecuteTime": {
     "end_time": "2023-11-22T15:23:36.783150Z",
     "start_time": "2023-11-22T15:23:36.767634Z"
    }
   },
   "outputs": [],
   "source": [
    "config = {\n",
    "    \"user\":\"root\",\n",
    "    \"password\":\"root\",\n",
    "    \"host\": \"localhost\",\n",
    "    \"database\":\"mtu_capstone_db\",\n",
    "    \"raise_on_warnings\":True\n",
    "}"
   ]
  },
  {
   "cell_type": "code",
   "execution_count": null,
   "id": "50730f93",
   "metadata": {
    "ExecuteTime": {
     "end_time": "2023-11-22T15:23:38.705395Z",
     "start_time": "2023-11-22T15:23:38.231139Z"
    }
   },
   "outputs": [],
   "source": [
    "cnx = mysql.connector.connect(**config)\n",
    "cursor = cnx.cursor()"
   ]
  },
  {
   "cell_type": "code",
   "execution_count": null,
   "id": "334cb23a",
   "metadata": {
    "ExecuteTime": {
     "end_time": "2023-11-22T15:40:49.573488Z",
     "start_time": "2023-11-22T15:40:46.261224Z"
    }
   },
   "outputs": [],
   "source": [
    "# call and save to DB\n",
    "insert_model_results_to_db(config, model_name, model_parameters, confusion_matrix, # note the config is the conneciton details, username, pw, host, etc\n",
    "                                accuracy_value, precision_value, recall_value, f1_value, \n",
    "                                ruc_curve, auc_score, precision_recall_curve, feature_importance, model_training_time, \n",
    "                                silhouette_score, cluster_centers, elbow_method_results, \n",
    "                                cluster_visualisation_plot, anomaly_score, anomaly_detection_plot, \n",
    "                                decision_function_values, support_vectors, one_class_svm_plot)"
   ]
  },
  {
   "cell_type": "markdown",
   "id": "2f407d0a",
   "metadata": {},
   "source": [
    "## Save model"
   ]
  },
  {
   "cell_type": "code",
   "execution_count": null,
   "id": "32c300b2",
   "metadata": {
    "ExecuteTime": {
     "end_time": "2023-11-22T15:41:11.073183Z",
     "start_time": "2023-11-22T15:41:11.047795Z"
    }
   },
   "outputs": [],
   "source": [
    "# save model to file.\n",
    "\n",
    "#save folder location\n",
    "model_path = r\"C:\\Users\\Kolobane\\OneDrive\\CIT MSc Data Science Modules\\_Semester Three - Final Project\\Project Two - Network Project\\ML Models\\kmeans_model_baseline_best_serach.joblib\"\n",
    "\n",
    "# save model\n",
    "dump(kmeans_model_baseline_best_serach, model_path)"
   ]
  },
  {
   "cell_type": "markdown",
   "id": "9c4afdd4",
   "metadata": {},
   "source": [
    "---"
   ]
  },
  {
   "cell_type": "markdown",
   "id": "c9255e06",
   "metadata": {},
   "source": [
    "# **Isolate Forest  Basic Model: Attempt 3**"
   ]
  },
  {
   "cell_type": "markdown",
   "id": "006818a1",
   "metadata": {},
   "source": [
    "## Basic Model"
   ]
  },
  {
   "cell_type": "code",
   "execution_count": null,
   "id": "769884b0",
   "metadata": {
    "ExecuteTime": {
     "end_time": "2023-11-28T23:23:25.373436Z",
     "start_time": "2023-11-28T23:23:25.367325Z"
    }
   },
   "outputs": [],
   "source": [
    "# Initialise the IF model\n",
    "iso_model_baseline_basic = IsolationForest(n_estimators=100, random_state=42)"
   ]
  },
  {
   "cell_type": "code",
   "execution_count": null,
   "id": "ac9f376f",
   "metadata": {
    "ExecuteTime": {
     "end_time": "2023-11-28T23:23:31.983903Z",
     "start_time": "2023-11-28T23:23:26.182030Z"
    }
   },
   "outputs": [],
   "source": [
    "# Fit the model and get the training time.\n",
    "\n",
    "# start timer\n",
    "start_time = time.time()\n",
    "\n",
    "# train the model\n",
    "iso_model_baseline_basic.fit(train_x)\n",
    "\n",
    "# end timer\n",
    "end_time = time.time()"
   ]
  },
  {
   "cell_type": "code",
   "execution_count": null,
   "id": "179ad93e",
   "metadata": {
    "ExecuteTime": {
     "end_time": "2023-11-28T23:23:59.603469Z",
     "start_time": "2023-11-28T23:23:31.983903Z"
    }
   },
   "outputs": [],
   "source": [
    "# Prediations and Evualations\n",
    "predictions = iso_model_baseline_basic.predict(test_x)"
   ]
  },
  {
   "cell_type": "code",
   "execution_count": null,
   "id": "d268c7cf",
   "metadata": {
    "ExecuteTime": {
     "end_time": "2023-11-28T23:23:59.736923Z",
     "start_time": "2023-11-28T23:23:59.603469Z"
    }
   },
   "outputs": [],
   "source": [
    "# Convert prredictions to make the labels\n",
    "predictions = [1 if p==-1 else 0 for p in predictions]"
   ]
  },
  {
   "cell_type": "code",
   "execution_count": null,
   "id": "7543c469",
   "metadata": {
    "ExecuteTime": {
     "end_time": "2023-11-28T23:24:01.099269Z",
     "start_time": "2023-11-28T23:23:59.739682Z"
    }
   },
   "outputs": [],
   "source": [
    "# If you have true labels (test_y), you can evaluate the model\n",
    "print(classification_report(test_y, predictions))"
   ]
  },
  {
   "cell_type": "markdown",
   "id": "09c074fa",
   "metadata": {},
   "source": [
    "## Explore Results"
   ]
  },
  {
   "cell_type": "code",
   "execution_count": null,
   "id": "b81d1021",
   "metadata": {
    "ExecuteTime": {
     "end_time": "2023-11-28T23:24:01.105580Z",
     "start_time": "2023-11-28T23:24:01.101306Z"
    }
   },
   "outputs": [],
   "source": [
    "model_name = \"iso_model_baseline_basic\""
   ]
  },
  {
   "cell_type": "code",
   "execution_count": null,
   "id": "f08e70e8",
   "metadata": {
    "ExecuteTime": {
     "end_time": "2023-11-28T23:24:01.122283Z",
     "start_time": "2023-11-28T23:24:01.106653Z"
    }
   },
   "outputs": [],
   "source": [
    "model_parameters = json.dumps(iso_model_baseline_basic.get_params())\n",
    "model_parameters"
   ]
  },
  {
   "cell_type": "code",
   "execution_count": null,
   "id": "b79a6171",
   "metadata": {
    "ExecuteTime": {
     "end_time": "2023-11-28T23:24:01.389218Z",
     "start_time": "2023-11-28T23:24:01.124370Z"
    }
   },
   "outputs": [],
   "source": [
    "confusion_matrix_results = cm_function(test_y, predictions)\n",
    "confusion_matrix_results"
   ]
  },
  {
   "cell_type": "code",
   "execution_count": null,
   "id": "d1457e43",
   "metadata": {
    "ExecuteTime": {
     "end_time": "2023-11-28T23:24:02.489176Z",
     "start_time": "2023-11-28T23:24:01.390959Z"
    }
   },
   "outputs": [],
   "source": [
    "report = classification_report(test_y, predictions, output_dict=True)"
   ]
  },
  {
   "cell_type": "code",
   "execution_count": null,
   "id": "d5ec67b1",
   "metadata": {
    "ExecuteTime": {
     "end_time": "2023-11-28T23:24:02.497978Z",
     "start_time": "2023-11-28T23:24:02.490665Z"
    }
   },
   "outputs": [],
   "source": [
    "confusion_matrix = confusion_matrix_results.tolist()\n",
    "confusion_matrix"
   ]
  },
  {
   "cell_type": "code",
   "execution_count": null,
   "id": "bd3b63d7",
   "metadata": {
    "ExecuteTime": {
     "end_time": "2023-11-28T23:24:02.507443Z",
     "start_time": "2023-11-28T23:24:02.501345Z"
    }
   },
   "outputs": [],
   "source": [
    "confusion_matrix = json.dumps(confusion_matrix)"
   ]
  },
  {
   "cell_type": "code",
   "execution_count": null,
   "id": "8ce795bf",
   "metadata": {
    "ExecuteTime": {
     "end_time": "2023-11-28T23:24:03.774878Z",
     "start_time": "2023-11-28T23:24:02.507443Z"
    }
   },
   "outputs": [],
   "source": [
    "report = classification_report(test_y, predictions, output_dict=True)"
   ]
  },
  {
   "cell_type": "code",
   "execution_count": null,
   "id": "8fe93ba1",
   "metadata": {
    "ExecuteTime": {
     "end_time": "2023-11-28T23:24:03.790628Z",
     "start_time": "2023-11-28T23:24:03.776621Z"
    }
   },
   "outputs": [],
   "source": [
    "accuracy_value = report[\"accuracy\"]\n",
    "accuracy_value "
   ]
  },
  {
   "cell_type": "code",
   "execution_count": null,
   "id": "7a133ad3",
   "metadata": {
    "ExecuteTime": {
     "end_time": "2023-11-28T23:24:03.806579Z",
     "start_time": "2023-11-28T23:24:03.792583Z"
    }
   },
   "outputs": [],
   "source": [
    "precision_value = report[\"macro avg\"][\"precision\"]\n",
    "precision_value"
   ]
  },
  {
   "cell_type": "code",
   "execution_count": null,
   "id": "2d8fa952",
   "metadata": {
    "ExecuteTime": {
     "end_time": "2023-11-28T23:24:03.823352Z",
     "start_time": "2023-11-28T23:24:03.808339Z"
    }
   },
   "outputs": [],
   "source": [
    "recall_value = report[\"macro avg\"][\"recall\"]\n",
    "recall_value"
   ]
  },
  {
   "cell_type": "code",
   "execution_count": null,
   "id": "b1284b27",
   "metadata": {
    "ExecuteTime": {
     "end_time": "2023-11-28T23:24:03.835463Z",
     "start_time": "2023-11-28T23:24:03.825587Z"
    }
   },
   "outputs": [],
   "source": [
    "f1_value = report[\"macro avg\"][\"f1-score\"]\n",
    "f1_value "
   ]
  },
  {
   "cell_type": "code",
   "execution_count": null,
   "id": "09001e00",
   "metadata": {
    "ExecuteTime": {
     "end_time": "2023-11-28T23:24:03.841657Z",
     "start_time": "2023-11-28T23:24:03.835743Z"
    }
   },
   "outputs": [],
   "source": [
    "model_training_time = end_time - start_time\n",
    "model_training_time"
   ]
  },
  {
   "cell_type": "code",
   "execution_count": null,
   "id": "18832c1e",
   "metadata": {
    "ExecuteTime": {
     "end_time": "2023-11-28T23:24:31.915454Z",
     "start_time": "2023-11-28T23:24:03.843817Z"
    }
   },
   "outputs": [],
   "source": [
    "anomaly_scores = iso_model_baseline_basic.decision_function(test_x)\n",
    "anomaly_scores"
   ]
  },
  {
   "cell_type": "code",
   "execution_count": null,
   "id": "4af8363c",
   "metadata": {
    "ExecuteTime": {
     "end_time": "2023-11-28T23:24:32.453195Z",
     "start_time": "2023-11-28T23:24:31.917455Z"
    }
   },
   "outputs": [],
   "source": [
    "anomaly_scores_json = json.dumps(anomaly_scores.tolist())"
   ]
  },
  {
   "cell_type": "code",
   "execution_count": null,
   "id": "f58658b2",
   "metadata": {
    "ExecuteTime": {
     "end_time": "2023-11-28T23:24:32.467028Z",
     "start_time": "2023-11-28T23:24:32.455202Z"
    }
   },
   "outputs": [],
   "source": [
    "anomaly_score = anomaly_scores_json"
   ]
  },
  {
   "cell_type": "code",
   "execution_count": null,
   "id": "43e94056",
   "metadata": {
    "ExecuteTime": {
     "end_time": "2023-11-29T11:04:44.549237Z",
     "start_time": "2023-11-29T11:04:27.253839Z"
    }
   },
   "outputs": [],
   "source": [
    "x_axis = test_x.iloc[:, 0] \n",
    "y_axis = test_x.iloc[:, 1]  \n",
    "predictions_array = np.array(predictions)\n",
    "\n",
    "# Create boolean masks\n",
    "normal_points = predictions_array == 0\n",
    "anomalies = predictions_array == 1\n",
    "\n",
    "plt.figure(figsize=(10, 6))\n",
    "plt.scatter(x_axis[normal_points], y_axis[normal_points], color='green', label='Normal')\n",
    "plt.scatter(x_axis[anomalies], y_axis[anomalies], color='red', label='Anomaly')\n",
    "plt.title('Anomaly Detection')\n",
    "plt.xlabel('Feature 1')\n",
    "plt.ylabel('Feature 2')\n",
    "plt.legend()\n",
    "save_path = r'C:\\Users\\Kolobane\\OneDrive\\CIT MSc Data Science Modules\\_Semester Three - Final Project\\Project Two - Network Project\\Save Plots\\iso_basic_model_anomaly_detection.png'\n",
    "plt.savefig(save_path)\n",
    "plt.show()"
   ]
  },
  {
   "cell_type": "code",
   "execution_count": null,
   "id": "94406963",
   "metadata": {
    "ExecuteTime": {
     "end_time": "2023-11-28T23:24:46.515377Z",
     "start_time": "2023-11-28T23:24:45.148083Z"
    }
   },
   "outputs": [],
   "source": [
    "plot_data = {\n",
    "    \"x_axis\": x_axis.tolist(),  \n",
    "    \"y_axis\": y_axis.tolist(),  \n",
    "    \"normal_points\": normal_points.tolist(),  \n",
    "    \"anomalies\": anomalies.tolist()  \n",
    "}\n",
    "\n",
    "anomaly_detection_plot = json.dumps(plot_data)"
   ]
  },
  {
   "cell_type": "code",
   "execution_count": null,
   "id": "6db3df15",
   "metadata": {
    "ExecuteTime": {
     "end_time": "2023-11-29T02:45:08.314197Z",
     "start_time": "2023-11-28T23:24:46.515377Z"
    }
   },
   "outputs": [],
   "source": [
    "silhouette_score_for_db = silhouette_score(test_x, predictions)"
   ]
  },
  {
   "cell_type": "code",
   "execution_count": null,
   "id": "fc9743ef",
   "metadata": {
    "ExecuteTime": {
     "end_time": "2023-11-29T02:45:08.329630Z",
     "start_time": "2023-11-29T02:45:08.314197Z"
    }
   },
   "outputs": [],
   "source": [
    "silhouette_score_for_db"
   ]
  },
  {
   "cell_type": "code",
   "execution_count": null,
   "id": "26928645",
   "metadata": {
    "ExecuteTime": {
     "end_time": "2023-11-29T02:45:08.345706Z",
     "start_time": "2023-11-29T02:45:08.331629Z"
    }
   },
   "outputs": [],
   "source": [
    "silhouette_score = float(silhouette_score_for_db)"
   ]
  },
  {
   "cell_type": "markdown",
   "id": "fa129a08",
   "metadata": {},
   "source": [
    "## Sent Results to DB"
   ]
  },
  {
   "cell_type": "code",
   "execution_count": null,
   "id": "07252171",
   "metadata": {
    "ExecuteTime": {
     "end_time": "2023-11-29T02:45:08.361770Z",
     "start_time": "2023-11-29T02:45:08.347707Z"
    }
   },
   "outputs": [],
   "source": [
    "# Not needed to send for ISO model\n",
    "ruc_curve = None\n",
    "auc_score = None\n",
    "precision_recall_curve = None\n",
    "feature_importance = None\n",
    "\n",
    "cluster_centers = None\n",
    "elbow_method_results = None\n",
    "cluster_visualisation_plot = None\n",
    "\n",
    "decision_function_values = None\n",
    "support_vectors = None\n",
    "one_class_svm_plot = None"
   ]
  },
  {
   "cell_type": "code",
   "execution_count": null,
   "id": "d902ed85",
   "metadata": {
    "ExecuteTime": {
     "end_time": "2023-11-29T10:12:03.040625Z",
     "start_time": "2023-11-29T10:12:03.018700Z"
    }
   },
   "outputs": [],
   "source": [
    "# test object types\n",
    "\n",
    "print(type(model_name))\n",
    "print(type(model_parameters))\n",
    "print(type(confusion_matrix))\n",
    "print(type(accuracy_value))\n",
    "print(type(precision_value))\n",
    "print(type(recall_value))\n",
    "print(type(f1_value))\n",
    "print(type(ruc_curve))\n",
    "print(type(auc_score))\n",
    "print(type(precision_recall_curve))\n",
    "print(type(feature_importance))\n",
    "print(type(model_training_time))\n",
    "print(type(silhouette_score)) \n",
    "print(type(cluster_centers))\n",
    "print(type(elbow_method_results))\n",
    "print(type(cluster_visualisation_plot)) \n",
    "print(type(anomaly_score))\n",
    "print(type(anomaly_detection_plot))\n",
    "print(type(decision_function_values)) \n",
    "print(type(support_vectors))\n",
    "print(type(one_class_svm_plot))"
   ]
  },
  {
   "cell_type": "code",
   "execution_count": null,
   "id": "0ad2a2ea",
   "metadata": {
    "ExecuteTime": {
     "end_time": "2023-11-29T10:12:14.958760Z",
     "start_time": "2023-11-29T10:12:06.774614Z"
    }
   },
   "outputs": [],
   "source": [
    "# call and save to DB\n",
    "insert_model_results_to_db(config, model_name, model_parameters, confusion_matrix, # note the config is the conneciton details, username, pw, host, etc\n",
    "                                accuracy_value, precision_value, recall_value, f1_value, \n",
    "                                ruc_curve, auc_score, precision_recall_curve, feature_importance, model_training_time, \n",
    "                                silhouette_score, cluster_centers, elbow_method_results, \n",
    "                                cluster_visualisation_plot, anomaly_score, anomaly_detection_plot, \n",
    "                                decision_function_values, support_vectors, one_class_svm_plot)"
   ]
  },
  {
   "cell_type": "markdown",
   "id": "82c25089",
   "metadata": {},
   "source": [
    "## Save model"
   ]
  },
  {
   "cell_type": "code",
   "execution_count": null,
   "id": "da5b1ab3",
   "metadata": {
    "ExecuteTime": {
     "end_time": "2023-11-29T10:13:48.759564Z",
     "start_time": "2023-11-29T10:13:48.712565Z"
    }
   },
   "outputs": [],
   "source": [
    "# save model to file.\n",
    "\n",
    "#save folder location\n",
    "model_path = r\"C:\\Users\\Kolobane\\OneDrive\\CIT MSc Data Science Modules\\_Semester Three - Final Project\\Project Two - Network Project\\ML Models\\iso_model_baseline_basic_8.joblib\"\n",
    "\n",
    "# save model\n",
    "dump(iso_model_baseline_basic, model_path)"
   ]
  },
  {
   "cell_type": "markdown",
   "id": "514da404",
   "metadata": {},
   "source": [
    "---"
   ]
  },
  {
   "cell_type": "markdown",
   "id": "c4589228",
   "metadata": {},
   "source": [
    "# **Isolate Forest Model Search: Attempt 3**"
   ]
  },
  {
   "cell_type": "markdown",
   "id": "5c7ce604",
   "metadata": {},
   "source": [
    "Next, we look at grid search to find the best model for Isolate forest.\n",
    "\n",
    "Most influential hyperparameters:\n",
    " - n_estimators: Number of base estimators or trees in the ensemble.\n",
    " - max_samples: Number of samples to draw from the total dataset to train the estimator.\n",
    " - contamination: Represents the porportion of outliers in the dataset. Auto can can be used if unsure\n",
    "     - We know that 13% are attack instances so this value will be used. contamination = 0.13\n",
    " - max-features: The Number of features to draw from the total features to train each base estimator.\n",
    " - bootstramp:Determines to draw samples with replacement or not.\n"
   ]
  },
  {
   "cell_type": "markdown",
   "id": "4521af31",
   "metadata": {},
   "source": [
    "## GridSearch for Isolate Forest"
   ]
  },
  {
   "cell_type": "code",
   "execution_count": null,
   "id": "9b494ec7",
   "metadata": {
    "ExecuteTime": {
     "start_time": "2023-11-29T20:24:38.796Z"
    },
    "scrolled": false
   },
   "outputs": [],
   "source": [
    "# Grid Search options for Isolate Forest\n",
    "\n",
    "n_estimators_options = [100, 200, 300, 400, 500]\n",
    "max_samples_options = [0.25, 0.5, 0.75, \"auto\"]\n",
    "contamination_options = [0.05, 0.1, 0.15, 0.2]\n",
    "\n",
    "best_score = -1\n",
    "best_params = {}\n",
    "\n",
    "for n_estimators in n_estimators_options:\n",
    "    for max_samples in max_samples_options:\n",
    "        for contamination in contamination_options:\n",
    "            clf = IsolationForest(n_estimators=n_estimators, \n",
    "                                  max_samples=max_samples, \n",
    "                                  contamination=contamination, \n",
    "                                  random_state=42)\n",
    "            clf.fit(train_x)\n",
    "            predictions = clf.predict(test_x)\n",
    "            score = silhouette_score(test_x, predictions)\n",
    "\n",
    "            if score > best_score:\n",
    "                best_score = score\n",
    "                best_params = {\n",
    "                    \"n_estimators\": n_estimators, \n",
    "                    \"max_samples\": max_samples, \n",
    "                    \"contamination\": contamination\n",
    "                }\n",
    "\n",
    "print(\"Best Score:\", best_score)\n",
    "print(\"Best Parameters:\", best_params)"
   ]
  },
  {
   "cell_type": "markdown",
   "id": "8394d568",
   "metadata": {},
   "source": [
    "**Results from Best Search attempt 1: bad results. Run greater range of values**\n",
    "define paramters to use in the grid search\n",
    "- n_estimators_options = [200,300,400]\n",
    "- max_samples_options = [0.5, \"auto\"]\n",
    "- contamination = 0.13\n",
    "\n",
    "Best Result is less than the Basic Model - Could be good for testing so will keep for now.\n",
    "\n",
    "Best Score: 0.26775658\n",
    "Best Parameters: {'n_estimators': 300, 'max_samples': 0.5, 'contamination': 0.13}"
   ]
  },
  {
   "cell_type": "markdown",
   "id": "5dbef6dd",
   "metadata": {},
   "source": [
    "**Results from Best Search attempt 1: ??**\n",
    "\n",
    "- n_estimators_options = [100, 200, 300, 400, 500]\n",
    "- max_samples_options = [0.25, 0.5, 0.75, \"auto\"]\n",
    "- contamination_options = [0.05, 0.1, 0.15, 0.2]"
   ]
  },
  {
   "cell_type": "code",
   "execution_count": null,
   "id": "d044f042",
   "metadata": {
    "ExecuteTime": {
     "end_time": "2023-11-28T22:09:54.287534Z",
     "start_time": "2023-11-28T22:09:54.281027Z"
    }
   },
   "outputs": [],
   "source": [
    "# Set paramaters that the best model found\n",
    "best_n_estimators = ?\n",
    "best_max_samples = ?\n",
    "best_contamination= ?\n",
    "\n",
    "iso_model_baseline_best = IsolationForest(n_estimators=best_n_estimators, \n",
    "                                          max_samples=best_max_samples, \n",
    "                                          contamination=best_contamination, \n",
    "                                          random_state=42)"
   ]
  },
  {
   "cell_type": "code",
   "execution_count": null,
   "id": "44415fea",
   "metadata": {
    "ExecuteTime": {
     "end_time": "2023-11-28T22:44:52.801695Z",
     "start_time": "2023-11-28T22:09:55.133887Z"
    },
    "scrolled": true
   },
   "outputs": [],
   "source": [
    "# Fit the model and get the training time.\n",
    "\n",
    "# start timer\n",
    "start_time = time.time()\n",
    "\n",
    "# train the model\n",
    "iso_model_baseline_best.fit(train_x)\n",
    "\n",
    "# end timer\n",
    "end_time = time.time()"
   ]
  },
  {
   "cell_type": "markdown",
   "id": "4388b460",
   "metadata": {},
   "source": [
    "## Explore the Results"
   ]
  },
  {
   "cell_type": "code",
   "execution_count": null,
   "id": "5364bd5c",
   "metadata": {
    "ExecuteTime": {
     "end_time": "2023-11-28T22:47:29.316361Z",
     "start_time": "2023-11-28T22:44:52.801695Z"
    }
   },
   "outputs": [],
   "source": [
    "# Prediations and Evualations\n",
    "predictions = iso_model_baseline_best.predict(test_x)"
   ]
  },
  {
   "cell_type": "code",
   "execution_count": null,
   "id": "bf87a53b",
   "metadata": {
    "ExecuteTime": {
     "end_time": "2023-11-28T22:47:30.590919Z",
     "start_time": "2023-11-28T22:47:29.316361Z"
    }
   },
   "outputs": [],
   "source": [
    "# If you have true labels (test_y), you can evaluate the model\n",
    "print(classification_report(test_y, predictions))"
   ]
  },
  {
   "cell_type": "code",
   "execution_count": null,
   "id": "b3336894",
   "metadata": {
    "ExecuteTime": {
     "end_time": "2023-11-28T22:47:30.606997Z",
     "start_time": "2023-11-28T22:47:30.592920Z"
    }
   },
   "outputs": [],
   "source": [
    "model_name = \"iso_model_baseline_best\""
   ]
  },
  {
   "cell_type": "code",
   "execution_count": null,
   "id": "74c8889b",
   "metadata": {
    "ExecuteTime": {
     "end_time": "2023-11-28T22:47:30.623075Z",
     "start_time": "2023-11-28T22:47:30.608997Z"
    }
   },
   "outputs": [],
   "source": [
    "model_parameters = json.dumps(iso_model_baseline_best.get_params())\n",
    "model_parameters"
   ]
  },
  {
   "cell_type": "code",
   "execution_count": null,
   "id": "eb6a6019",
   "metadata": {
    "ExecuteTime": {
     "end_time": "2023-11-28T22:47:31.241824Z",
     "start_time": "2023-11-28T22:47:30.625074Z"
    }
   },
   "outputs": [],
   "source": [
    "confusion_matrix_results = cm_function(test_y, predictions)\n",
    "confusion_matrix_results"
   ]
  },
  {
   "cell_type": "code",
   "execution_count": null,
   "id": "deda10fc",
   "metadata": {
    "ExecuteTime": {
     "end_time": "2023-11-28T22:47:31.257448Z",
     "start_time": "2023-11-28T22:47:31.241824Z"
    }
   },
   "outputs": [],
   "source": [
    "confusion_matrix = confusion_matrix_results.tolist()\n",
    "confusion_matrix"
   ]
  },
  {
   "cell_type": "code",
   "execution_count": null,
   "id": "8b9819f8",
   "metadata": {
    "ExecuteTime": {
     "end_time": "2023-11-28T22:47:31.273072Z",
     "start_time": "2023-11-28T22:47:31.257448Z"
    }
   },
   "outputs": [],
   "source": [
    "confusion_matrix = json.dumps(confusion_matrix)"
   ]
  },
  {
   "cell_type": "code",
   "execution_count": null,
   "id": "dec5c969",
   "metadata": {
    "ExecuteTime": {
     "end_time": "2023-11-28T22:47:32.210681Z",
     "start_time": "2023-11-28T22:47:31.273072Z"
    }
   },
   "outputs": [],
   "source": [
    "report = classification_report(test_y, predictions, output_dict=True)"
   ]
  },
  {
   "cell_type": "code",
   "execution_count": null,
   "id": "1a66eb7f",
   "metadata": {
    "ExecuteTime": {
     "end_time": "2023-11-28T22:47:32.226315Z",
     "start_time": "2023-11-28T22:47:32.210681Z"
    }
   },
   "outputs": [],
   "source": [
    "accuracy_value = report[\"accuracy\"]\n",
    "accuracy_value "
   ]
  },
  {
   "cell_type": "code",
   "execution_count": null,
   "id": "3387769f",
   "metadata": {
    "ExecuteTime": {
     "end_time": "2023-11-28T22:47:32.241936Z",
     "start_time": "2023-11-28T22:47:32.226315Z"
    }
   },
   "outputs": [],
   "source": [
    "precision_value = report[\"macro avg\"][\"precision\"]\n",
    "precision_value"
   ]
  },
  {
   "cell_type": "code",
   "execution_count": null,
   "id": "f29e6e1f",
   "metadata": {
    "ExecuteTime": {
     "end_time": "2023-11-28T22:47:32.257558Z",
     "start_time": "2023-11-28T22:47:32.241936Z"
    }
   },
   "outputs": [],
   "source": [
    "recall_value = report[\"macro avg\"][\"recall\"]\n",
    "recall_value"
   ]
  },
  {
   "cell_type": "code",
   "execution_count": null,
   "id": "f50760ce",
   "metadata": {
    "ExecuteTime": {
     "end_time": "2023-11-28T22:47:32.273217Z",
     "start_time": "2023-11-28T22:47:32.257558Z"
    }
   },
   "outputs": [],
   "source": [
    "f1_value = report[\"macro avg\"][\"f1-score\"]\n",
    "f1_value "
   ]
  },
  {
   "cell_type": "code",
   "execution_count": null,
   "id": "bed1fcbf",
   "metadata": {
    "ExecuteTime": {
     "end_time": "2023-11-28T22:47:32.288842Z",
     "start_time": "2023-11-28T22:47:32.273217Z"
    }
   },
   "outputs": [],
   "source": [
    "model_training_time = end_time - start_time\n",
    "model_training_time"
   ]
  },
  {
   "cell_type": "code",
   "execution_count": null,
   "id": "b7e8924a",
   "metadata": {
    "ExecuteTime": {
     "end_time": "2023-11-28T22:47:32.320089Z",
     "start_time": "2023-11-28T22:47:32.288842Z"
    }
   },
   "outputs": [],
   "source": [
    "anomaly_scores = iso_model_baseline_best.decision_function(test_x)\n",
    "anomaly_scores"
   ]
  },
  {
   "cell_type": "code",
   "execution_count": null,
   "id": "3952897b",
   "metadata": {
    "ExecuteTime": {
     "end_time": "2023-11-28T22:47:32.320089Z",
     "start_time": "2023-11-28T22:47:32.320089Z"
    }
   },
   "outputs": [],
   "source": [
    "anomaly_scores_json = json.dumps(anomaly_scores.tolist())"
   ]
  },
  {
   "cell_type": "code",
   "execution_count": null,
   "id": "a8abe1d8",
   "metadata": {
    "ExecuteTime": {
     "end_time": "2023-11-28T22:47:32.320089Z",
     "start_time": "2023-11-28T22:47:32.320089Z"
    }
   },
   "outputs": [],
   "source": [
    "anomaly_score = anomaly_scores_json"
   ]
  },
  {
   "cell_type": "code",
   "execution_count": null,
   "id": "8ea263e7",
   "metadata": {
    "ExecuteTime": {
     "end_time": "2023-11-28T22:47:32.320089Z",
     "start_time": "2023-11-28T22:47:32.320089Z"
    }
   },
   "outputs": [],
   "source": [
    "x_axis = test_x.iloc[:, 0] \n",
    "y_axis = test_x.iloc[:, 1]  \n",
    "predictions_array = np.array(predictions)\n",
    "\n",
    "# Create boolean masks\n",
    "normal_points = predictions_array == 0\n",
    "anomalies = predictions_array == 1\n",
    "\n",
    "plt.figure(figsize=(10, 6))\n",
    "plt.scatter(x_axis[normal_points], y_axis[normal_points], color='green', label='Normal')\n",
    "plt.scatter(x_axis[anomalies], y_axis[anomalies], color='red', label='Anomaly')\n",
    "plt.title('Anomaly Detection')\n",
    "plt.xlabel('Feature 1')\n",
    "plt.ylabel('Feature 2')\n",
    "plt.legend()\n",
    "plt.show()"
   ]
  },
  {
   "cell_type": "code",
   "execution_count": null,
   "id": "2d40b713",
   "metadata": {
    "ExecuteTime": {
     "end_time": "2023-11-28T22:47:32.320089Z",
     "start_time": "2023-11-28T22:47:32.320089Z"
    }
   },
   "outputs": [],
   "source": [
    "plot_data = {\n",
    "    \"x_axis\": x_axis.tolist(),  \n",
    "    \"y_axis\": y_axis.tolist(),  \n",
    "    \"normal_points\": normal_points.tolist(),  \n",
    "    \"anomalies\": anomalies.tolist()  \n",
    "}\n",
    "\n",
    "anomaly_detection_plot = json.dumps(plot_data)"
   ]
  },
  {
   "cell_type": "code",
   "execution_count": null,
   "id": "8ac9f98e",
   "metadata": {
    "ExecuteTime": {
     "end_time": "2023-11-28T22:47:32.320089Z",
     "start_time": "2023-11-28T22:47:32.320089Z"
    }
   },
   "outputs": [],
   "source": [
    "silhouette_score = silhouette_score(test_x, predictions)"
   ]
  },
  {
   "cell_type": "code",
   "execution_count": null,
   "id": "3bdea41b",
   "metadata": {
    "ExecuteTime": {
     "end_time": "2023-11-28T22:47:32.320089Z",
     "start_time": "2023-11-28T22:47:32.320089Z"
    }
   },
   "outputs": [],
   "source": [
    "silhouette_score = float(silhouette_score)"
   ]
  },
  {
   "cell_type": "markdown",
   "id": "8766cd6d",
   "metadata": {},
   "source": [
    "## Sent Results to DB"
   ]
  },
  {
   "cell_type": "code",
   "execution_count": null,
   "id": "9e7f9428",
   "metadata": {
    "ExecuteTime": {
     "end_time": "2023-11-28T22:47:32.320089Z",
     "start_time": "2023-11-28T22:47:32.320089Z"
    }
   },
   "outputs": [],
   "source": [
    "# Not needed to send for ISO model\n",
    "ruc_curve = None\n",
    "auc_score = None\n",
    "precision_recall_curve = None\n",
    "feature_importance = None\n",
    "\n",
    "cluster_centers = None\n",
    "elbow_method_results = None\n",
    "cluster_visualisation_plot = None\n",
    "\n",
    "decision_function_values = None\n",
    "support_vectors = None\n",
    "one_class_svm_plot = None"
   ]
  },
  {
   "cell_type": "code",
   "execution_count": null,
   "id": "0da07c67",
   "metadata": {
    "ExecuteTime": {
     "end_time": "2023-11-28T22:47:32.320089Z",
     "start_time": "2023-11-28T22:47:32.320089Z"
    }
   },
   "outputs": [],
   "source": [
    "# test object types\n",
    "\n",
    "print(type(model_name))\n",
    "print(type(model_parameters))\n",
    "print(type(confusion_matrix))\n",
    "print(type(accuracy_value))\n",
    "print(type(precision_value))\n",
    "print(type(recall_value))\n",
    "print(type(f1_value))\n",
    "print(type(model_training_time))\n",
    "print(type(silhouette_score)) \n",
    "print(type(anomaly_score))\n",
    "print(type(anomaly_detection_plot))"
   ]
  },
  {
   "cell_type": "code",
   "execution_count": null,
   "id": "adb29383",
   "metadata": {
    "ExecuteTime": {
     "end_time": "2023-11-28T22:47:32.320089Z",
     "start_time": "2023-11-28T22:47:32.320089Z"
    }
   },
   "outputs": [],
   "source": [
    "# call and save to DB\n",
    "insert_model_results_to_db(config, model_name, model_parameters, confusion_matrix, # note the config is the conneciton details, username, pw, host, etc\n",
    "                                accuracy_value, precision_value, recall_value, f1_value, \n",
    "                                ruc_curve, auc_score, precision_recall_curve, feature_importance, model_training_time, \n",
    "                                silhouette_score, cluster_centers, elbow_method_results, \n",
    "                                cluster_visualisation_plot, anomaly_score, anomaly_detection_plot, \n",
    "                                decision_function_values, support_vectors, one_class_svm_plot)"
   ]
  },
  {
   "cell_type": "markdown",
   "id": "39b7c83c",
   "metadata": {},
   "source": [
    "## Save the best Model"
   ]
  },
  {
   "cell_type": "code",
   "execution_count": null,
   "id": "57a2e99d",
   "metadata": {
    "ExecuteTime": {
     "end_time": "2023-11-24T09:10:13.036161Z",
     "start_time": "2023-11-24T09:10:12.661550Z"
    }
   },
   "outputs": [],
   "source": [
    "# save model to file.\n",
    "\n",
    "#save folder location\n",
    "model_path = r\"C:\\Users\\Kolobane\\OneDrive\\CIT MSc Data Science Modules\\_Semester Three - Final Project\\Project Two - Network Project\\ML Models\\iso_model_baseline_best.joblib\"\n",
    "\n",
    "# save model\n",
    "dump(iso_model_baseline_best, model_path)"
   ]
  },
  {
   "cell_type": "markdown",
   "id": "aa855bd1",
   "metadata": {},
   "source": [
    "---"
   ]
  },
  {
   "cell_type": "markdown",
   "id": "b69163a7",
   "metadata": {},
   "source": [
    "---"
   ]
  },
  {
   "cell_type": "markdown",
   "id": "cd6dec7d",
   "metadata": {},
   "source": [
    "# **One Class SVM model Exploration**"
   ]
  },
  {
   "cell_type": "markdown",
   "id": "78dd7cdb",
   "metadata": {},
   "source": [
    "### Create Normal Data"
   ]
  },
  {
   "cell_type": "code",
   "execution_count": null,
   "id": "1f751754",
   "metadata": {
    "ExecuteTime": {
     "end_time": "2023-12-10T20:34:26.364715Z",
     "start_time": "2023-12-10T20:34:25.432725Z"
    }
   },
   "outputs": [],
   "source": [
    "train_x_normal = train_x[train_y==0]"
   ]
  },
  {
   "cell_type": "code",
   "execution_count": null,
   "id": "46cd1f52",
   "metadata": {
    "ExecuteTime": {
     "end_time": "2023-12-10T20:34:37.454186Z",
     "start_time": "2023-12-10T20:34:37.440202Z"
    },
    "scrolled": true
   },
   "outputs": [],
   "source": [
    "train_x_normal.shape"
   ]
  },
  {
   "cell_type": "markdown",
   "id": "ad535070",
   "metadata": {},
   "source": [
    "The training is taking a huge amount of time. Either running for days or crashing my machine regularlly"
   ]
  },
  {
   "cell_type": "markdown",
   "id": "da0cf98b",
   "metadata": {},
   "source": [
    "#  **One Class SVM Model 1 : 1%**"
   ]
  },
  {
   "cell_type": "code",
   "execution_count": null,
   "id": "3924e05a",
   "metadata": {},
   "outputs": [],
   "source": [
    "# Initialize One-Class SVM # default settings\n",
    "oc_svm = OneClassSVM(kernel=\"linear\", nu=0.1)"
   ]
  },
  {
   "cell_type": "code",
   "execution_count": null,
   "id": "ab9106cc",
   "metadata": {
    "ExecuteTime": {
     "end_time": "2023-12-10T21:22:44.531629Z",
     "start_time": "2023-12-10T21:22:44.157038Z"
    }
   },
   "outputs": [],
   "source": [
    "# Take 1% sample\n",
    "sample_data_1_perc = train_x_normal.sample(frac=0.01, random_state=42)\n",
    "sample_data_1_perc.shape"
   ]
  },
  {
   "cell_type": "code",
   "execution_count": null,
   "id": "30a3e41b",
   "metadata": {
    "ExecuteTime": {
     "end_time": "2023-12-10T21:23:52.085217Z",
     "start_time": "2023-12-10T21:22:45.160856Z"
    }
   },
   "outputs": [],
   "source": [
    "# start timer\n",
    "start_time = time.time()\n",
    "\n",
    "# Train the model only on normal data\n",
    "oc_svm.fit(sample_data_1_perc)\n",
    "\n",
    "end_time = time.time()"
   ]
  },
  {
   "cell_type": "code",
   "execution_count": null,
   "id": "06e24ad6",
   "metadata": {
    "ExecuteTime": {
     "end_time": "2023-12-10T21:23:52.100520Z",
     "start_time": "2023-12-10T21:23:52.087250Z"
    }
   },
   "outputs": [],
   "source": [
    "training_time =  end_time - start_time\n",
    "training_time "
   ]
  },
  {
   "cell_type": "markdown",
   "id": "45e2548e",
   "metadata": {},
   "source": [
    "## Explore Results"
   ]
  },
  {
   "cell_type": "code",
   "execution_count": null,
   "id": "8242bd11",
   "metadata": {
    "ExecuteTime": {
     "end_time": "2023-12-10T21:23:52.116063Z",
     "start_time": "2023-12-10T21:23:52.102523Z"
    }
   },
   "outputs": [],
   "source": [
    "model_name = \"oc_svm_model_baseline_basic_1_perc\""
   ]
  },
  {
   "cell_type": "code",
   "execution_count": null,
   "id": "bb38f422",
   "metadata": {
    "ExecuteTime": {
     "end_time": "2023-12-10T21:23:52.131854Z",
     "start_time": "2023-12-10T21:23:52.119312Z"
    }
   },
   "outputs": [],
   "source": [
    "model_parameters = oc_svm.get_params()"
   ]
  },
  {
   "cell_type": "code",
   "execution_count": null,
   "id": "a4e12d99",
   "metadata": {
    "ExecuteTime": {
     "end_time": "2023-12-10T21:23:52.147338Z",
     "start_time": "2023-12-10T21:23:52.133822Z"
    }
   },
   "outputs": [],
   "source": [
    "model_parameters = json.dumps(model_parameters)\n",
    "model_parameters"
   ]
  },
  {
   "cell_type": "code",
   "execution_count": null,
   "id": "09d7ced8",
   "metadata": {
    "ExecuteTime": {
     "end_time": "2023-12-10T21:24:00.631599Z",
     "start_time": "2023-12-10T21:23:52.148842Z"
    }
   },
   "outputs": [],
   "source": [
    "anomaly_scores = -oc_svm.decision_function(sample_data_1_perc)"
   ]
  },
  {
   "cell_type": "code",
   "execution_count": null,
   "id": "77c6dc88",
   "metadata": {
    "ExecuteTime": {
     "end_time": "2023-12-10T21:24:00.647001Z",
     "start_time": "2023-12-10T21:24:00.632455Z"
    }
   },
   "outputs": [],
   "source": [
    "anomaly_scores"
   ]
  },
  {
   "cell_type": "code",
   "execution_count": null,
   "id": "ee7ddf26",
   "metadata": {
    "ExecuteTime": {
     "end_time": "2023-12-10T21:28:15.302222Z",
     "start_time": "2023-12-10T21:24:00.647972Z"
    }
   },
   "outputs": [],
   "source": [
    "anomaly_scores_test = -oc_svm.decision_function(val_test_x)\n",
    "\n",
    "# get the roc curve and auc\n",
    "fpr, tpr, thresholds = roc_curve(val_test_y, anomaly_scores_test, pos_label=1)\n",
    "roc_auc = auc(fpr, tpr)\n",
    "\n",
    "# print the auc score\n",
    "print(\"AUC: {:.2f}\".format(roc_auc))\n",
    "\n",
    "# plot the roc curve.\n",
    "plt.figure()\n",
    "plt.plot(fpr, tpr, color='darkorange', lw=2, label='ROC curve (area = %0.2f)' % roc_auc)\n",
    "plt.plot([0, 1], [0, 1], color='navy', lw=2, linestyle='--')\n",
    "plt.xlim([0.0, 1.0])\n",
    "plt.ylim([0.0, 1.05])\n",
    "plt.xlabel('False Positive Rate')\n",
    "plt.ylabel('True Positive Rate')\n",
    "plt.title('Receiver Operating Characteristic')\n",
    "plt.legend(loc=\"lower right\")\n",
    "plt.show()"
   ]
  },
  {
   "cell_type": "code",
   "execution_count": null,
   "id": "3578183a",
   "metadata": {
    "ExecuteTime": {
     "end_time": "2023-12-10T21:28:15.536152Z",
     "start_time": "2023-12-10T21:28:15.303221Z"
    }
   },
   "outputs": [],
   "source": [
    "# Send the ROC Curve to the DB as a JSON object.\n",
    "\n",
    "# convert the ROC Curve to JSON\n",
    "roc_data = {\n",
    "    \"fpr\": fpr.tolist(),\n",
    "    \"tpr\": tpr.tolist(),\n",
    "    \"roc_auc\": roc_auc\n",
    "}\n",
    "\n",
    "\n",
    "ruc_curve = json.dumps(roc_data)"
   ]
  },
  {
   "cell_type": "code",
   "execution_count": null,
   "id": "e47f0172",
   "metadata": {
    "ExecuteTime": {
     "end_time": "2023-12-10T21:28:15.551864Z",
     "start_time": "2023-12-10T21:28:15.540288Z"
    }
   },
   "outputs": [],
   "source": [
    "auc_score = float(roc_auc)"
   ]
  },
  {
   "cell_type": "code",
   "execution_count": null,
   "id": "77507734",
   "metadata": {
    "ExecuteTime": {
     "end_time": "2023-12-10T21:28:15.567893Z",
     "start_time": "2023-12-10T21:28:15.552833Z"
    }
   },
   "outputs": [],
   "source": [
    "optimal_idx = np.argmax(tpr - fpr)\n",
    "optimal_threshold = thresholds[optimal_idx]\n",
    "print(\"Optimal Threshold:\", optimal_threshold)"
   ]
  },
  {
   "cell_type": "code",
   "execution_count": null,
   "id": "a7d0be40",
   "metadata": {
    "ExecuteTime": {
     "end_time": "2023-12-10T21:28:16.387282Z",
     "start_time": "2023-12-10T21:28:15.568891Z"
    }
   },
   "outputs": [],
   "source": [
    "# change scores to binary labels using the optial \n",
    "predicted_labels = (anomaly_scores_test > optimal_threshold).astype(int)\n",
    "\n",
    "# get values and confusion matrix\n",
    "conf_matrix = confusion_matrix(val_test_y, predicted_labels)\n",
    "accuracy = accuracy_score(val_test_y, predicted_labels)\n",
    "precision, recall, fscore, _ = precision_recall_fscore_support(val_test_y, predicted_labels, average='binary')\n",
    "\n",
    "# print results\n",
    "print(\"Confusion Matrix:\")\n",
    "print(conf_matrix)\n",
    "confusion_matrix = conf_matrix.tolist()\n",
    "confusion_matrix = json.dumps(confusion_matrix)\n",
    "\n",
    "print(\"\\nAccuracy: {:.2f}\".format(accuracy))\n",
    "accuracy_value = float(accuracy)\n",
    "print(\"Precision: {:.2f}\".format(precision))\n",
    "precision_value = float(precision)\n",
    "print(\"Recall: {:.2f}\".format(recall))\n",
    "recall_value = float(recall)\n",
    "print(\"F1 Score: {:.2f}\".format(fscore))\n",
    "f1_value = float(fscore)"
   ]
  },
  {
   "cell_type": "code",
   "execution_count": null,
   "id": "44fff87a",
   "metadata": {
    "ExecuteTime": {
     "end_time": "2023-12-10T21:12:31.416906Z",
     "start_time": "2023-12-10T21:12:31.399837Z"
    }
   },
   "outputs": [],
   "source": [
    "# # Plot Decision Function Values\n",
    "# plt.scatter(val_test_x.iloc[:, 0], val_test_x.iloc[:, 1], c=anomaly_scores_test, cmap='coolwarm')\n",
    "# plt.colorbar(label='Decision Function Value')\n",
    "# plt.xlabel('Feature 1')\n",
    "# plt.ylabel('Feature 2')\n",
    "# plt.title('Decision Function Values ')\n",
    "# plt.show()"
   ]
  },
  {
   "cell_type": "code",
   "execution_count": null,
   "id": "8711cdef",
   "metadata": {
    "ExecuteTime": {
     "end_time": "2023-12-10T21:12:49.627176Z",
     "start_time": "2023-12-10T21:12:49.613657Z"
    }
   },
   "outputs": [],
   "source": [
    "# # Plot support vector Values\n",
    "# plt.scatter(train_x.iloc[:, 0], train_x.iloc[:, 1], alpha=0.5)\n",
    "# plt.scatter(oc_svm.support_vectors_[:, 0], oc_svm.support_vectors_[:, 1], edgecolor='r', facecolor='none')\n",
    "# plt.xlabel('Feature 1')\n",
    "# plt.ylabel('Feature 2')\n",
    "# plt.title('Support Vectors ')\n",
    "# plt.show()"
   ]
  },
  {
   "cell_type": "code",
   "execution_count": null,
   "id": "a81a19c1",
   "metadata": {
    "ExecuteTime": {
     "end_time": "2023-12-10T21:13:11.045772Z",
     "start_time": "2023-12-10T21:13:11.038345Z"
    }
   },
   "outputs": [],
   "source": [
    "# # plot One-Class SVM results\n",
    "# plt.scatter(val_test_x.iloc[:, 0], val_test_x.iloc[:, 1], c=predicted_labels, cmap='coolwarm')\n",
    "# plt.xlabel('Feature 1')\n",
    "# plt.ylabel('Feature 2')\n",
    "# plt.title('One-Class SVM Results ')\n",
    "# plt.show()"
   ]
  },
  {
   "cell_type": "code",
   "execution_count": null,
   "id": "4e33a993",
   "metadata": {
    "ExecuteTime": {
     "end_time": "2023-12-10T21:28:16.402827Z",
     "start_time": "2023-12-10T21:28:16.388239Z"
    }
   },
   "outputs": [],
   "source": [
    "# values that are not needed.\n",
    "# Random forest\n",
    "precision_recall_curve = None\n",
    "feature_importance = None\n",
    "\n",
    "# Kemans\n",
    "cluster_centers = None\n",
    "elbow_method_results = None\n",
    "cluster_visualisation_plot = None\n",
    "silhouette_score =None\n",
    "\n",
    "# Isolate Forest\n",
    "anomaly_score = None\n",
    "anomaly_detection_plot = None\n",
    "\n",
    "decision_function_values =None\n",
    "one_class_svm_plot =None\n",
    "support_vectors = None"
   ]
  },
  {
   "cell_type": "code",
   "execution_count": null,
   "id": "2d09133c",
   "metadata": {
    "ExecuteTime": {
     "end_time": "2023-12-10T21:28:16.418819Z",
     "start_time": "2023-12-10T21:28:16.403826Z"
    }
   },
   "outputs": [],
   "source": [
    "# test object types\n",
    "\n",
    "print(type(model_name))\n",
    "print(type(model_parameters)) \n",
    "print(type(confusion_matrix)) \n",
    "print(type(accuracy_value)) \n",
    "print(type(precision_value)) \n",
    "print(type(recall_value)) \n",
    "print(type(f1_value)) \n",
    "print(type(ruc_curve)) \n",
    "print(type(auc_score))\n",
    "print(type(precision_recall_curve)) # Not used\n",
    "print(type(feature_importance)) # Not used\n",
    "print(type(model_training_time))\n",
    "print(type(silhouette_score)) # Not used\n",
    "print(type(cluster_centers)) # Not used\n",
    "print(type(elbow_method_results)) # Not used\n",
    "print(type(cluster_visualisation_plot)) # Not used\n",
    "print(type(anomaly_score)) # Not used\n",
    "print(type(anomaly_detection_plot))# Not used\n",
    "print(type(decision_function_values)) # Not used\n",
    "print(type(support_vectors)) # Not used\n",
    "print(type(one_class_svm_plot) )# Not used"
   ]
  },
  {
   "cell_type": "markdown",
   "id": "f03f2ef2",
   "metadata": {},
   "source": [
    "## Sent Results to DB"
   ]
  },
  {
   "cell_type": "code",
   "execution_count": null,
   "id": "d6b2cbd7",
   "metadata": {
    "ExecuteTime": {
     "end_time": "2023-12-10T21:28:17.250667Z",
     "start_time": "2023-12-10T21:28:16.419820Z"
    }
   },
   "outputs": [],
   "source": [
    "# call and save to DB\n",
    "insert_model_results_to_db(config, model_name, model_parameters, confusion_matrix, # note the config is the conneciton details, username, pw, host, etc\n",
    "                                accuracy_value, precision_value, recall_value, f1_value, \n",
    "                                ruc_curve, auc_score, precision_recall_curve, feature_importance, model_training_time, \n",
    "                                silhouette_score, cluster_centers, elbow_method_results, \n",
    "                                cluster_visualisation_plot, anomaly_score, anomaly_detection_plot, \n",
    "                                decision_function_values, support_vectors, one_class_svm_plot)"
   ]
  },
  {
   "cell_type": "markdown",
   "id": "f47ead50",
   "metadata": {},
   "source": [
    "## Save Model"
   ]
  },
  {
   "cell_type": "code",
   "execution_count": null,
   "id": "9469162f",
   "metadata": {
    "ExecuteTime": {
     "end_time": "2023-12-10T21:28:17.266178Z",
     "start_time": "2023-12-10T21:28:17.252667Z"
    }
   },
   "outputs": [],
   "source": [
    "# save model to file.\n",
    "\n",
    "#save folder location\n",
    "model_path = r\"C:\\Users\\Kolobane\\OneDrive\\CIT MSc Data Science Modules\\_Semester Three - Final Project\\Project Two - Network Project\\ML Models\\svm_baseline_model_2.1.joblib\"\n",
    "\n",
    "# save model\n",
    "dump(oc_svm, model_path)"
   ]
  },
  {
   "cell_type": "code",
   "execution_count": null,
   "id": "f537afdb",
   "metadata": {
    "ExecuteTime": {
     "end_time": "2023-12-10T21:28:17.281741Z",
     "start_time": "2023-12-10T21:28:17.267178Z"
    }
   },
   "outputs": [],
   "source": [
    "from sklearn.metrics import confusion_matrix, classification_report, precision_recall_fscore_support\n",
    "from sklearn.metrics import confusion_matrix as cm_function"
   ]
  },
  {
   "cell_type": "markdown",
   "id": "fc9f3e49",
   "metadata": {},
   "source": [
    "---"
   ]
  },
  {
   "cell_type": "markdown",
   "id": "cd5ba296",
   "metadata": {
    "ExecuteTime": {
     "end_time": "2023-11-10T09:59:49.122539Z",
     "start_time": "2023-11-10T09:59:49.117703Z"
    }
   },
   "source": [
    "# **One Class SVM Model 2: 10%**"
   ]
  },
  {
   "cell_type": "code",
   "execution_count": null,
   "id": "35783c12",
   "metadata": {
    "ExecuteTime": {
     "end_time": "2023-12-10T21:29:57.712449Z",
     "start_time": "2023-12-10T21:29:57.696870Z"
    }
   },
   "outputs": [],
   "source": [
    "# Initialize One-Class SVM # default settings\n",
    "oc_svm = OneClassSVM(kernel=\"linear\", nu=0.1)"
   ]
  },
  {
   "cell_type": "code",
   "execution_count": null,
   "id": "80a70ed8",
   "metadata": {
    "ExecuteTime": {
     "start_time": "2023-12-11T10:20:25.896Z"
    }
   },
   "outputs": [],
   "source": [
    "# Take 1% sample\n",
    "sample_data_1_perc = train_x_normal.sample(frac=0.1, random_state=42)\n",
    "sample_data_1_perc.shape"
   ]
  },
  {
   "cell_type": "code",
   "execution_count": null,
   "id": "d0adb44e",
   "metadata": {
    "ExecuteTime": {
     "start_time": "2023-12-11T10:20:26.808Z"
    }
   },
   "outputs": [],
   "source": [
    "# start timer\n",
    "start_time = time.time()\n",
    "\n",
    "# Train the model only on normal data\n",
    "oc_svm.fit(sample_data_1_perc)\n",
    "\n",
    "end_time = time.time()"
   ]
  },
  {
   "cell_type": "code",
   "execution_count": null,
   "id": "efb19d7c",
   "metadata": {
    "ExecuteTime": {
     "start_time": "2023-12-11T10:20:27.360Z"
    }
   },
   "outputs": [],
   "source": [
    "training_time =  end_time - start_time\n",
    "training_time "
   ]
  },
  {
   "cell_type": "markdown",
   "id": "56841794",
   "metadata": {},
   "source": [
    "## Explore Results"
   ]
  },
  {
   "cell_type": "code",
   "execution_count": null,
   "id": "d818e5c5",
   "metadata": {
    "ExecuteTime": {
     "start_time": "2023-12-11T10:20:29.112Z"
    }
   },
   "outputs": [],
   "source": [
    "model_name = \"oc_svm_model_baseline_basic_10_perc\""
   ]
  },
  {
   "cell_type": "code",
   "execution_count": null,
   "id": "b704b7b3",
   "metadata": {
    "ExecuteTime": {
     "start_time": "2023-12-11T10:20:29.672Z"
    }
   },
   "outputs": [],
   "source": [
    "model_parameters = oc_svm.get_params()"
   ]
  },
  {
   "cell_type": "code",
   "execution_count": null,
   "id": "a621ecc6",
   "metadata": {
    "ExecuteTime": {
     "start_time": "2023-12-11T10:20:30.216Z"
    }
   },
   "outputs": [],
   "source": [
    "model_parameters = json.dumps(model_parameters)\n",
    "model_parameters"
   ]
  },
  {
   "cell_type": "code",
   "execution_count": null,
   "id": "37a01285",
   "metadata": {
    "ExecuteTime": {
     "start_time": "2023-12-11T10:20:30.960Z"
    }
   },
   "outputs": [],
   "source": [
    "anomaly_scores = -oc_svm.decision_function(sample_data_1_perc)"
   ]
  },
  {
   "cell_type": "code",
   "execution_count": null,
   "id": "e1ccca05",
   "metadata": {
    "ExecuteTime": {
     "start_time": "2023-12-11T10:20:31.472Z"
    }
   },
   "outputs": [],
   "source": [
    "anomaly_scores"
   ]
  },
  {
   "cell_type": "code",
   "execution_count": null,
   "id": "474492c5",
   "metadata": {
    "ExecuteTime": {
     "start_time": "2023-12-11T10:20:35.089Z"
    }
   },
   "outputs": [],
   "source": [
    "anomaly_scores_test = -oc_svm.decision_function(val_test_x)\n",
    "\n",
    "# get the roc curve and auc\n",
    "fpr, tpr, thresholds = roc_curve(val_test_y, anomaly_scores_test, pos_label=1)\n",
    "roc_auc = auc(fpr, tpr)\n",
    "\n",
    "# print the auc score\n",
    "print(\"AUC: {:.2f}\".format(roc_auc))\n",
    "\n",
    "# plot the roc curve.\n",
    "plt.figure()\n",
    "plt.plot(fpr, tpr, color='darkorange', lw=2, label='ROC curve (area = %0.2f)' % roc_auc)\n",
    "plt.plot([0, 1], [0, 1], color='navy', lw=2, linestyle='--')\n",
    "plt.xlim([0.0, 1.0])\n",
    "plt.ylim([0.0, 1.05])\n",
    "plt.xlabel('False Positive Rate')\n",
    "plt.ylabel('True Positive Rate')\n",
    "plt.title('Receiver Operating Characteristic')\n",
    "plt.legend(loc=\"lower right\")\n",
    "plt.show()"
   ]
  },
  {
   "cell_type": "code",
   "execution_count": null,
   "id": "158be472",
   "metadata": {
    "ExecuteTime": {
     "start_time": "2023-12-11T10:20:37.178Z"
    }
   },
   "outputs": [],
   "source": [
    "# Send the ROC Curve to the DB as a JSON object.\n",
    "\n",
    "# convert the ROC Curve to JSON\n",
    "roc_data = {\n",
    "    \"fpr\": fpr.tolist(),\n",
    "    \"tpr\": tpr.tolist(),\n",
    "    \"roc_auc\": roc_auc\n",
    "}\n",
    "\n",
    "\n",
    "ruc_curve = json.dumps(roc_data)"
   ]
  },
  {
   "cell_type": "code",
   "execution_count": null,
   "id": "9ab9a185",
   "metadata": {
    "ExecuteTime": {
     "start_time": "2023-12-11T10:20:37.728Z"
    }
   },
   "outputs": [],
   "source": [
    "auc_score = float(roc_auc)"
   ]
  },
  {
   "cell_type": "code",
   "execution_count": null,
   "id": "eb704afe",
   "metadata": {
    "ExecuteTime": {
     "start_time": "2023-12-11T10:20:38.184Z"
    }
   },
   "outputs": [],
   "source": [
    "optimal_idx = np.argmax(tpr - fpr)\n",
    "optimal_threshold = thresholds[optimal_idx]\n",
    "print(\"Optimal Threshold:\", optimal_threshold)"
   ]
  },
  {
   "cell_type": "code",
   "execution_count": null,
   "id": "0150c019",
   "metadata": {
    "ExecuteTime": {
     "start_time": "2023-12-11T10:20:40.209Z"
    }
   },
   "outputs": [],
   "source": [
    "# change scores to binary labels using the optial \n",
    "predicted_labels = (anomaly_scores_test > optimal_threshold).astype(int)\n",
    "\n",
    "# get values and confusion matrix\n",
    "conf_matrix = confusion_matrix(val_test_y, predicted_labels)\n",
    "accuracy = accuracy_score(val_test_y, predicted_labels)\n",
    "precision, recall, fscore, _ = precision_recall_fscore_support(val_test_y, predicted_labels, average='binary')\n",
    "\n",
    "# print results\n",
    "print(\"Confusion Matrix:\")\n",
    "print(conf_matrix)\n",
    "confusion_matrix = conf_matrix.tolist()\n",
    "confusion_matrix = json.dumps(confusion_matrix)\n",
    "\n",
    "print(\"\\nAccuracy: {:.2f}\".format(accuracy))\n",
    "accuracy_value = float(accuracy)\n",
    "print(\"Precision: {:.2f}\".format(precision))\n",
    "precision_value = float(precision)\n",
    "print(\"Recall: {:.2f}\".format(recall))\n",
    "recall_value = float(recall)\n",
    "print(\"F1 Score: {:.2f}\".format(fscore))\n",
    "f1_value = float(fscore)"
   ]
  },
  {
   "cell_type": "code",
   "execution_count": null,
   "id": "4386a458",
   "metadata": {
    "ExecuteTime": {
     "start_time": "2023-12-11T10:20:42.489Z"
    }
   },
   "outputs": [],
   "source": [
    "# values that are not needed.\n",
    "# Random forest\n",
    "precision_recall_curve = None\n",
    "feature_importance = None\n",
    "\n",
    "# Kemans\n",
    "cluster_centers = None\n",
    "elbow_method_results = None\n",
    "cluster_visualisation_plot = None\n",
    "silhouette_score =None\n",
    "\n",
    "# Isolate Forest\n",
    "anomaly_score = None\n",
    "anomaly_detection_plot = None\n",
    "\n",
    "decision_function_values =None\n",
    "one_class_svm_plot =None\n",
    "support_vectors = None"
   ]
  },
  {
   "cell_type": "code",
   "execution_count": null,
   "id": "4071f668",
   "metadata": {
    "ExecuteTime": {
     "start_time": "2023-12-11T10:20:44.297Z"
    }
   },
   "outputs": [],
   "source": [
    "# test object types\n",
    "\n",
    "print(type(model_name))\n",
    "print(type(model_parameters)) \n",
    "print(type(confusion_matrix)) \n",
    "print(type(accuracy_value)) \n",
    "print(type(precision_value)) \n",
    "print(type(recall_value)) \n",
    "print(type(f1_value)) \n",
    "print(type(ruc_curve)) \n",
    "print(type(auc_score))\n",
    "print(type(precision_recall_curve)) # Not used\n",
    "print(type(feature_importance)) # Not used\n",
    "print(type(model_training_time))\n",
    "print(type(silhouette_score)) # Not used\n",
    "print(type(cluster_centers)) # Not used\n",
    "print(type(elbow_method_results)) # Not used\n",
    "print(type(cluster_visualisation_plot)) # Not used\n",
    "print(type(anomaly_score)) # Not used\n",
    "print(type(anomaly_detection_plot))# Not used\n",
    "print(type(decision_function_values)) # Not used\n",
    "print(type(support_vectors)) # Not used\n",
    "print(type(one_class_svm_plot) )# Not used"
   ]
  },
  {
   "cell_type": "markdown",
   "id": "462b701a",
   "metadata": {},
   "source": [
    "## Sent Results to DB"
   ]
  },
  {
   "cell_type": "code",
   "execution_count": null,
   "id": "97fc2f48",
   "metadata": {
    "ExecuteTime": {
     "start_time": "2023-12-11T10:20:46.210Z"
    }
   },
   "outputs": [],
   "source": [
    "# call and save to DB\n",
    "insert_model_results_to_db(config, model_name, model_parameters, confusion_matrix, # note the config is the conneciton details, username, pw, host, etc\n",
    "                                accuracy_value, precision_value, recall_value, f1_value, \n",
    "                                ruc_curve, auc_score, precision_recall_curve, feature_importance, model_training_time, \n",
    "                                silhouette_score, cluster_centers, elbow_method_results, \n",
    "                                cluster_visualisation_plot, anomaly_score, anomaly_detection_plot, \n",
    "                                decision_function_values, support_vectors, one_class_svm_plot)"
   ]
  },
  {
   "cell_type": "markdown",
   "id": "2a474d2c",
   "metadata": {},
   "source": [
    "## Save Model"
   ]
  },
  {
   "cell_type": "code",
   "execution_count": null,
   "id": "34e886e5",
   "metadata": {
    "ExecuteTime": {
     "start_time": "2023-12-11T10:20:49.361Z"
    }
   },
   "outputs": [],
   "source": [
    "# save model to file.\n",
    "\n",
    "#save folder location\n",
    "model_path = r\"C:\\Users\\Kolobane\\OneDrive\\CIT MSc Data Science Modules\\_Semester Three - Final Project\\Project Two - Network Project\\ML Models\\svm_baseline_model_2.2.joblib\"\n",
    "\n",
    "# save model\n",
    "dump(oc_svm, model_path)"
   ]
  },
  {
   "cell_type": "code",
   "execution_count": null,
   "id": "94924a39",
   "metadata": {
    "ExecuteTime": {
     "start_time": "2023-12-11T10:21:02.297Z"
    }
   },
   "outputs": [],
   "source": [
    "from sklearn.metrics import confusion_matrix, classification_report, precision_recall_fscore_support\n",
    "from sklearn.metrics import confusion_matrix as cm_function"
   ]
  },
  {
   "cell_type": "markdown",
   "id": "3d7e1cd3",
   "metadata": {},
   "source": [
    "---"
   ]
  },
  {
   "cell_type": "code",
   "execution_count": null,
   "id": "0a9fbcd9",
   "metadata": {},
   "outputs": [],
   "source": []
  },
  {
   "cell_type": "code",
   "execution_count": null,
   "id": "2e12029e",
   "metadata": {},
   "outputs": [],
   "source": []
  },
  {
   "cell_type": "markdown",
   "id": "51e95cd9",
   "metadata": {},
   "source": [
    "# **One Class SVM Model 3: 1% nu=0.17**"
   ]
  },
  {
   "cell_type": "code",
   "execution_count": null,
   "id": "6458576f",
   "metadata": {
    "ExecuteTime": {
     "end_time": "2023-12-11T03:17:24.279325Z",
     "start_time": "2023-12-11T03:17:24.263666Z"
    }
   },
   "outputs": [],
   "source": [
    "# Initialize One-Class SVM # default settings\n",
    "oc_svm = OneClassSVM(kernel=\"linear\", nu=0.17)"
   ]
  },
  {
   "cell_type": "code",
   "execution_count": null,
   "id": "f465405b",
   "metadata": {
    "ExecuteTime": {
     "start_time": "2023-12-11T10:20:25.896Z"
    }
   },
   "outputs": [],
   "source": [
    "# Take 1% sample\n",
    "sample_data_1_perc = train_x_normal.sample(frac=0.01, random_state=42)\n",
    "sample_data_1_perc.shape"
   ]
  },
  {
   "cell_type": "code",
   "execution_count": null,
   "id": "42307754",
   "metadata": {
    "ExecuteTime": {
     "start_time": "2023-12-11T10:20:26.808Z"
    }
   },
   "outputs": [],
   "source": [
    "# start timer\n",
    "start_time = time.time()\n",
    "\n",
    "# Train the model only on normal data\n",
    "oc_svm.fit(sample_data_1_perc)\n",
    "\n",
    "end_time = time.time()"
   ]
  },
  {
   "cell_type": "code",
   "execution_count": null,
   "id": "cbc400cc",
   "metadata": {
    "ExecuteTime": {
     "start_time": "2023-12-11T10:20:27.360Z"
    }
   },
   "outputs": [],
   "source": [
    "training_time =  end_time - start_time\n",
    "training_time "
   ]
  },
  {
   "cell_type": "markdown",
   "id": "f3935541",
   "metadata": {},
   "source": [
    "## Explore Results"
   ]
  },
  {
   "cell_type": "code",
   "execution_count": null,
   "id": "eb3ce5ee",
   "metadata": {
    "ExecuteTime": {
     "start_time": "2023-12-11T10:20:29.112Z"
    }
   },
   "outputs": [],
   "source": [
    "model_name = \"oc_svm_model_baseline_basic_1_perc_nu_017\""
   ]
  },
  {
   "cell_type": "code",
   "execution_count": null,
   "id": "5904dd6b",
   "metadata": {
    "ExecuteTime": {
     "start_time": "2023-12-11T10:20:29.672Z"
    }
   },
   "outputs": [],
   "source": [
    "model_parameters = oc_svm.get_params()"
   ]
  },
  {
   "cell_type": "code",
   "execution_count": null,
   "id": "c26f746a",
   "metadata": {
    "ExecuteTime": {
     "start_time": "2023-12-11T10:20:30.216Z"
    }
   },
   "outputs": [],
   "source": [
    "model_parameters = json.dumps(model_parameters)\n",
    "model_parameters"
   ]
  },
  {
   "cell_type": "code",
   "execution_count": null,
   "id": "127720f6",
   "metadata": {
    "ExecuteTime": {
     "start_time": "2023-12-11T10:20:30.960Z"
    }
   },
   "outputs": [],
   "source": [
    "anomaly_scores = -oc_svm.decision_function(sample_data_1_perc)"
   ]
  },
  {
   "cell_type": "code",
   "execution_count": null,
   "id": "765ea044",
   "metadata": {
    "ExecuteTime": {
     "start_time": "2023-12-11T10:20:31.472Z"
    }
   },
   "outputs": [],
   "source": [
    "anomaly_scores"
   ]
  },
  {
   "cell_type": "code",
   "execution_count": null,
   "id": "fdd2850f",
   "metadata": {
    "ExecuteTime": {
     "start_time": "2023-12-11T10:20:35.089Z"
    }
   },
   "outputs": [],
   "source": [
    "anomaly_scores_test = -oc_svm.decision_function(val_test_x)\n",
    "\n",
    "# get the roc curve and auc\n",
    "fpr, tpr, thresholds = roc_curve(val_test_y, anomaly_scores_test, pos_label=1)\n",
    "roc_auc = auc(fpr, tpr)\n",
    "\n",
    "# print the auc score\n",
    "print(\"AUC: {:.2f}\".format(roc_auc))\n",
    "\n",
    "# plot the roc curve.\n",
    "plt.figure()\n",
    "plt.plot(fpr, tpr, color='darkorange', lw=2, label='ROC curve (area = %0.2f)' % roc_auc)\n",
    "plt.plot([0, 1], [0, 1], color='navy', lw=2, linestyle='--')\n",
    "plt.xlim([0.0, 1.0])\n",
    "plt.ylim([0.0, 1.05])\n",
    "plt.xlabel('False Positive Rate')\n",
    "plt.ylabel('True Positive Rate')\n",
    "plt.title('Receiver Operating Characteristic')\n",
    "plt.legend(loc=\"lower right\")\n",
    "plt.show()"
   ]
  },
  {
   "cell_type": "code",
   "execution_count": null,
   "id": "a2a61bc9",
   "metadata": {
    "ExecuteTime": {
     "start_time": "2023-12-11T10:20:37.178Z"
    }
   },
   "outputs": [],
   "source": [
    "# Send the ROC Curve to the DB as a JSON object.\n",
    "\n",
    "# convert the ROC Curve to JSON\n",
    "roc_data = {\n",
    "    \"fpr\": fpr.tolist(),\n",
    "    \"tpr\": tpr.tolist(),\n",
    "    \"roc_auc\": roc_auc\n",
    "}\n",
    "\n",
    "\n",
    "ruc_curve = json.dumps(roc_data)"
   ]
  },
  {
   "cell_type": "code",
   "execution_count": null,
   "id": "c72d3853",
   "metadata": {
    "ExecuteTime": {
     "start_time": "2023-12-11T10:20:37.728Z"
    }
   },
   "outputs": [],
   "source": [
    "auc_score = float(roc_auc)"
   ]
  },
  {
   "cell_type": "code",
   "execution_count": null,
   "id": "565d7653",
   "metadata": {
    "ExecuteTime": {
     "start_time": "2023-12-11T10:20:38.184Z"
    }
   },
   "outputs": [],
   "source": [
    "optimal_idx = np.argmax(tpr - fpr)\n",
    "optimal_threshold = thresholds[optimal_idx]\n",
    "print(\"Optimal Threshold:\", optimal_threshold)"
   ]
  },
  {
   "cell_type": "code",
   "execution_count": null,
   "id": "697d7848",
   "metadata": {
    "ExecuteTime": {
     "start_time": "2023-12-11T10:20:40.209Z"
    }
   },
   "outputs": [],
   "source": [
    "# change scores to binary labels using the optial \n",
    "predicted_labels = (anomaly_scores_test > optimal_threshold).astype(int)\n",
    "\n",
    "# get values and confusion matrix\n",
    "conf_matrix = confusion_matrix(val_test_y, predicted_labels)\n",
    "accuracy = accuracy_score(val_test_y, predicted_labels)\n",
    "precision, recall, fscore, _ = precision_recall_fscore_support(val_test_y, predicted_labels, average='binary')\n",
    "\n",
    "# print results\n",
    "print(\"Confusion Matrix:\")\n",
    "print(conf_matrix)\n",
    "confusion_matrix = conf_matrix.tolist()\n",
    "confusion_matrix = json.dumps(confusion_matrix)\n",
    "\n",
    "print(\"\\nAccuracy: {:.2f}\".format(accuracy))\n",
    "accuracy_value = float(accuracy)\n",
    "print(\"Precision: {:.2f}\".format(precision))\n",
    "precision_value = float(precision)\n",
    "print(\"Recall: {:.2f}\".format(recall))\n",
    "recall_value = float(recall)\n",
    "print(\"F1 Score: {:.2f}\".format(fscore))\n",
    "f1_value = float(fscore)"
   ]
  },
  {
   "cell_type": "code",
   "execution_count": null,
   "id": "2150aaab",
   "metadata": {
    "ExecuteTime": {
     "start_time": "2023-12-11T10:20:42.489Z"
    }
   },
   "outputs": [],
   "source": [
    "# values that are not needed.\n",
    "# Random forest\n",
    "precision_recall_curve = None\n",
    "feature_importance = None\n",
    "\n",
    "# Kemans\n",
    "cluster_centers = None\n",
    "elbow_method_results = None\n",
    "cluster_visualisation_plot = None\n",
    "silhouette_score =None\n",
    "\n",
    "# Isolate Forest\n",
    "anomaly_score = None\n",
    "anomaly_detection_plot = None\n",
    "\n",
    "decision_function_values =None\n",
    "one_class_svm_plot =None\n",
    "support_vectors = None"
   ]
  },
  {
   "cell_type": "code",
   "execution_count": null,
   "id": "0fbefd1a",
   "metadata": {
    "ExecuteTime": {
     "start_time": "2023-12-11T10:20:44.297Z"
    }
   },
   "outputs": [],
   "source": [
    "# test object types\n",
    "\n",
    "print(type(model_name))\n",
    "print(type(model_parameters)) \n",
    "\n",
    "print(type(confusion_matrix)) \n",
    "print(type(accuracy_value)) \n",
    "print(type(precision_value)) \n",
    "print(type(recall_value)) \n",
    "print(type(f1_value)) \n",
    "\n",
    "print(type(ruc_curve)) \n",
    "print(type(auc_score))\n",
    "\n",
    "print(type(precision_recall_curve)) # Not used\n",
    "print(type(feature_importance)) # Not used\n",
    "\n",
    "print(type(model_training_time))\n",
    "print(type(silhouette_score)) # Not used\n",
    "print(type(cluster_centers)) # Not used\n",
    "print(type(elbow_method_results)) # Not used\n",
    "print(type(cluster_visualisation_plot)) # Not used\n",
    "print(type(anomaly_score)) # Not used\n",
    "print(type(anomaly_detection_plot))# Not used\n",
    "print(type(decision_function_values)) # Not used\n",
    "print(type(support_vectors)) # Not used\n",
    "print(type(one_class_svm_plot) )# Not used"
   ]
  },
  {
   "cell_type": "markdown",
   "id": "e4d2b0d9",
   "metadata": {},
   "source": [
    "## Sent Results to DB"
   ]
  },
  {
   "cell_type": "code",
   "execution_count": null,
   "id": "d9d6ba26",
   "metadata": {
    "ExecuteTime": {
     "start_time": "2023-12-11T10:20:46.210Z"
    }
   },
   "outputs": [],
   "source": [
    "# call and save to DB\n",
    "insert_model_results_to_db(config, model_name, model_parameters, confusion_matrix, # note the config is the conneciton details, username, pw, host, etc\n",
    "                                accuracy_value, precision_value, recall_value, f1_value, \n",
    "                                ruc_curve, auc_score, precision_recall_curve, feature_importance, model_training_time, \n",
    "                                silhouette_score, cluster_centers, elbow_method_results, \n",
    "                                cluster_visualisation_plot, anomaly_score, anomaly_detection_plot, \n",
    "                                decision_function_values, support_vectors, one_class_svm_plot)"
   ]
  },
  {
   "cell_type": "markdown",
   "id": "db7e82df",
   "metadata": {},
   "source": [
    "## Save Model"
   ]
  },
  {
   "cell_type": "code",
   "execution_count": null,
   "id": "d1aa9807",
   "metadata": {
    "ExecuteTime": {
     "start_time": "2023-12-11T10:20:49.361Z"
    }
   },
   "outputs": [],
   "source": [
    "# save model to file.\n",
    "\n",
    "#save folder location\n",
    "model_path = r\"C:\\Users\\Kolobane\\OneDrive\\CIT MSc Data Science Modules\\_Semester Three - Final Project\\Project Two - Network Project\\ML Models\\svm_baseline_model_2.3.joblib\"\n",
    "\n",
    "# save model\n",
    "dump(oc_svm, model_path)"
   ]
  },
  {
   "cell_type": "code",
   "execution_count": null,
   "id": "ffdeae1a",
   "metadata": {
    "ExecuteTime": {
     "start_time": "2023-12-11T10:21:02.297Z"
    }
   },
   "outputs": [],
   "source": [
    "from sklearn.metrics import confusion_matrix, classification_report, precision_recall_fscore_support\n",
    "from sklearn.metrics import confusion_matrix as cm_function"
   ]
  },
  {
   "cell_type": "markdown",
   "id": "293a6a33",
   "metadata": {},
   "source": [
    "---"
   ]
  },
  {
   "cell_type": "markdown",
   "id": "2b36ee61",
   "metadata": {},
   "source": [
    "# **One Class SVM Model 4: 10% nu=0.17**"
   ]
  },
  {
   "cell_type": "code",
   "execution_count": null,
   "id": "eea28ddb",
   "metadata": {
    "ExecuteTime": {
     "start_time": "2023-12-11T10:20:25.178Z"
    }
   },
   "outputs": [],
   "source": [
    "# Initialize One-Class SVM # default settings\n",
    "oc_svm = OneClassSVM(kernel=\"linear\", nu=0.17)"
   ]
  },
  {
   "cell_type": "code",
   "execution_count": null,
   "id": "9453e647",
   "metadata": {
    "ExecuteTime": {
     "start_time": "2023-12-11T10:20:25.896Z"
    }
   },
   "outputs": [],
   "source": [
    "# Take 1% sample\n",
    "sample_data_1_perc = train_x_normal.sample(frac=0.1, random_state=42)\n",
    "sample_data_1_perc.shape"
   ]
  },
  {
   "cell_type": "code",
   "execution_count": null,
   "id": "d577f889",
   "metadata": {
    "ExecuteTime": {
     "start_time": "2023-12-11T10:20:26.808Z"
    }
   },
   "outputs": [],
   "source": [
    "# start timer\n",
    "start_time = time.time()\n",
    "\n",
    "# Train the model only on normal data\n",
    "oc_svm.fit(sample_data_1_perc)\n",
    "\n",
    "end_time = time.time()"
   ]
  },
  {
   "cell_type": "code",
   "execution_count": null,
   "id": "563ba25f",
   "metadata": {
    "ExecuteTime": {
     "start_time": "2023-12-11T10:20:27.360Z"
    }
   },
   "outputs": [],
   "source": [
    "training_time =  end_time - start_time\n",
    "training_time "
   ]
  },
  {
   "cell_type": "markdown",
   "id": "3a1837c4",
   "metadata": {},
   "source": [
    "## Explore Results"
   ]
  },
  {
   "cell_type": "code",
   "execution_count": null,
   "id": "e308f5a3",
   "metadata": {
    "ExecuteTime": {
     "start_time": "2023-12-11T10:20:29.112Z"
    }
   },
   "outputs": [],
   "source": [
    "model_name = \"oc_svm_model_baseline_basic_10_perc_nu_017\""
   ]
  },
  {
   "cell_type": "code",
   "execution_count": null,
   "id": "7f746616",
   "metadata": {
    "ExecuteTime": {
     "start_time": "2023-12-11T10:20:29.672Z"
    }
   },
   "outputs": [],
   "source": [
    "model_parameters = oc_svm.get_params()"
   ]
  },
  {
   "cell_type": "code",
   "execution_count": null,
   "id": "11e49e17",
   "metadata": {
    "ExecuteTime": {
     "start_time": "2023-12-11T10:20:30.216Z"
    }
   },
   "outputs": [],
   "source": [
    "model_parameters = json.dumps(model_parameters)\n",
    "model_parameters"
   ]
  },
  {
   "cell_type": "code",
   "execution_count": null,
   "id": "294c2760",
   "metadata": {
    "ExecuteTime": {
     "start_time": "2023-12-11T10:20:30.960Z"
    }
   },
   "outputs": [],
   "source": [
    "anomaly_scores = -oc_svm.decision_function(sample_data_1_perc)"
   ]
  },
  {
   "cell_type": "code",
   "execution_count": null,
   "id": "d095b662",
   "metadata": {
    "ExecuteTime": {
     "start_time": "2023-12-11T10:20:31.472Z"
    }
   },
   "outputs": [],
   "source": [
    "anomaly_scores"
   ]
  },
  {
   "cell_type": "code",
   "execution_count": null,
   "id": "8e0db177",
   "metadata": {
    "ExecuteTime": {
     "start_time": "2023-12-11T10:20:35.089Z"
    }
   },
   "outputs": [],
   "source": [
    "anomaly_scores_test = -oc_svm.decision_function(val_test_x)\n",
    "\n",
    "# get the roc curve and auc\n",
    "fpr, tpr, thresholds = roc_curve(val_test_y, anomaly_scores_test, pos_label=1)\n",
    "roc_auc = auc(fpr, tpr)\n",
    "\n",
    "# print the auc score\n",
    "print(\"AUC: {:.2f}\".format(roc_auc))\n",
    "\n",
    "# plot the roc curve.\n",
    "plt.figure()\n",
    "plt.plot(fpr, tpr, color='darkorange', lw=2, label='ROC curve (area = %0.2f)' % roc_auc)\n",
    "plt.plot([0, 1], [0, 1], color='navy', lw=2, linestyle='--')\n",
    "plt.xlim([0.0, 1.0])\n",
    "plt.ylim([0.0, 1.05])\n",
    "plt.xlabel('False Positive Rate')\n",
    "plt.ylabel('True Positive Rate')\n",
    "plt.title('Receiver Operating Characteristic')\n",
    "plt.legend(loc=\"lower right\")\n",
    "plt.show()"
   ]
  },
  {
   "cell_type": "code",
   "execution_count": null,
   "id": "a94ce9b1",
   "metadata": {
    "ExecuteTime": {
     "start_time": "2023-12-11T10:20:37.178Z"
    }
   },
   "outputs": [],
   "source": [
    "# Send the ROC Curve to the DB as a JSON object.\n",
    "\n",
    "# convert the ROC Curve to JSON\n",
    "roc_data = {\n",
    "    \"fpr\": fpr.tolist(),\n",
    "    \"tpr\": tpr.tolist(),\n",
    "    \"roc_auc\": roc_auc\n",
    "}\n",
    "\n",
    "\n",
    "ruc_curve = json.dumps(roc_data)"
   ]
  },
  {
   "cell_type": "code",
   "execution_count": null,
   "id": "3feedd17",
   "metadata": {
    "ExecuteTime": {
     "start_time": "2023-12-11T10:20:37.728Z"
    }
   },
   "outputs": [],
   "source": [
    "auc_score = float(roc_auc)"
   ]
  },
  {
   "cell_type": "code",
   "execution_count": null,
   "id": "4e4d7d21",
   "metadata": {
    "ExecuteTime": {
     "start_time": "2023-12-11T10:20:38.184Z"
    }
   },
   "outputs": [],
   "source": [
    "optimal_idx = np.argmax(tpr - fpr)\n",
    "optimal_threshold = thresholds[optimal_idx]\n",
    "print(\"Optimal Threshold:\", optimal_threshold)"
   ]
  },
  {
   "cell_type": "code",
   "execution_count": null,
   "id": "4cad29da",
   "metadata": {
    "ExecuteTime": {
     "start_time": "2023-12-11T10:20:40.209Z"
    }
   },
   "outputs": [],
   "source": [
    "# change scores to binary labels using the optial \n",
    "predicted_labels = (anomaly_scores_test > optimal_threshold).astype(int)\n",
    "\n",
    "# get values and confusion matrix\n",
    "conf_matrix = confusion_matrix(val_test_y, predicted_labels)\n",
    "accuracy = accuracy_score(val_test_y, predicted_labels)\n",
    "precision, recall, fscore, _ = precision_recall_fscore_support(val_test_y, predicted_labels, average='binary')\n",
    "\n",
    "# print results\n",
    "print(\"Confusion Matrix:\")\n",
    "print(conf_matrix)\n",
    "confusion_matrix = conf_matrix.tolist()\n",
    "confusion_matrix = json.dumps(confusion_matrix)\n",
    "\n",
    "print(\"\\nAccuracy: {:.2f}\".format(accuracy))\n",
    "accuracy_value = float(accuracy)\n",
    "print(\"Precision: {:.2f}\".format(precision))\n",
    "precision_value = float(precision)\n",
    "print(\"Recall: {:.2f}\".format(recall))\n",
    "recall_value = float(recall)\n",
    "print(\"F1 Score: {:.2f}\".format(fscore))\n",
    "f1_value = float(fscore)"
   ]
  },
  {
   "cell_type": "code",
   "execution_count": null,
   "id": "d199bdcd",
   "metadata": {
    "ExecuteTime": {
     "start_time": "2023-12-11T10:20:42.489Z"
    }
   },
   "outputs": [],
   "source": [
    "# values that are not needed.\n",
    "# Random forest\n",
    "precision_recall_curve = None\n",
    "feature_importance = None\n",
    "\n",
    "# Kemans\n",
    "cluster_centers = None\n",
    "elbow_method_results = None\n",
    "cluster_visualisation_plot = None\n",
    "silhouette_score =None\n",
    "\n",
    "# Isolate Forest\n",
    "anomaly_score = None\n",
    "anomaly_detection_plot = None\n",
    "\n",
    "decision_function_values =None\n",
    "one_class_svm_plot =None\n",
    "support_vectors = None"
   ]
  },
  {
   "cell_type": "code",
   "execution_count": null,
   "id": "2b0c1bba",
   "metadata": {
    "ExecuteTime": {
     "start_time": "2023-12-11T10:20:44.297Z"
    }
   },
   "outputs": [],
   "source": [
    "# test object types\n",
    "\n",
    "print(type(model_name))\n",
    "print(type(model_parameters)) \n",
    "print(type(confusion_matrix)) \n",
    "print(type(accuracy_value)) \n",
    "print(type(precision_value)) \n",
    "print(type(recall_value)) \n",
    "print(type(f1_value)) \n",
    "print(type(ruc_curve)) \n",
    "print(type(auc_score))\n",
    "print(type(precision_recall_curve)) # Not used\n",
    "print(type(feature_importance)) # Not used\n",
    "print(type(model_training_time))\n",
    "print(type(silhouette_score)) # Not used\n",
    "print(type(cluster_centers)) # Not used\n",
    "print(type(elbow_method_results)) # Not used\n",
    "print(type(cluster_visualisation_plot)) # Not used\n",
    "print(type(anomaly_score)) # Not used\n",
    "print(type(anomaly_detection_plot))# Not used\n",
    "print(type(decision_function_values)) # Not used\n",
    "print(type(support_vectors)) # Not used\n",
    "print(type(one_class_svm_plot) )# Not used"
   ]
  },
  {
   "cell_type": "markdown",
   "id": "2fcdab27",
   "metadata": {},
   "source": [
    "## Sent Results to DB"
   ]
  },
  {
   "cell_type": "code",
   "execution_count": null,
   "id": "7ca9b71f",
   "metadata": {
    "ExecuteTime": {
     "start_time": "2023-12-11T10:20:46.210Z"
    }
   },
   "outputs": [],
   "source": [
    "# call and save to DB\n",
    "insert_model_results_to_db(config, model_name, model_parameters, confusion_matrix, # note the config is the conneciton details, username, pw, host, etc\n",
    "                                accuracy_value, precision_value, recall_value, f1_value, \n",
    "                                ruc_curve, auc_score, precision_recall_curve, feature_importance, model_training_time, \n",
    "                                silhouette_score, cluster_centers, elbow_method_results, \n",
    "                                cluster_visualisation_plot, anomaly_score, anomaly_detection_plot, \n",
    "                                decision_function_values, support_vectors, one_class_svm_plot)"
   ]
  },
  {
   "cell_type": "markdown",
   "id": "020afc7d",
   "metadata": {},
   "source": [
    "## Save Model"
   ]
  },
  {
   "cell_type": "code",
   "execution_count": null,
   "id": "15482ac1",
   "metadata": {
    "ExecuteTime": {
     "start_time": "2023-12-11T10:20:49.361Z"
    }
   },
   "outputs": [],
   "source": [
    "# save model to file.\n",
    "\n",
    "#save folder location\n",
    "model_path = r\"C:\\Users\\Kolobane\\OneDrive\\CIT MSc Data Science Modules\\_Semester Three - Final Project\\Project Two - Network Project\\ML Models\\svm_baseline_model_2.3.joblib\"\n",
    "\n",
    "# save model\n",
    "dump(oc_svm, model_path)"
   ]
  },
  {
   "cell_type": "code",
   "execution_count": null,
   "id": "e076cb4a",
   "metadata": {
    "ExecuteTime": {
     "start_time": "2023-12-11T10:21:02.297Z"
    }
   },
   "outputs": [],
   "source": [
    "from sklearn.metrics import confusion_matrix, classification_report, precision_recall_fscore_support\n",
    "from sklearn.metrics import confusion_matrix as cm_function"
   ]
  },
  {
   "cell_type": "markdown",
   "id": "754c8f7c",
   "metadata": {},
   "source": [
    "---"
   ]
  },
  {
   "cell_type": "markdown",
   "id": "f205e4fe",
   "metadata": {},
   "source": [
    "# **One Class SVM Model 5: 20% nu=0.17**"
   ]
  },
  {
   "cell_type": "code",
   "execution_count": null,
   "id": "d7982903",
   "metadata": {
    "ExecuteTime": {
     "end_time": "2023-12-11T03:35:36.795050Z",
     "start_time": "2023-12-11T03:35:36.779443Z"
    }
   },
   "outputs": [],
   "source": [
    "# Initialize One-Class SVM # default settings\n",
    "oc_svm = OneClassSVM(kernel=\"linear\", nu=0.17)"
   ]
  },
  {
   "cell_type": "code",
   "execution_count": null,
   "id": "8acbaae6",
   "metadata": {
    "ExecuteTime": {
     "end_time": "2023-12-11T03:35:38.416427Z",
     "start_time": "2023-12-11T03:35:36.795050Z"
    },
    "scrolled": true
   },
   "outputs": [],
   "source": [
    "# Take 1% sample\n",
    "sample_data_1_perc = train_x.sample(frac=0.2, random_state=42)\n",
    "sample_data_1_perc.shape"
   ]
  },
  {
   "cell_type": "code",
   "execution_count": null,
   "id": "901ba231",
   "metadata": {
    "ExecuteTime": {
     "start_time": "2023-12-11T10:20:26.808Z"
    }
   },
   "outputs": [],
   "source": [
    "# start timer\n",
    "start_time = time.time()\n",
    "\n",
    "# Train the model only on normal data\n",
    "oc_svm.fit(sample_data_1_perc)\n",
    "\n",
    "end_time = time.time()"
   ]
  },
  {
   "cell_type": "code",
   "execution_count": null,
   "id": "0bf2675f",
   "metadata": {
    "ExecuteTime": {
     "start_time": "2023-12-11T10:20:27.360Z"
    }
   },
   "outputs": [],
   "source": [
    "training_time =  end_time - start_time\n",
    "training_time "
   ]
  },
  {
   "cell_type": "markdown",
   "id": "69490633",
   "metadata": {},
   "source": [
    "## Explore Results"
   ]
  },
  {
   "cell_type": "code",
   "execution_count": null,
   "id": "3849e8f6",
   "metadata": {
    "ExecuteTime": {
     "start_time": "2023-12-11T10:20:29.112Z"
    }
   },
   "outputs": [],
   "source": [
    "model_name = \"oc_svm_model_baseline_basic_20_perc_nu_017\""
   ]
  },
  {
   "cell_type": "code",
   "execution_count": null,
   "id": "159dca59",
   "metadata": {
    "ExecuteTime": {
     "start_time": "2023-12-11T10:20:29.672Z"
    }
   },
   "outputs": [],
   "source": [
    "model_parameters = oc_svm.get_params()"
   ]
  },
  {
   "cell_type": "code",
   "execution_count": null,
   "id": "d30b6cf3",
   "metadata": {
    "ExecuteTime": {
     "start_time": "2023-12-11T10:20:30.216Z"
    }
   },
   "outputs": [],
   "source": [
    "model_parameters = json.dumps(model_parameters)\n",
    "model_parameters"
   ]
  },
  {
   "cell_type": "code",
   "execution_count": null,
   "id": "8b1925e8",
   "metadata": {
    "ExecuteTime": {
     "start_time": "2023-12-11T10:20:30.960Z"
    }
   },
   "outputs": [],
   "source": [
    "anomaly_scores = -oc_svm.decision_function(sample_data_1_perc)"
   ]
  },
  {
   "cell_type": "code",
   "execution_count": null,
   "id": "6a857871",
   "metadata": {
    "ExecuteTime": {
     "start_time": "2023-12-11T10:20:31.472Z"
    }
   },
   "outputs": [],
   "source": [
    "anomaly_scores"
   ]
  },
  {
   "cell_type": "code",
   "execution_count": null,
   "id": "b3f8a862",
   "metadata": {
    "ExecuteTime": {
     "start_time": "2023-12-11T10:20:35.089Z"
    }
   },
   "outputs": [],
   "source": [
    "anomaly_scores_test = -oc_svm.decision_function(val_test_x)\n",
    "\n",
    "# get the roc curve and auc\n",
    "fpr, tpr, thresholds = roc_curve(val_test_y, anomaly_scores_test, pos_label=1)\n",
    "roc_auc = auc(fpr, tpr)\n",
    "\n",
    "# print the auc score\n",
    "print(\"AUC: {:.2f}\".format(roc_auc))\n",
    "\n",
    "# plot the roc curve.\n",
    "plt.figure()\n",
    "plt.plot(fpr, tpr, color='darkorange', lw=2, label='ROC curve (area = %0.2f)' % roc_auc)\n",
    "plt.plot([0, 1], [0, 1], color='navy', lw=2, linestyle='--')\n",
    "plt.xlim([0.0, 1.0])\n",
    "plt.ylim([0.0, 1.05])\n",
    "plt.xlabel('False Positive Rate')\n",
    "plt.ylabel('True Positive Rate')\n",
    "plt.title('Receiver Operating Characteristic')\n",
    "plt.legend(loc=\"lower right\")\n",
    "plt.show()"
   ]
  },
  {
   "cell_type": "code",
   "execution_count": null,
   "id": "e2862a89",
   "metadata": {
    "ExecuteTime": {
     "start_time": "2023-12-11T10:20:37.178Z"
    }
   },
   "outputs": [],
   "source": [
    "# Send the ROC Curve to the DB as a JSON object.\n",
    "\n",
    "# convert the ROC Curve to JSON\n",
    "roc_data = {\n",
    "    \"fpr\": fpr.tolist(),\n",
    "    \"tpr\": tpr.tolist(),\n",
    "    \"roc_auc\": roc_auc\n",
    "}\n",
    "\n",
    "\n",
    "ruc_curve = json.dumps(roc_data)"
   ]
  },
  {
   "cell_type": "code",
   "execution_count": null,
   "id": "7129d83a",
   "metadata": {
    "ExecuteTime": {
     "start_time": "2023-12-11T10:20:37.728Z"
    }
   },
   "outputs": [],
   "source": [
    "auc_score = float(roc_auc)"
   ]
  },
  {
   "cell_type": "code",
   "execution_count": null,
   "id": "9ae53ba1",
   "metadata": {
    "ExecuteTime": {
     "start_time": "2023-12-11T10:20:38.184Z"
    }
   },
   "outputs": [],
   "source": [
    "optimal_idx = np.argmax(tpr - fpr)\n",
    "optimal_threshold = thresholds[optimal_idx]\n",
    "print(\"Optimal Threshold:\", optimal_threshold)"
   ]
  },
  {
   "cell_type": "code",
   "execution_count": null,
   "id": "fcd2cfb6",
   "metadata": {
    "ExecuteTime": {
     "start_time": "2023-12-11T10:20:40.209Z"
    }
   },
   "outputs": [],
   "source": [
    "# change scores to binary labels using the optial \n",
    "predicted_labels = (anomaly_scores_test > optimal_threshold).astype(int)\n",
    "\n",
    "# get values and confusion matrix\n",
    "conf_matrix = confusion_matrix(val_test_y, predicted_labels)\n",
    "accuracy = accuracy_score(val_test_y, predicted_labels)\n",
    "precision, recall, fscore, _ = precision_recall_fscore_support(val_test_y, predicted_labels, average='binary')\n",
    "\n",
    "# print results\n",
    "print(\"Confusion Matrix:\")\n",
    "print(conf_matrix)\n",
    "confusion_matrix = conf_matrix.tolist()\n",
    "confusion_matrix = json.dumps(confusion_matrix)\n",
    "\n",
    "print(\"\\nAccuracy: {:.2f}\".format(accuracy))\n",
    "accuracy_value = float(accuracy)\n",
    "print(\"Precision: {:.2f}\".format(precision))\n",
    "precision_value = float(precision)\n",
    "print(\"Recall: {:.2f}\".format(recall))\n",
    "recall_value = float(recall)\n",
    "print(\"F1 Score: {:.2f}\".format(fscore))\n",
    "f1_value = float(fscore)"
   ]
  },
  {
   "cell_type": "code",
   "execution_count": null,
   "id": "30feb77e",
   "metadata": {
    "ExecuteTime": {
     "start_time": "2023-12-11T10:20:42.489Z"
    }
   },
   "outputs": [],
   "source": [
    "# values that are not needed.\n",
    "# Random forest\n",
    "precision_recall_curve = None\n",
    "feature_importance = None\n",
    "\n",
    "# Kemans\n",
    "cluster_centers = None\n",
    "elbow_method_results = None\n",
    "cluster_visualisation_plot = None\n",
    "silhouette_score =None\n",
    "\n",
    "# Isolate Forest\n",
    "anomaly_score = None\n",
    "anomaly_detection_plot = None\n",
    "\n",
    "decision_function_values =None\n",
    "one_class_svm_plot =None\n",
    "support_vectors = None"
   ]
  },
  {
   "cell_type": "code",
   "execution_count": null,
   "id": "f0370012",
   "metadata": {
    "ExecuteTime": {
     "start_time": "2023-12-11T10:20:44.297Z"
    }
   },
   "outputs": [],
   "source": [
    "# test object types\n",
    "\n",
    "print(type(model_name))\n",
    "print(type(model_parameters)) \n",
    "print(type(confusion_matrix)) \n",
    "print(type(accuracy_value)) \n",
    "print(type(precision_value)) \n",
    "print(type(recall_value)) \n",
    "print(type(f1_value)) \n",
    "print(type(ruc_curve)) \n",
    "print(type(auc_score))\n",
    "print(type(precision_recall_curve)) # Not used\n",
    "print(type(feature_importance)) # Not used\n",
    "print(type(model_training_time))\n",
    "print(type(silhouette_score)) # Not used\n",
    "print(type(cluster_centers)) # Not used\n",
    "print(type(elbow_method_results)) # Not used\n",
    "print(type(cluster_visualisation_plot)) # Not used\n",
    "print(type(anomaly_score)) # Not used\n",
    "print(type(anomaly_detection_plot))# Not used\n",
    "print(type(decision_function_values)) # Not used\n",
    "print(type(support_vectors)) # Not used\n",
    "print(type(one_class_svm_plot) )# Not used"
   ]
  },
  {
   "cell_type": "markdown",
   "id": "5af50b9f",
   "metadata": {},
   "source": [
    "## Sent Results to DB"
   ]
  },
  {
   "cell_type": "code",
   "execution_count": null,
   "id": "1d71bdf0",
   "metadata": {
    "ExecuteTime": {
     "start_time": "2023-12-11T10:20:46.210Z"
    }
   },
   "outputs": [],
   "source": [
    "# call and save to DB\n",
    "insert_model_results_to_db(config, model_name, model_parameters, confusion_matrix, # note the config is the conneciton details, username, pw, host, etc\n",
    "                                accuracy_value, precision_value, recall_value, f1_value, \n",
    "                                ruc_curve, auc_score, precision_recall_curve, feature_importance, model_training_time, \n",
    "                                silhouette_score, cluster_centers, elbow_method_results, \n",
    "                                cluster_visualisation_plot, anomaly_score, anomaly_detection_plot, \n",
    "                                decision_function_values, support_vectors, one_class_svm_plot)"
   ]
  },
  {
   "cell_type": "markdown",
   "id": "05e1ca30",
   "metadata": {},
   "source": [
    "## Save Model"
   ]
  },
  {
   "cell_type": "code",
   "execution_count": null,
   "id": "89a5578f",
   "metadata": {
    "ExecuteTime": {
     "start_time": "2023-12-11T10:20:49.361Z"
    }
   },
   "outputs": [],
   "source": [
    "# save model to file.\n",
    "\n",
    "#save folder location\n",
    "model_path = r\"C:\\Users\\Kolobane\\OneDrive\\CIT MSc Data Science Modules\\_Semester Three - Final Project\\Project Two - Network Project\\ML Models\\svm_baseline_model_2.4.joblib\"\n",
    "\n",
    "# save model\n",
    "dump(oc_svm, model_path)"
   ]
  },
  {
   "cell_type": "code",
   "execution_count": null,
   "id": "9e4a9bdd",
   "metadata": {
    "ExecuteTime": {
     "start_time": "2023-12-11T10:21:02.297Z"
    }
   },
   "outputs": [],
   "source": [
    "from sklearn.metrics import confusion_matrix, classification_report, precision_recall_fscore_support\n",
    "from sklearn.metrics import confusion_matrix as cm_function"
   ]
  },
  {
   "cell_type": "markdown",
   "id": "454726a7",
   "metadata": {},
   "source": [
    "---"
   ]
  },
  {
   "cell_type": "code",
   "execution_count": null,
   "id": "f8c80507",
   "metadata": {
    "ExecuteTime": {
     "start_time": "2023-12-10T21:35:01.227Z"
    }
   },
   "outputs": [],
   "source": [
    "print(\"Full notebook ran and finished with no errors. Yipee!\")"
   ]
  },
  {
   "cell_type": "code",
   "execution_count": 22,
   "id": "1bb1ca25",
   "metadata": {
    "ExecuteTime": {
     "end_time": "2023-12-11T22:21:18.146610Z",
     "start_time": "2023-12-11T22:21:18.137488Z"
    }
   },
   "outputs": [],
   "source": [
    "from sklearn.metrics import confusion_matrix, classification_report, precision_recall_fscore_support"
   ]
  },
  {
   "cell_type": "markdown",
   "id": "596bce9d",
   "metadata": {},
   "source": [
    "# **Incremental SGD Classifer Model**"
   ]
  },
  {
   "cell_type": "code",
   "execution_count": 10,
   "id": "e14a81ec",
   "metadata": {
    "ExecuteTime": {
     "end_time": "2023-12-11T21:20:44.840990Z",
     "start_time": "2023-12-11T21:20:44.826985Z"
    }
   },
   "outputs": [],
   "source": [
    "svm_baseline = SGDClassifier(loss='hinge')"
   ]
  },
  {
   "cell_type": "code",
   "execution_count": 24,
   "id": "470cd757",
   "metadata": {
    "ExecuteTime": {
     "end_time": "2023-12-11T22:23:47.608152Z",
     "start_time": "2023-12-11T22:23:30.936577Z"
    }
   },
   "outputs": [],
   "source": [
    "# get the start time\n",
    "start_time = time.time()\n",
    "\n",
    "svm_baseline.fit(train_x, train_y)\n",
    "\n",
    "# record the end time.\n",
    "end_time = time.time()"
   ]
  },
  {
   "cell_type": "code",
   "execution_count": 25,
   "id": "173e705f",
   "metadata": {
    "ExecuteTime": {
     "end_time": "2023-12-11T22:23:47.764141Z",
     "start_time": "2023-12-11T22:23:47.610154Z"
    }
   },
   "outputs": [],
   "source": [
    "test_predictions = svm_baseline.predict(val_test_x.to_numpy())"
   ]
  },
  {
   "cell_type": "code",
   "execution_count": 26,
   "id": "87000f4a",
   "metadata": {
    "ExecuteTime": {
     "end_time": "2023-12-11T22:23:47.929621Z",
     "start_time": "2023-12-11T22:23:47.766145Z"
    }
   },
   "outputs": [
    {
     "data": {
      "text/plain": [
       "0.933117847655013"
      ]
     },
     "execution_count": 26,
     "metadata": {},
     "output_type": "execute_result"
    }
   ],
   "source": [
    "test_accuracy = accuracy_score(val_test_y, test_predictions)\n",
    "test_accuracy"
   ]
  },
  {
   "cell_type": "code",
   "execution_count": 27,
   "id": "4813eb54",
   "metadata": {
    "ExecuteTime": {
     "end_time": "2023-12-11T22:23:47.945605Z",
     "start_time": "2023-12-11T22:23:47.934912Z"
    }
   },
   "outputs": [
    {
     "data": {
      "text/plain": [
       "16.658982276916504"
      ]
     },
     "execution_count": 27,
     "metadata": {},
     "output_type": "execute_result"
    }
   ],
   "source": [
    "training_time =  end_time - start_time\n",
    "training_time "
   ]
  },
  {
   "cell_type": "markdown",
   "id": "230e0bc0",
   "metadata": {},
   "source": [
    "## Explore Results"
   ]
  },
  {
   "cell_type": "code",
   "execution_count": 28,
   "id": "ab18477b",
   "metadata": {
    "ExecuteTime": {
     "end_time": "2023-12-11T22:23:47.961120Z",
     "start_time": "2023-12-11T22:23:47.948610Z"
    }
   },
   "outputs": [],
   "source": [
    "model_name = \"sgd_svm_model_baseline_basic\""
   ]
  },
  {
   "cell_type": "code",
   "execution_count": 29,
   "id": "db60b67e",
   "metadata": {
    "ExecuteTime": {
     "end_time": "2023-12-11T22:23:47.977156Z",
     "start_time": "2023-12-11T22:23:47.964629Z"
    }
   },
   "outputs": [],
   "source": [
    "model_parameters = svm_baseline.get_params()"
   ]
  },
  {
   "cell_type": "code",
   "execution_count": 30,
   "id": "c72be810",
   "metadata": {
    "ExecuteTime": {
     "end_time": "2023-12-11T22:23:47.992713Z",
     "start_time": "2023-12-11T22:23:47.979224Z"
    }
   },
   "outputs": [
    {
     "data": {
      "text/plain": [
       "'{\"alpha\": 0.0001, \"average\": false, \"class_weight\": null, \"early_stopping\": false, \"epsilon\": 0.1, \"eta0\": 0.0, \"fit_intercept\": true, \"l1_ratio\": 0.15, \"learning_rate\": \"optimal\", \"loss\": \"hinge\", \"max_iter\": 1000, \"n_iter_no_change\": 5, \"n_jobs\": null, \"penalty\": \"l2\", \"power_t\": 0.5, \"random_state\": null, \"shuffle\": true, \"tol\": 0.001, \"validation_fraction\": 0.1, \"verbose\": 0, \"warm_start\": false}'"
      ]
     },
     "execution_count": 30,
     "metadata": {},
     "output_type": "execute_result"
    }
   ],
   "source": [
    "model_parameters = json.dumps(model_parameters)\n",
    "model_parameters"
   ]
  },
  {
   "cell_type": "code",
   "execution_count": 31,
   "id": "9a8344a0",
   "metadata": {
    "ExecuteTime": {
     "end_time": "2023-12-11T22:24:52.404543Z",
     "start_time": "2023-12-11T22:24:52.166307Z"
    }
   },
   "outputs": [
    {
     "data": {
      "text/plain": [
       "array([[1292588,   46437],\n",
       "       [  61492,  213202]], dtype=int64)"
      ]
     },
     "execution_count": 31,
     "metadata": {},
     "output_type": "execute_result"
    }
   ],
   "source": [
    "confusion_matrix_results = cm_function(val_test_y, test_predictions)\n",
    "confusion_matrix_results"
   ]
  },
  {
   "cell_type": "code",
   "execution_count": 33,
   "id": "1a4f4198",
   "metadata": {
    "ExecuteTime": {
     "end_time": "2023-12-11T22:25:12.356686Z",
     "start_time": "2023-12-11T22:25:10.199327Z"
    }
   },
   "outputs": [],
   "source": [
    "report = classification_report(val_test_y,  test_predictions, output_dict=True)"
   ]
  },
  {
   "cell_type": "code",
   "execution_count": 34,
   "id": "f6747476",
   "metadata": {
    "ExecuteTime": {
     "end_time": "2023-12-11T22:25:14.242670Z",
     "start_time": "2023-12-11T22:25:14.231179Z"
    }
   },
   "outputs": [
    {
     "data": {
      "text/plain": [
       "[[1292588, 46437], [61492, 213202]]"
      ]
     },
     "execution_count": 34,
     "metadata": {},
     "output_type": "execute_result"
    }
   ],
   "source": [
    "confusion_matrix = confusion_matrix_results.tolist()\n",
    "confusion_matrix"
   ]
  },
  {
   "cell_type": "code",
   "execution_count": 35,
   "id": "68eecda5",
   "metadata": {
    "ExecuteTime": {
     "end_time": "2023-12-11T22:25:15.946843Z",
     "start_time": "2023-12-11T22:25:15.941335Z"
    }
   },
   "outputs": [],
   "source": [
    "confusion_matrix = json.dumps(confusion_matrix)"
   ]
  },
  {
   "cell_type": "code",
   "execution_count": 38,
   "id": "bc729957",
   "metadata": {
    "ExecuteTime": {
     "end_time": "2023-12-11T22:25:39.203471Z",
     "start_time": "2023-12-11T22:25:37.048175Z"
    }
   },
   "outputs": [],
   "source": [
    "report = classification_report(val_test_y,  test_predictions, output_dict=True)"
   ]
  },
  {
   "cell_type": "code",
   "execution_count": 39,
   "id": "34a7499e",
   "metadata": {
    "ExecuteTime": {
     "end_time": "2023-12-11T22:25:39.579193Z",
     "start_time": "2023-12-11T22:25:39.559154Z"
    }
   },
   "outputs": [
    {
     "data": {
      "text/plain": [
       "0.933117847655013"
      ]
     },
     "execution_count": 39,
     "metadata": {},
     "output_type": "execute_result"
    }
   ],
   "source": [
    "accuracy_value = report[\"accuracy\"]\n",
    "accuracy_value "
   ]
  },
  {
   "cell_type": "code",
   "execution_count": 40,
   "id": "155ba578",
   "metadata": {
    "ExecuteTime": {
     "end_time": "2023-12-11T22:25:40.347989Z",
     "start_time": "2023-12-11T22:25:40.342490Z"
    }
   },
   "outputs": [
    {
     "data": {
      "text/plain": [
       "0.8878677205818821"
      ]
     },
     "execution_count": 40,
     "metadata": {},
     "output_type": "execute_result"
    }
   ],
   "source": [
    "precision_value = report[\"macro avg\"][\"precision\"]\n",
    "precision_value"
   ]
  },
  {
   "cell_type": "code",
   "execution_count": 41,
   "id": "0ebe194f",
   "metadata": {
    "ExecuteTime": {
     "end_time": "2023-12-11T22:25:40.974053Z",
     "start_time": "2023-12-11T22:25:40.965547Z"
    }
   },
   "outputs": [
    {
     "data": {
      "text/plain": [
       "0.870731962603903"
      ]
     },
     "execution_count": 41,
     "metadata": {},
     "output_type": "execute_result"
    }
   ],
   "source": [
    "recall_value = report[\"macro avg\"][\"recall\"]\n",
    "recall_value"
   ]
  },
  {
   "cell_type": "code",
   "execution_count": 42,
   "id": "fdd39a15",
   "metadata": {
    "ExecuteTime": {
     "end_time": "2023-12-11T22:25:41.587676Z",
     "start_time": "2023-12-11T22:25:41.574199Z"
    }
   },
   "outputs": [
    {
     "data": {
      "text/plain": [
       "0.8789678403593513"
      ]
     },
     "execution_count": 42,
     "metadata": {},
     "output_type": "execute_result"
    }
   ],
   "source": [
    "f1_value = report[\"macro avg\"][\"f1-score\"]\n",
    "f1_value "
   ]
  },
  {
   "cell_type": "code",
   "execution_count": 43,
   "id": "d6d826d5",
   "metadata": {
    "ExecuteTime": {
     "end_time": "2023-12-11T22:25:44.138388Z",
     "start_time": "2023-12-11T22:25:44.125581Z"
    },
    "scrolled": true
   },
   "outputs": [
    {
     "data": {
      "text/plain": [
       "16.658982276916504"
      ]
     },
     "execution_count": 43,
     "metadata": {},
     "output_type": "execute_result"
    }
   ],
   "source": [
    "model_training_time = end_time - start_time\n",
    "model_training_time"
   ]
  },
  {
   "cell_type": "markdown",
   "id": "1a3dae80",
   "metadata": {},
   "source": [
    "## Sent Results to DB"
   ]
  },
  {
   "cell_type": "code",
   "execution_count": 52,
   "id": "d32e4cd7",
   "metadata": {
    "ExecuteTime": {
     "end_time": "2023-12-11T22:29:55.110169Z",
     "start_time": "2023-12-11T22:29:55.096618Z"
    }
   },
   "outputs": [],
   "source": [
    "# Not needed to send for ISO model\n",
    "ruc_curve = None\n",
    "auc_score = None\n",
    "precision_recall_curve = None\n",
    "feature_importance = None\n",
    "\n",
    "cluster_centers = None\n",
    "elbow_method_results = None\n",
    "cluster_visualisation_plot = None\n",
    "\n",
    "decision_function_values = None\n",
    "support_vectors = None\n",
    "one_class_svm_plot = None\n",
    "anomaly_score = None\n",
    "anomaly_detection_plot = None\n",
    "silhouette_score = None"
   ]
  },
  {
   "cell_type": "code",
   "execution_count": 53,
   "id": "88e68829",
   "metadata": {
    "ExecuteTime": {
     "end_time": "2023-12-11T22:29:56.941677Z",
     "start_time": "2023-12-11T22:29:56.927165Z"
    }
   },
   "outputs": [
    {
     "name": "stdout",
     "output_type": "stream",
     "text": [
      "<class 'str'>\n",
      "<class 'str'>\n",
      "<class 'str'>\n",
      "<class 'float'>\n",
      "<class 'float'>\n",
      "<class 'float'>\n",
      "<class 'float'>\n",
      "<class 'NoneType'>\n",
      "<class 'NoneType'>\n",
      "<class 'NoneType'>\n",
      "<class 'NoneType'>\n",
      "<class 'float'>\n",
      "<class 'NoneType'>\n",
      "<class 'NoneType'>\n",
      "<class 'NoneType'>\n",
      "<class 'NoneType'>\n",
      "<class 'NoneType'>\n",
      "<class 'NoneType'>\n",
      "<class 'NoneType'>\n",
      "<class 'NoneType'>\n",
      "<class 'NoneType'>\n"
     ]
    }
   ],
   "source": [
    "# test object types\n",
    "\n",
    "print(type(model_name))\n",
    "print(type(model_parameters)) \n",
    "\n",
    "print(type(confusion_matrix)) \n",
    "print(type(accuracy_value)) \n",
    "print(type(precision_value)) \n",
    "print(type(recall_value)) \n",
    "print(type(f1_value)) \n",
    "\n",
    "print(type(ruc_curve)) \n",
    "print(type(auc_score))\n",
    "\n",
    "print(type(precision_recall_curve)) # Not used\n",
    "print(type(feature_importance)) # Not used\n",
    "\n",
    "print(type(model_training_time))\n",
    "print(type(silhouette_score)) # Not used\n",
    "print(type(cluster_centers)) # Not used\n",
    "print(type(elbow_method_results)) # Not used\n",
    "print(type(cluster_visualisation_plot)) # Not used\n",
    "print(type(anomaly_score)) # Not used\n",
    "print(type(anomaly_detection_plot))# Not used\n",
    "print(type(decision_function_values)) # Not used\n",
    "print(type(support_vectors)) # Not used\n",
    "print(type(one_class_svm_plot) )# Not used"
   ]
  },
  {
   "cell_type": "markdown",
   "id": "5784e7dd",
   "metadata": {},
   "source": [
    "## Sent Results to DB"
   ]
  },
  {
   "cell_type": "code",
   "execution_count": 54,
   "id": "f9a9c599",
   "metadata": {
    "ExecuteTime": {
     "end_time": "2023-12-11T22:30:00.543161Z",
     "start_time": "2023-12-11T22:30:00.022310Z"
    }
   },
   "outputs": [
    {
     "name": "stdout",
     "output_type": "stream",
     "text": [
      "The model results have been inserted successfully\n",
      "The Conneciton to MySQL is closed.\n"
     ]
    }
   ],
   "source": [
    "# call and save to DB\n",
    "insert_model_results_to_db(config, model_name, model_parameters, confusion_matrix, # note the config is the conneciton details, username, pw, host, etc\n",
    "                                accuracy_value, precision_value, recall_value, f1_value, \n",
    "                                ruc_curve, auc_score, precision_recall_curve, feature_importance, model_training_time, \n",
    "                                silhouette_score, cluster_centers, elbow_method_results, \n",
    "                                cluster_visualisation_plot, anomaly_score, anomaly_detection_plot, \n",
    "                                decision_function_values, support_vectors, one_class_svm_plot)"
   ]
  },
  {
   "cell_type": "markdown",
   "id": "1239d46c",
   "metadata": {},
   "source": [
    "## Save Model"
   ]
  },
  {
   "cell_type": "code",
   "execution_count": 55,
   "id": "c7e9ba3d",
   "metadata": {
    "ExecuteTime": {
     "end_time": "2023-12-11T22:30:36.027939Z",
     "start_time": "2023-12-11T22:30:36.014511Z"
    }
   },
   "outputs": [
    {
     "data": {
      "text/plain": [
       "['C:\\\\Users\\\\Kolobane\\\\OneDrive\\\\CIT MSc Data Science Modules\\\\_Semester Three - Final Project\\\\Project Two - Network Project\\\\ML Models\\\\sgb_svm_baseline_model.joblib']"
      ]
     },
     "execution_count": 55,
     "metadata": {},
     "output_type": "execute_result"
    }
   ],
   "source": [
    "# save model to file.\n",
    "\n",
    "#save folder location\n",
    "model_path = r\"C:\\Users\\Kolobane\\OneDrive\\CIT MSc Data Science Modules\\_Semester Three - Final Project\\Project Two - Network Project\\ML Models\\sgb_svm_baseline_model.joblib\"\n",
    "\n",
    "# save model\n",
    "dump(svm_baseline, model_path)"
   ]
  },
  {
   "cell_type": "code",
   "execution_count": null,
   "id": "dabbc637",
   "metadata": {
    "ExecuteTime": {
     "start_time": "2023-12-11T10:21:02.297Z"
    }
   },
   "outputs": [],
   "source": [
    "from sklearn.metrics import confusion_matrix, classification_report, precision_recall_fscore_support\n",
    "from sklearn.metrics import confusion_matrix as cm_function"
   ]
  }
 ],
 "metadata": {
  "kernelspec": {
   "display_name": "Python (bscapstone)",
   "language": "python",
   "name": "bscapstone"
  },
  "language_info": {
   "codemirror_mode": {
    "name": "ipython",
    "version": 3
   },
   "file_extension": ".py",
   "mimetype": "text/x-python",
   "name": "python",
   "nbconvert_exporter": "python",
   "pygments_lexer": "ipython3",
   "version": "3.9.18"
  },
  "toc": {
   "base_numbering": 1,
   "nav_menu": {},
   "number_sections": true,
   "sideBar": true,
   "skip_h1_title": false,
   "title_cell": "Table of Contents",
   "title_sidebar": "Contents",
   "toc_cell": false,
   "toc_position": {
    "height": "calc(100% - 180px)",
    "left": "10px",
    "top": "150px",
    "width": "385.957px"
   },
   "toc_section_display": true,
   "toc_window_display": true
  }
 },
 "nbformat": 4,
 "nbformat_minor": 5
}
